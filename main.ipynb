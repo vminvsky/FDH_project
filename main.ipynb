{
 "cells": [
  {
   "cell_type": "markdown",
   "metadata": {},
   "source": [
    "## Travelling through time with the Venice Time Machine"
   ]
  },
  {
   "cell_type": "markdown",
   "metadata": {},
   "source": [
    "### We begin by preparing the dataset"
   ]
  },
  {
   "cell_type": "code",
   "execution_count": 156,
   "metadata": {},
   "outputs": [],
   "source": [
    "import pandas as pd \n",
    "import gzip\n",
    "import numpy as np"
   ]
  },
  {
   "cell_type": "code",
   "execution_count": 2,
   "metadata": {},
   "outputs": [],
   "source": [
    "catastici = gzip.open('catastici.json.gz').read()\n",
    "catastici = catastici.decode(\"utf-8\")\n",
    "catastici_df = pd.read_json(catastici)\n",
    "\n",
    "sommarioni = gzip.open('sommarioni.json.gz').read()\n",
    "cadaster = sommarioni.decode(\"utf-8\")\n",
    "cadaster_df = pd.read_json(cadaster)"
   ]
  },
  {
   "cell_type": "code",
   "execution_count": null,
   "metadata": {},
   "outputs": [],
   "source": [
    "cadaster_df.to_csv(\"data/cadaster_1808.csv\", index=False)\n",
    "catastici_df.to_csv(\"data/catastici_1741.csv\", index=False)"
   ]
  },
  {
   "cell_type": "code",
   "execution_count": null,
   "metadata": {},
   "outputs": [],
   "source": []
  },
  {
   "cell_type": "markdown",
   "metadata": {},
   "source": [
    "## Now we turn to cleaning the data"
   ]
  },
  {
   "cell_type": "markdown",
   "metadata": {},
   "source": [
    "### First, the Cadaster ! "
   ]
  },
  {
   "cell_type": "code",
   "execution_count": 40,
   "metadata": {},
   "outputs": [
    {
     "data": {
      "text/html": [
       "<div>\n",
       "<style scoped>\n",
       "    .dataframe tbody tr th:only-of-type {\n",
       "        vertical-align: middle;\n",
       "    }\n",
       "\n",
       "    .dataframe tbody tr th {\n",
       "        vertical-align: top;\n",
       "    }\n",
       "\n",
       "    .dataframe thead th {\n",
       "        text-align: right;\n",
       "    }\n",
       "</style>\n",
       "<table border=\"1\" class=\"dataframe\">\n",
       "  <thead>\n",
       "    <tr style=\"text-align: right;\">\n",
       "      <th></th>\n",
       "      <th>id</th>\n",
       "      <th>sestiere</th>\n",
       "      <th>parcelNumber</th>\n",
       "      <th>subParcelNumber</th>\n",
       "      <th>correspondanceAustrian</th>\n",
       "      <th>correspondanceItalian</th>\n",
       "      <th>toponym</th>\n",
       "      <th>houseNumber</th>\n",
       "      <th>parcelOwnerText</th>\n",
       "      <th>parcelCategoryText</th>\n",
       "      <th>parcelCategories</th>\n",
       "      <th>parcelOwnershipType</th>\n",
       "      <th>area</th>\n",
       "      <th>bounds</th>\n",
       "    </tr>\n",
       "  </thead>\n",
       "  <tbody>\n",
       "    <tr>\n",
       "      <th>1419</th>\n",
       "      <td>1419</td>\n",
       "      <td>NSM</td>\n",
       "      <td>1038</td>\n",
       "      <td>1</td>\n",
       "      <td>ASM 3168</td>\n",
       "      <td>AISM 3168</td>\n",
       "      <td>SM - Calle del Ridotto</td>\n",
       "      <td>0</td>\n",
       "      <td>NaN</td>\n",
       "      <td>Sottoportico d'accesso alla riva del Canal Gra...</td>\n",
       "      <td>['SOTTOPORTICO']</td>\n",
       "      <td>['COMMUNE']</td>\n",
       "      <td>39.720</td>\n",
       "      <td>[[12.3368982, 45.432319], [12.3369632, 45.4323...</td>\n",
       "    </tr>\n",
       "    <tr>\n",
       "      <th>1478</th>\n",
       "      <td>1478</td>\n",
       "      <td>NSM</td>\n",
       "      <td>1077</td>\n",
       "      <td>1</td>\n",
       "      <td>ASM 1960</td>\n",
       "      <td>AISM 1960</td>\n",
       "      <td>SM - Corte Contarina</td>\n",
       "      <td>0</td>\n",
       "      <td>NaN</td>\n",
       "      <td>Sottoportico pubblico a cui è subalterno il N°...</td>\n",
       "      <td>['SOTTOPORTICO']</td>\n",
       "      <td>['COMMUNE', 'PUBBLICO']</td>\n",
       "      <td>74.947</td>\n",
       "      <td>[[12.33629, 45.4335685], [12.3364486, 45.43370...</td>\n",
       "    </tr>\n",
       "    <tr>\n",
       "      <th>1535</th>\n",
       "      <td>1535</td>\n",
       "      <td>NSM</td>\n",
       "      <td>1107</td>\n",
       "      <td>NaN</td>\n",
       "      <td>non esiste corrispondente</td>\n",
       "      <td>non esiste corrispondente</td>\n",
       "      <td>SM - Corte Contarina</td>\n",
       "      <td>0</td>\n",
       "      <td>NaN</td>\n",
       "      <td>Sottoportico pubblico a cui sono subalterni i ...</td>\n",
       "      <td>['SOTTOPORTICO']</td>\n",
       "      <td>['PUBBLICO']</td>\n",
       "      <td>42.158</td>\n",
       "      <td>[[12.3360675, 45.4337281], [12.3361893, 45.433...</td>\n",
       "    </tr>\n",
       "    <tr>\n",
       "      <th>1624</th>\n",
       "      <td>1624</td>\n",
       "      <td>NSM</td>\n",
       "      <td>1161 1/2</td>\n",
       "      <td>NaN</td>\n",
       "      <td>non esiste corrispondente</td>\n",
       "      <td>non esiste corrispondente</td>\n",
       "      <td>SM - Calle del Carro e Piscina di Frezzeria</td>\n",
       "      <td>0</td>\n",
       "      <td>NaN</td>\n",
       "      <td>Sottoportico pubblico a cui è subalterno con p...</td>\n",
       "      <td>['SOTTOPORTICO']</td>\n",
       "      <td>['PUBBLICO']</td>\n",
       "      <td>24.130</td>\n",
       "      <td>[[12.3355658, 45.4340615], [12.3356403, 45.434...</td>\n",
       "    </tr>\n",
       "  </tbody>\n",
       "</table>\n",
       "</div>"
      ],
      "text/plain": [
       "        id sestiere parcelNumber subParcelNumber     correspondanceAustrian  \\\n",
       "1419  1419      NSM         1038               1                   ASM 3168   \n",
       "1478  1478      NSM         1077               1                   ASM 1960   \n",
       "1535  1535      NSM         1107             NaN  non esiste corrispondente   \n",
       "1624  1624      NSM     1161 1/2             NaN  non esiste corrispondente   \n",
       "\n",
       "          correspondanceItalian                                      toponym  \\\n",
       "1419                  AISM 3168                       SM - Calle del Ridotto   \n",
       "1478                  AISM 1960                         SM - Corte Contarina   \n",
       "1535  non esiste corrispondente                         SM - Corte Contarina   \n",
       "1624  non esiste corrispondente  SM - Calle del Carro e Piscina di Frezzeria   \n",
       "\n",
       "     houseNumber parcelOwnerText  \\\n",
       "1419           0             NaN   \n",
       "1478           0             NaN   \n",
       "1535           0             NaN   \n",
       "1624           0             NaN   \n",
       "\n",
       "                                     parcelCategoryText  parcelCategories  \\\n",
       "1419  Sottoportico d'accesso alla riva del Canal Gra...  ['SOTTOPORTICO']   \n",
       "1478  Sottoportico pubblico a cui è subalterno il N°...  ['SOTTOPORTICO']   \n",
       "1535  Sottoportico pubblico a cui sono subalterni i ...  ['SOTTOPORTICO']   \n",
       "1624  Sottoportico pubblico a cui è subalterno con p...  ['SOTTOPORTICO']   \n",
       "\n",
       "          parcelOwnershipType    area  \\\n",
       "1419              ['COMMUNE']  39.720   \n",
       "1478  ['COMMUNE', 'PUBBLICO']  74.947   \n",
       "1535             ['PUBBLICO']  42.158   \n",
       "1624             ['PUBBLICO']  24.130   \n",
       "\n",
       "                                                 bounds  \n",
       "1419  [[12.3368982, 45.432319], [12.3369632, 45.4323...  \n",
       "1478  [[12.33629, 45.4335685], [12.3364486, 45.43370...  \n",
       "1535  [[12.3360675, 45.4337281], [12.3361893, 45.433...  \n",
       "1624  [[12.3355658, 45.4340615], [12.3356403, 45.434...  "
      ]
     },
     "execution_count": 40,
     "metadata": {},
     "output_type": "execute_result"
    }
   ],
   "source": [
    "cadaster = pd.read_csv(\"data/cadaster_1808.csv\")\n",
    "\n",
    "# check if cadaster contains NA\n",
    "# we find that there are 737 rows where the parcel owner text is None\n",
    "cadaster[cadaster['parcelOwnerText'].isna()].head(4)"
   ]
  },
  {
   "cell_type": "code",
   "execution_count": 41,
   "metadata": {},
   "outputs": [],
   "source": [
    "# we will drop those rows \n",
    "cadaster_nn = cadaster.dropna(subset=['parcelOwnerText'])"
   ]
  },
  {
   "cell_type": "code",
   "execution_count": 42,
   "metadata": {},
   "outputs": [],
   "source": [
    "# what words appear in the parcel owner text?\n",
    "import matplotlib.pyplot as plt \n",
    "from sklearn.feature_extraction.text import CountVectorizer\n",
    "\n",
    "vectorizer = CountVectorizer(min_df=20)\n",
    "X = vectorizer.fit_transform(cadaster_nn['parcelOwnerText'])\n",
    "X = X.toarray()\n",
    "word_counts = pd.DataFrame(X, columns = vectorizer.get_feature_names())"
   ]
  },
  {
   "cell_type": "code",
   "execution_count": 43,
   "metadata": {},
   "outputs": [
    {
     "data": {
      "text/plain": [
       "di             4762\n",
       "giovanni       3907\n",
       "quondam        3767\n",
       "antonio        2895\n",
       "suddetto       2237\n",
       "fratelli       2146\n",
       "pietro         2122\n",
       "francesco      2066\n",
       "venezia        1609\n",
       "giuseppe       1544\n",
       "della          1360\n",
       "indivisi       1147\n",
       "alvise         1119\n",
       "battista       1061\n",
       "giacomo        1022\n",
       "maria          1021\n",
       "del             982\n",
       "gerolamo        972\n",
       "suddetta        941\n",
       "provenienza     882\n",
       "domenico        844\n",
       "suddetti        739\n",
       "angelo          733\n",
       "andrea          700\n",
       "citta           663\n",
       "marco           660\n",
       "possessori      645\n",
       "vedova          625\n",
       "vincenzo        546\n",
       "comune          518\n",
       "dtype: int64"
      ]
     },
     "execution_count": 43,
     "metadata": {},
     "output_type": "execute_result"
    }
   ],
   "source": [
    "# we find there are a lot of words we do not want / need\n",
    "word_counts.sum(axis=0).sort_values(ascending=False).head(30)"
   ]
  },
  {
   "cell_type": "markdown",
   "metadata": {},
   "source": [
    "### Fixing the Suddetto issue"
   ]
  },
  {
   "cell_type": "code",
   "execution_count": 44,
   "metadata": {},
   "outputs": [],
   "source": [
    "sudet = cadaster[cadaster['parcelOwnerText'].str.contains(r\"suddet|sudet|Suddet\", case=False, na = False)]"
   ]
  },
  {
   "cell_type": "code",
   "execution_count": null,
   "metadata": {},
   "outputs": [],
   "source": []
  },
  {
   "cell_type": "code",
   "execution_count": 45,
   "metadata": {},
   "outputs": [],
   "source": [
    "# we get he ids of which people contain suddetto \n",
    "suddeto_ids = sudet['id'].unique()\n"
   ]
  },
  {
   "cell_type": "code",
   "execution_count": 46,
   "metadata": {},
   "outputs": [],
   "source": [
    "pd.options.mode.chained_assignment = None  # default='warn'\n",
    "\n",
    "for s in suddeto_ids:\n",
    "    cadaster.loc[cadaster.index == s,'parcelOwnerText'] = cadaster.loc[cadaster.index == s-1,'parcelOwnerText']"
   ]
  },
  {
   "cell_type": "code",
   "execution_count": 47,
   "metadata": {},
   "outputs": [],
   "source": [
    "# depending on the region, the last name will be capitalized\n",
    "# extract the surname\n",
    "CN = cadaster[cadaster['toponym'].apply(lambda x: str(x)[0:2]) == 'CN']\n",
    "not_CN = cadaster[~(cadaster['toponym'].apply(lambda x: str(x)[0:2]) == 'CN')]"
   ]
  },
  {
   "cell_type": "code",
   "execution_count": 49,
   "metadata": {},
   "outputs": [],
   "source": [
    "not_CN['parcelOwnerText'] = not_CN['parcelOwnerText'].astype(str).apply(lambda x: ''.join([c for c in x if c.isupper() or c == \" \"]).replace(\"  \", \" \"))"
   ]
  },
  {
   "cell_type": "code",
   "execution_count": 50,
   "metadata": {},
   "outputs": [],
   "source": [
    "cadaster = CN.append(not_CN)"
   ]
  },
  {
   "cell_type": "code",
   "execution_count": 64,
   "metadata": {},
   "outputs": [],
   "source": [
    "# we'll drop the empty rows\n",
    "cadaster =cadaster.dropna(subset = ['parcelOwnerText'])\n",
    "cadaster = cadaster[cadaster['parcelOwnerText'] != '']"
   ]
  },
  {
   "cell_type": "markdown",
   "metadata": {},
   "source": [
    "## Say hello to our fuzzy friend\n",
    "First we'll import the known Venetian names"
   ]
  },
  {
   "cell_type": "code",
   "execution_count": 67,
   "metadata": {
    "collapsed": true
   },
   "outputs": [
    {
     "name": "stderr",
     "output_type": "stream",
     "text": [
      "<ipython-input-67-14af1471959b>:1: ParserWarning: Falling back to the 'python' engine because the 'c' engine does not support regex separators (separators > 1 char and different from '\\s+' are interpreted as regex); you can avoid this warning by specifying engine='python'.\n",
      "  list_family_names = pd.read_csv(\"https://raw.githubusercontent.com/vminvsky/FDH_project/hannah's-branch/data/Venice_list_of_names.csv\", sep='\\t\"')\n"
     ]
    }
   ],
   "source": [
    "list_family_names = pd.read_csv(\"https://raw.githubusercontent.com/vminvsky/FDH_project/hannah's-branch/data/Venice_list_of_names.csv\", sep='\\t\"')\n",
    "list_family_names = list_family_names.apply(lambda x: x.str.replace(\"\\\"\", \"\"))\n",
    "list_family_names.columns = [ 'family', '1808', 'Noble', 'Citoyen', 'famille.12e.siecle']\n",
    "list_family_names.index = list_family_names.index.map(lambda x: x.replace(\"\\\"\", \"\"))"
   ]
  },
  {
   "cell_type": "code",
   "execution_count": 68,
   "metadata": {},
   "outputs": [],
   "source": [
    "family_name_options = list_family_names['family'].values"
   ]
  },
  {
   "cell_type": "code",
   "execution_count": 69,
   "metadata": {
    "scrolled": true
   },
   "outputs": [
    {
     "name": "stderr",
     "output_type": "stream",
     "text": [
      "C:\\Users\\Venia\\anaconda3\\lib\\site-packages\\fuzzywuzzy\\fuzz.py:11: UserWarning: Using slow pure-python SequenceMatcher. Install python-Levenshtein to remove this warning\n",
      "  warnings.warn('Using slow pure-python SequenceMatcher. Install python-Levenshtein to remove this warning')\n",
      "WARNING:root:Applied processor reduces input query to empty string, all comparisons will have score 0. [Query: ' ']\n",
      "WARNING:root:Applied processor reduces input query to empty string, all comparisons will have score 0. [Query: '  ']\n",
      "WARNING:root:Applied processor reduces input query to empty string, all comparisons will have score 0. [Query: ' ']\n"
     ]
    }
   ],
   "source": [
    "# now we'll apply our favourite fuzzy friend ;)\n",
    "from fuzzywuzzy import fuzz, process\n",
    "\n",
    "cadaster['OwnerExtracted'] = cadaster['parcelOwnerText'].apply(lambda x: process.extractOne(x,family_name_options, scorer=fuzz.token_set_ratio))"
   ]
  },
  {
   "cell_type": "code",
   "execution_count": null,
   "metadata": {},
   "outputs": [],
   "source": []
  },
  {
   "cell_type": "code",
   "execution_count": 72,
   "metadata": {},
   "outputs": [],
   "source": [
    "cadaster.to_csv(\"data/cadaster_clean.csv\",index=False)"
   ]
  },
  {
   "cell_type": "markdown",
   "metadata": {},
   "source": [
    "### Now onto the Catastici \n",
    "Since there is no capitalization structure, this becomes a little difficult. \n",
    "\n",
    "Also, side note, but whoever extracted and documented the data needs to be fired. "
   ]
  },
  {
   "cell_type": "code",
   "execution_count": 73,
   "metadata": {},
   "outputs": [],
   "source": [
    "catastici = pd.read_csv('data/catastici_1741.csv')"
   ]
  },
  {
   "cell_type": "code",
   "execution_count": 74,
   "metadata": {},
   "outputs": [],
   "source": [
    "catastici['entryOwnerText_l'] = catastici['entryOwnerText'].apply(lambda x: str(x).lower())\n",
    "catastici['entryTenantText_l'] = catastici['entryTenantText'].apply(lambda x: str(x).lower())"
   ]
  },
  {
   "cell_type": "code",
   "execution_count": 75,
   "metadata": {},
   "outputs": [],
   "source": [
    "catastici['TenantExtracted'] = catastici['entryTenantText_l'].apply(lambda x: process.extractOne(x,family_name_options, scorer=fuzz.token_set_ratio))\n",
    "catastici['OwnerExtracted'] = catastici['entryOwnerText_l'].apply(lambda x: process.extractOne(x,family_name_options, scorer=fuzz.token_set_ratio))"
   ]
  },
  {
   "cell_type": "code",
   "execution_count": 77,
   "metadata": {},
   "outputs": [],
   "source": [
    "catastici.to_csv('data/catastici_clean.csv', index=False)"
   ]
  },
  {
   "cell_type": "code",
   "execution_count": 81,
   "metadata": {},
   "outputs": [],
   "source": [
    "cad_name_cols = ['OwnerExtracted']\n",
    "cat_name_cols = ['OwnerExtracted','TenantExtracted']"
   ]
  },
  {
   "cell_type": "code",
   "execution_count": 126,
   "metadata": {},
   "outputs": [],
   "source": [
    "for col in cad_name_cols:\n",
    "    cadaster[col+\"Clean\"] = cadaster[col].apply(lambda x: x[0] if x[1] > 95 else None)\n",
    "    cadaster[col+'Clean'] = cadaster[col+\"Clean\"].apply(lambda x: x if x != 'di' and x != 'de' and x != \"del\" and x != \"da\" else None)"
   ]
  },
  {
   "cell_type": "code",
   "execution_count": 128,
   "metadata": {},
   "outputs": [],
   "source": [
    "for col in cat_name_cols:\n",
    "    catastici[col+\"Clean\"] = catastici[col].apply(lambda x: x[0] if x[1] > 95 else None)\n",
    "    catastici[col+'Clean'] = catastici[col+\"Clean\"].apply(lambda x: x if x != 'di' and x != 'de' and x!= \"del\" and x != \"da\"  else None)"
   ]
  },
  {
   "cell_type": "code",
   "execution_count": 129,
   "metadata": {},
   "outputs": [],
   "source": [
    "cadaster.to_csv(\"data/cadaster2.csv\",index=False)\n",
    "catastici.to_csv(\"data/catastici2.csv\", index=False)"
   ]
  },
  {
   "cell_type": "code",
   "execution_count": 130,
   "metadata": {},
   "outputs": [],
   "source": [
    "# merge catastici onto cadaster for increased data"
   ]
  },
  {
   "cell_type": "code",
   "execution_count": 131,
   "metadata": {},
   "outputs": [],
   "source": [
    "catastici['cadaster1808ClosestParcel']=catastici['cadaster1808ClosestParcel'].astype(str)"
   ]
  },
  {
   "cell_type": "code",
   "execution_count": 132,
   "metadata": {},
   "outputs": [],
   "source": [
    "catastici_merged = catastici.merge(cadaster[['parcelNumber','area']].drop_duplicates(),left_on='cadaster1808ClosestParcel', right_on = 'parcelNumber', how = 'left')"
   ]
  },
  {
   "cell_type": "code",
   "execution_count": null,
   "metadata": {},
   "outputs": [],
   "source": []
  },
  {
   "cell_type": "code",
   "execution_count": 297,
   "metadata": {},
   "outputs": [],
   "source": [
    "catastici_merged = catastici_merged[~catastici_merged['OwnerExtractedClean'].astype(str).str.contains('donÃ')]"
   ]
  },
  {
   "cell_type": "code",
   "execution_count": 298,
   "metadata": {},
   "outputs": [
    {
     "data": {
      "text/plain": [
       "OwnerExtractedClean\n",
       "contarini     1855844.181\n",
       "giustinian     989833.525\n",
       "grimani        973071.137\n",
       "michiel        880636.589\n",
       "giorgio        711305.392\n",
       "piero          706904.508\n",
       "fratello       693628.980\n",
       "zorzi          659646.111\n",
       "querini        639517.239\n",
       "capitolo       625208.981\n",
       "Name: area, dtype: float64"
      ]
     },
     "execution_count": 298,
     "metadata": {},
     "output_type": "execute_result"
    }
   ],
   "source": [
    "catastici_merged.groupby('OwnerExtractedClean')['area'].sum().sort_values(ascending=False).head(10)"
   ]
  },
  {
   "cell_type": "code",
   "execution_count": 307,
   "metadata": {},
   "outputs": [],
   "source": [
    "catastici_merged_nd = catastici_merged.drop_duplicates(subset=['cadaster1808Correspondance'])"
   ]
  },
  {
   "cell_type": "code",
   "execution_count": 317,
   "metadata": {},
   "outputs": [],
   "source": [
    "owner_counts = catastici_merged_nd.groupby('OwnerExtractedClean')['area'].count().sort_values(ascending=False).head(20)"
   ]
  },
  {
   "cell_type": "code",
   "execution_count": null,
   "metadata": {},
   "outputs": [],
   "source": []
  },
  {
   "cell_type": "code",
   "execution_count": null,
   "metadata": {},
   "outputs": [],
   "source": []
  },
  {
   "cell_type": "code",
   "execution_count": null,
   "metadata": {},
   "outputs": [],
   "source": [
    "fig, ax = plt.subplots(figsize = (7,5))\n",
    "# add average line horiz\n",
    "ax.bar(owner_counts.index, owner_counts.values)"
   ]
  },
  {
   "cell_type": "code",
   "execution_count": 285,
   "metadata": {},
   "outputs": [],
   "source": [
    "ownership_tenant = catastici_merged.groupby(['OwnerExtractedClean','TenantExtractedClean']).agg({'id':'count','area':'sum'}).reset_index()\n",
    "ownership_tenant['TotalCount'] = ownership_tenant.groupby('OwnerExtractedClean')['id'].transform(\"count\")\n",
    "ownership_tenant['TotalArea'] = ownership_tenant.groupby('OwnerExtractedClean')['area'].transform(\"sum\")\n",
    "ownership_tenant['portion'] = ownership_tenant['id']/ownership_tenant['TotalCount']"
   ]
  },
  {
   "cell_type": "code",
   "execution_count": 227,
   "metadata": {},
   "outputs": [],
   "source": [
    "# limit to families who are likely to be royalty\n",
    "ownership_tenant_limited = ownership_tenant[ownership_tenant['TotalCount'] > 10].sort_values(by='portion',ascending=False)"
   ]
  },
  {
   "cell_type": "code",
   "execution_count": 326,
   "metadata": {},
   "outputs": [],
   "source": [
    "# let's see who owns the most land per property\n",
    "ownership_tenant_limited['areaPerProperty'] = ownership_tenant_limited['TotalArea'] / ownership_tenant_limited['TotalCount']\n",
    "ownership_tenant_limited = ownership_tenant_limited.drop_duplicates(subset='OwnerExtractedClean').sort_values(by = 'areaPerProperty',ascending=False).head(10)"
   ]
  },
  {
   "cell_type": "code",
   "execution_count": 228,
   "metadata": {},
   "outputs": [],
   "source": []
  },
  {
   "cell_type": "code",
   "execution_count": 362,
   "metadata": {},
   "outputs": [
    {
     "data": {
      "image/png": "[encoded data removed]",
      "text/plain": [
       "<Figure size 864x720 with 3 Axes>"
      ]
     },
     "metadata": {
      "needs_background": "light"
     },
     "output_type": "display_data"
    }
   ],
   "source": [
    "import matplotlib.pyplot as plt\n",
    "from matplotlib.gridspec import GridSpec\n",
    "\n",
    "\n",
    "def format_axes(fig):\n",
    "    for i, ax in enumerate(fig.axes):\n",
    "#         ax.text(0.5, 0.5, \"ax%d\" % (i+1), va=\"center\", ha=\"center\")\n",
    "#         ax.tick_params(labelbottom=True, labelleft=True)\n",
    "        ax.spines['top'].set_visible(False)\n",
    "        ax.spines['right'].set_visible(False)\n",
    "        ax.spines['bottom'].set_visible(False)\n",
    "        ax.spines['left'].set_visible(False)\n",
    "        ax.tick_params(axis='x',labelrotation=45)\n",
    "\n",
    "fig = plt.figure(constrained_layout=True, figsize = (12,10))\n",
    "\n",
    "gs = GridSpec(2, 2, figure=fig)\n",
    "ax1 = fig.add_subplot(gs[0, :])\n",
    "ax1.bar(owner_counts.index,owner_counts.values)\n",
    "# ax1.set_title(\"Properties owned by family\")\n",
    "ax1.set_ylabel(\"Count\")\n",
    "ax2.set_title(\"Properties by owner\")\n",
    "\n",
    "\n",
    "# identical to ax1 = plt.subplot(gs.new_subplotspec((0, 0), colspan=3))\n",
    "ax2 = fig.add_subplot(gs[1, 0])\n",
    "area_data = ownership_tenant_limited.sort_values(by='TotalArea',ascending=False).head(10)\n",
    "ax2.bar(area_data.OwnerExtractedClean,area_data.TotalArea)\n",
    "# ax2.set_title(\"Area owned by families\")\n",
    "ax2.set_ylabel(\"Area (m^2)\")\n",
    "ax2.set_title(\"Area by Owner\")\n",
    "\n",
    "ax3 = fig.add_subplot(gs[1:, 1])\n",
    "proportion_data = ownership_tenant_limited.sort_values(by='areaPerProperty',ascending=False).head(10)\n",
    "\n",
    "ax3.bar(proportion_data.OwnerExtractedClean,proportion_data.areaPerProperty)\n",
    "ax3.set_title(\"Area per property (meters/property)\")\n",
    "ax3.set_ylabel(\"m^2 / property\")\n",
    "\n",
    "fig.suptitle(\"Catastici: Top 10 count, area, average area\", fontsize =15)\n",
    "format_axes(fig)\n",
    "\n",
    "plt.savefig(\"CatasticiOwnerData.png\", dpi = 300)\n"
   ]
  },
  {
   "cell_type": "code",
   "execution_count": 148,
   "metadata": {},
   "outputs": [],
   "source": [
    "strongest_relationships = ownership_tenant_limited.groupby('OwnerExtractedClean').head(1)\n",
    "\n",
    "# we'll use PMI as a measure of surprise\n",
    "id_count = ownership_tenant_limited['id'].sum()\n",
    "total_count = ownership_tenant_limited['TotalCount'].sum()"
   ]
  },
  {
   "cell_type": "code",
   "execution_count": 165,
   "metadata": {},
   "outputs": [],
   "source": [
    "ownership_tenant_limited['owner_count'] = ownership_tenant_limited.groupby('OwnerExtractedClean')['id'].transform('sum')\n",
    "ownership_tenant_limited['tenant_count'] = ownership_tenant_limited.groupby('TenantExtractedClean')['id'].transform('sum')"
   ]
  },
  {
   "cell_type": "code",
   "execution_count": 166,
   "metadata": {},
   "outputs": [],
   "source": [
    "ownership_tenant_limited['p_tenant'] =  ownership_tenant_limited['tenant_count'] / id_count\n",
    "ownership_tenant_limited['p_owner'] =  ownership_tenant_limited['owner_count'] / total_count"
   ]
  },
  {
   "cell_type": "code",
   "execution_count": 167,
   "metadata": {},
   "outputs": [],
   "source": [
    "ownership_tenant_limited['p_tenant_owner'] = ownership_tenant_limited['id'] / id_count"
   ]
  },
  {
   "cell_type": "code",
   "execution_count": 168,
   "metadata": {},
   "outputs": [],
   "source": [
    "ownership_tenant_limited['pmi'] = ownership_tenant_limited.apply(lambda x: np.log(x['p_tenant_owner'] / (x['p_tenant'] * x['p_owner'])), axis = 1)"
   ]
  },
  {
   "cell_type": "code",
   "execution_count": 170,
   "metadata": {},
   "outputs": [
    {
     "data": {
      "text/html": [
       "<div>\n",
       "<style scoped>\n",
       "    .dataframe tbody tr th:only-of-type {\n",
       "        vertical-align: middle;\n",
       "    }\n",
       "\n",
       "    .dataframe tbody tr th {\n",
       "        vertical-align: top;\n",
       "    }\n",
       "\n",
       "    .dataframe thead th {\n",
       "        text-align: right;\n",
       "    }\n",
       "</style>\n",
       "<table border=\"1\" class=\"dataframe\">\n",
       "  <thead>\n",
       "    <tr style=\"text-align: right;\">\n",
       "      <th></th>\n",
       "      <th>OwnerExtractedClean</th>\n",
       "      <th>TenantExtractedClean</th>\n",
       "      <th>id</th>\n",
       "      <th>TotalCount</th>\n",
       "      <th>portion</th>\n",
       "      <th>owner_count</th>\n",
       "      <th>tenant_count</th>\n",
       "      <th>p_tenant</th>\n",
       "      <th>p_owner</th>\n",
       "      <th>p_tenant_owner</th>\n",
       "      <th>pmi</th>\n",
       "    </tr>\n",
       "  </thead>\n",
       "  <tbody>\n",
       "    <tr>\n",
       "      <th>1874</th>\n",
       "      <td>maffetti</td>\n",
       "      <td>cavalari</td>\n",
       "      <td>1</td>\n",
       "      <td>11</td>\n",
       "      <td>0.090909</td>\n",
       "      <td>11</td>\n",
       "      <td>1</td>\n",
       "      <td>0.000374</td>\n",
       "      <td>0.000129</td>\n",
       "      <td>0.000374</td>\n",
       "      <td>8.952523</td>\n",
       "    </tr>\n",
       "    <tr>\n",
       "      <th>1879</th>\n",
       "      <td>maffetti</td>\n",
       "      <td>tomadelli</td>\n",
       "      <td>1</td>\n",
       "      <td>11</td>\n",
       "      <td>0.090909</td>\n",
       "      <td>11</td>\n",
       "      <td>1</td>\n",
       "      <td>0.000374</td>\n",
       "      <td>0.000129</td>\n",
       "      <td>0.000374</td>\n",
       "      <td>8.952523</td>\n",
       "    </tr>\n",
       "    <tr>\n",
       "      <th>499</th>\n",
       "      <td>calbo</td>\n",
       "      <td>allegri</td>\n",
       "      <td>1</td>\n",
       "      <td>11</td>\n",
       "      <td>0.090909</td>\n",
       "      <td>12</td>\n",
       "      <td>1</td>\n",
       "      <td>0.000374</td>\n",
       "      <td>0.000141</td>\n",
       "      <td>0.000374</td>\n",
       "      <td>8.865512</td>\n",
       "    </tr>\n",
       "    <tr>\n",
       "      <th>927</th>\n",
       "      <td>correr</td>\n",
       "      <td>dari</td>\n",
       "      <td>1</td>\n",
       "      <td>12</td>\n",
       "      <td>0.083333</td>\n",
       "      <td>12</td>\n",
       "      <td>1</td>\n",
       "      <td>0.000374</td>\n",
       "      <td>0.000141</td>\n",
       "      <td>0.000374</td>\n",
       "      <td>8.865512</td>\n",
       "    </tr>\n",
       "    <tr>\n",
       "      <th>923</th>\n",
       "      <td>correr</td>\n",
       "      <td>bonati</td>\n",
       "      <td>1</td>\n",
       "      <td>12</td>\n",
       "      <td>0.083333</td>\n",
       "      <td>12</td>\n",
       "      <td>1</td>\n",
       "      <td>0.000374</td>\n",
       "      <td>0.000141</td>\n",
       "      <td>0.000374</td>\n",
       "      <td>8.865512</td>\n",
       "    </tr>\n",
       "  </tbody>\n",
       "</table>\n",
       "</div>"
      ],
      "text/plain": [
       "     OwnerExtractedClean TenantExtractedClean  id  TotalCount   portion  \\\n",
       "1874            maffetti             cavalari   1          11  0.090909   \n",
       "1879            maffetti            tomadelli   1          11  0.090909   \n",
       "499                calbo              allegri   1          11  0.090909   \n",
       "927               correr                 dari   1          12  0.083333   \n",
       "923               correr               bonati   1          12  0.083333   \n",
       "\n",
       "      owner_count  tenant_count  p_tenant   p_owner  p_tenant_owner       pmi  \n",
       "1874           11             1  0.000374  0.000129        0.000374  8.952523  \n",
       "1879           11             1  0.000374  0.000129        0.000374  8.952523  \n",
       "499            12             1  0.000374  0.000141        0.000374  8.865512  \n",
       "927            12             1  0.000374  0.000141        0.000374  8.865512  \n",
       "923            12             1  0.000374  0.000141        0.000374  8.865512  "
      ]
     },
     "execution_count": 170,
     "metadata": {},
     "output_type": "execute_result"
    }
   ],
   "source": [
    "ownership_tenant_limited.sort_values(by= 'pmi',ascending=False).head(5)"
   ]
  },
  {
   "cell_type": "markdown",
   "metadata": {},
   "source": [
    "# Hello, Cadaster"
   ]
  },
  {
   "cell_type": "code",
   "execution_count": null,
   "metadata": {},
   "outputs": [],
   "source": []
  },
  {
   "cell_type": "code",
   "execution_count": 341,
   "metadata": {},
   "outputs": [],
   "source": [
    "cad_count_area = cadaster.groupby('OwnerExtractedClean').agg({'parcelNumber':'nunique','area':'sum'})\n",
    "cad_count_area['proportion'] =cad_count_area['parcelNumber'] / cad_count_area['area']"
   ]
  },
  {
   "cell_type": "code",
   "execution_count": 344,
   "metadata": {},
   "outputs": [],
   "source": [
    "cad_count_area.rename({\"parcelNumber\": 'count'},axis=1,inplace=True)"
   ]
  },
  {
   "cell_type": "code",
   "execution_count": 345,
   "metadata": {},
   "outputs": [
    {
     "data": {
      "text/html": [
       "<div>\n",
       "<style scoped>\n",
       "    .dataframe tbody tr th:only-of-type {\n",
       "        vertical-align: middle;\n",
       "    }\n",
       "\n",
       "    .dataframe tbody tr th {\n",
       "        vertical-align: top;\n",
       "    }\n",
       "\n",
       "    .dataframe thead th {\n",
       "        text-align: right;\n",
       "    }\n",
       "</style>\n",
       "<table border=\"1\" class=\"dataframe\">\n",
       "  <thead>\n",
       "    <tr style=\"text-align: right;\">\n",
       "      <th></th>\n",
       "      <th>OwnerExtractedClean</th>\n",
       "      <th>count</th>\n",
       "      <th>area</th>\n",
       "      <th>proportion</th>\n",
       "    </tr>\n",
       "  </thead>\n",
       "  <tbody>\n",
       "    <tr>\n",
       "      <th>668</th>\n",
       "      <td>covera</td>\n",
       "      <td>1</td>\n",
       "      <td>5.996</td>\n",
       "      <td>0.166778</td>\n",
       "    </tr>\n",
       "    <tr>\n",
       "      <th>1701</th>\n",
       "      <td>petris</td>\n",
       "      <td>1</td>\n",
       "      <td>9.369</td>\n",
       "      <td>0.106735</td>\n",
       "    </tr>\n",
       "    <tr>\n",
       "      <th>108</th>\n",
       "      <td>badin</td>\n",
       "      <td>1</td>\n",
       "      <td>9.602</td>\n",
       "      <td>0.104145</td>\n",
       "    </tr>\n",
       "    <tr>\n",
       "      <th>2242</th>\n",
       "      <td>trevisa</td>\n",
       "      <td>1</td>\n",
       "      <td>11.278</td>\n",
       "      <td>0.088668</td>\n",
       "    </tr>\n",
       "    <tr>\n",
       "      <th>780</th>\n",
       "      <td>doglioni</td>\n",
       "      <td>1</td>\n",
       "      <td>11.312</td>\n",
       "      <td>0.088402</td>\n",
       "    </tr>\n",
       "    <tr>\n",
       "      <th>1888</th>\n",
       "      <td>rocchi</td>\n",
       "      <td>1</td>\n",
       "      <td>11.381</td>\n",
       "      <td>0.087866</td>\n",
       "    </tr>\n",
       "    <tr>\n",
       "      <th>262</th>\n",
       "      <td>biretti</td>\n",
       "      <td>1</td>\n",
       "      <td>11.554</td>\n",
       "      <td>0.086550</td>\n",
       "    </tr>\n",
       "    <tr>\n",
       "      <th>56</th>\n",
       "      <td>ansaizio</td>\n",
       "      <td>1</td>\n",
       "      <td>12.281</td>\n",
       "      <td>0.081427</td>\n",
       "    </tr>\n",
       "    <tr>\n",
       "      <th>1253</th>\n",
       "      <td>lorenzoni</td>\n",
       "      <td>1</td>\n",
       "      <td>13.008</td>\n",
       "      <td>0.076876</td>\n",
       "    </tr>\n",
       "    <tr>\n",
       "      <th>2049</th>\n",
       "      <td>seneco</td>\n",
       "      <td>1</td>\n",
       "      <td>13.677</td>\n",
       "      <td>0.073115</td>\n",
       "    </tr>\n",
       "  </tbody>\n",
       "</table>\n",
       "</div>"
      ],
      "text/plain": [
       "     OwnerExtractedClean  count    area  proportion\n",
       "668               covera      1   5.996    0.166778\n",
       "1701              petris      1   9.369    0.106735\n",
       "108                badin      1   9.602    0.104145\n",
       "2242             trevisa      1  11.278    0.088668\n",
       "780             doglioni      1  11.312    0.088402\n",
       "1888              rocchi      1  11.381    0.087866\n",
       "262              biretti      1  11.554    0.086550\n",
       "56              ansaizio      1  12.281    0.081427\n",
       "1253           lorenzoni      1  13.008    0.076876\n",
       "2049              seneco      1  13.677    0.073115"
      ]
     },
     "execution_count": 345,
     "metadata": {},
     "output_type": "execute_result"
    }
   ],
   "source": [
    "cad_count_area.reset_index().sort_values(by = 'proportion',ascending=False).head(10)"
   ]
  },
  {
   "cell_type": "code",
   "execution_count": 346,
   "metadata": {},
   "outputs": [
    {
     "data": {
      "text/html": [
       "<div>\n",
       "<style scoped>\n",
       "    .dataframe tbody tr th:only-of-type {\n",
       "        vertical-align: middle;\n",
       "    }\n",
       "\n",
       "    .dataframe tbody tr th {\n",
       "        vertical-align: top;\n",
       "    }\n",
       "\n",
       "    .dataframe thead th {\n",
       "        text-align: right;\n",
       "    }\n",
       "</style>\n",
       "<table border=\"1\" class=\"dataframe\">\n",
       "  <thead>\n",
       "    <tr style=\"text-align: right;\">\n",
       "      <th></th>\n",
       "      <th>OwnerExtractedClean</th>\n",
       "      <th>count</th>\n",
       "      <th>area</th>\n",
       "      <th>proportion</th>\n",
       "    </tr>\n",
       "  </thead>\n",
       "  <tbody>\n",
       "    <tr>\n",
       "      <th>628</th>\n",
       "      <td>contarini</td>\n",
       "      <td>354</td>\n",
       "      <td>98410.467</td>\n",
       "      <td>0.003597</td>\n",
       "    </tr>\n",
       "    <tr>\n",
       "      <th>1131</th>\n",
       "      <td>grimani</td>\n",
       "      <td>304</td>\n",
       "      <td>81683.785</td>\n",
       "      <td>0.003722</td>\n",
       "    </tr>\n",
       "    <tr>\n",
       "      <th>1495</th>\n",
       "      <td>morosini</td>\n",
       "      <td>279</td>\n",
       "      <td>95259.455</td>\n",
       "      <td>0.002929</td>\n",
       "    </tr>\n",
       "    <tr>\n",
       "      <th>646</th>\n",
       "      <td>corner</td>\n",
       "      <td>199</td>\n",
       "      <td>55608.975</td>\n",
       "      <td>0.003579</td>\n",
       "    </tr>\n",
       "    <tr>\n",
       "      <th>782</th>\n",
       "      <td>dolfin</td>\n",
       "      <td>190</td>\n",
       "      <td>51128.367</td>\n",
       "      <td>0.003716</td>\n",
       "    </tr>\n",
       "    <tr>\n",
       "      <th>...</th>\n",
       "      <td>...</td>\n",
       "      <td>...</td>\n",
       "      <td>...</td>\n",
       "      <td>...</td>\n",
       "    </tr>\n",
       "    <tr>\n",
       "      <th>1309</th>\n",
       "      <td>malipiero</td>\n",
       "      <td>30</td>\n",
       "      <td>8254.104</td>\n",
       "      <td>0.003635</td>\n",
       "    </tr>\n",
       "    <tr>\n",
       "      <th>2197</th>\n",
       "      <td>todeschini</td>\n",
       "      <td>30</td>\n",
       "      <td>10218.165</td>\n",
       "      <td>0.002936</td>\n",
       "    </tr>\n",
       "    <tr>\n",
       "      <th>1292</th>\n",
       "      <td>maffetti</td>\n",
       "      <td>29</td>\n",
       "      <td>5329.255</td>\n",
       "      <td>0.005442</td>\n",
       "    </tr>\n",
       "    <tr>\n",
       "      <th>1339</th>\n",
       "      <td>manzoni</td>\n",
       "      <td>29</td>\n",
       "      <td>13080.204</td>\n",
       "      <td>0.002217</td>\n",
       "    </tr>\n",
       "    <tr>\n",
       "      <th>55</th>\n",
       "      <td>anna</td>\n",
       "      <td>29</td>\n",
       "      <td>12263.186</td>\n",
       "      <td>0.002365</td>\n",
       "    </tr>\n",
       "  </tbody>\n",
       "</table>\n",
       "<p>100 rows × 4 columns</p>\n",
       "</div>"
      ],
      "text/plain": [
       "     OwnerExtractedClean  count       area  proportion\n",
       "628            contarini    354  98410.467    0.003597\n",
       "1131             grimani    304  81683.785    0.003722\n",
       "1495            morosini    279  95259.455    0.002929\n",
       "646               corner    199  55608.975    0.003579\n",
       "782               dolfin    190  51128.367    0.003716\n",
       "...                  ...    ...        ...         ...\n",
       "1309           malipiero     30   8254.104    0.003635\n",
       "2197          todeschini     30  10218.165    0.002936\n",
       "1292            maffetti     29   5329.255    0.005442\n",
       "1339             manzoni     29  13080.204    0.002217\n",
       "55                  anna     29  12263.186    0.002365\n",
       "\n",
       "[100 rows x 4 columns]"
      ]
     },
     "execution_count": 346,
     "metadata": {},
     "output_type": "execute_result"
    }
   ],
   "source": [
    "cad_count_area.reset_index().sort_values(by = 'count',ascending=False).head(100)"
   ]
  },
  {
   "cell_type": "code",
   "execution_count": 358,
   "metadata": {},
   "outputs": [],
   "source": [
    "cad_count_area = cad_count_area.reset_index().sort_values(by = 'count',ascending=False)"
   ]
  },
  {
   "cell_type": "code",
   "execution_count": null,
   "metadata": {},
   "outputs": [],
   "source": []
  },
  {
   "cell_type": "code",
   "execution_count": 399,
   "metadata": {},
   "outputs": [
    {
     "data": {
      "image/png": "[encoded data removed]",
      "text/plain": [
       "<Figure size 864x720 with 3 Axes>"
      ]
     },
     "metadata": {
      "needs_background": "light"
     },
     "output_type": "display_data"
    }
   ],
   "source": [
    "import matplotlib.pyplot as plt\n",
    "from matplotlib.gridspec import GridSpec\n",
    "\n",
    "\n",
    "def format_axes(fig):\n",
    "    for i, ax in enumerate(fig.axes):\n",
    "#         ax.text(0.5, 0.5, \"ax%d\" % (i+1), va=\"center\", ha=\"center\")\n",
    "#         ax.tick_params(labelbottom=True, labelleft=True)\n",
    "        ax.spines['top'].set_visible(False)\n",
    "        ax.spines['right'].set_visible(False)\n",
    "        ax.spines['bottom'].set_visible(False)\n",
    "        ax.spines['left'].set_visible(False)\n",
    "        ax.tick_params(axis='x',labelrotation=45)\n",
    "\n",
    "fig = plt.figure(constrained_layout=True, figsize = (12,10))\n",
    "\n",
    "gs = GridSpec(2, 2, figure=fig)\n",
    "ax1 = fig.add_subplot(gs[0, :])\n",
    "ax1.bar(cad_count_area.head(20).OwnerExtractedClean,cad_count_area.head(20)['count'])\n",
    "ax1.set_title(\"Count\")\n",
    "# identical to ax1 = plt.subplot(gs.new_subplotspec((0, 0), colspan=3))\n",
    "ax2 = fig.add_subplot(gs[1, 0])\n",
    "area_data = cad_count_area.sort_values(by='area',ascending=False).head(10)\n",
    "ax2.bar(area_data.OwnerExtractedClean,area_data.area)\n",
    "ax2.set_title(\"Area (meters)\")\n",
    "\n",
    "ax3 = fig.add_subplot(gs[1:, 1])\n",
    "proportion_data = cad_count_area.sort_values(by='proportion',ascending=False).head(10)\n",
    "\n",
    "ax3.bar(proportion_data.OwnerExtractedClean,proportion_data.proportion)\n",
    "ax3.set_title(\"Area per property (meters/property)\")\n",
    "\n",
    "fig.suptitle(\"Cadaster: Top 10 count, area, average area\", fontsize =15)\n",
    "format_axes(fig)\n",
    "\n",
    "plt.savefig(\"CadasterOwnerData.png\", dpi = 300)\n"
   ]
  },
  {
   "cell_type": "code",
   "execution_count": 248,
   "metadata": {},
   "outputs": [],
   "source": [
    "# let's the find correlation between the owners"
   ]
  },
  {
   "cell_type": "code",
   "execution_count": 271,
   "metadata": {},
   "outputs": [],
   "source": [
    "cad100 = cad_count_area.reset_index().sort_values(by = 'count',ascending=False)['OwnerExtractedClean'].head(200).values"
   ]
  },
  {
   "cell_type": "code",
   "execution_count": 272,
   "metadata": {},
   "outputs": [],
   "source": [
    "cat100 = catastici_merged.groupby(\"OwnerExtractedClean\")['id'].count().sort_values(ascending=False).head(200).index"
   ]
  },
  {
   "cell_type": "code",
   "execution_count": null,
   "metadata": {},
   "outputs": [],
   "source": [
    "from scipy.stats import kendalltau\n",
    "kendalltau(cad100,cat100)"
   ]
  },
  {
   "cell_type": "code",
   "execution_count": null,
   "metadata": {},
   "outputs": [],
   "source": []
  },
  {
   "cell_type": "code",
   "execution_count": 278,
   "metadata": {},
   "outputs": [
    {
     "data": {
      "text/plain": [
       "KendalltauResult(correlation=-0.07547738693467336, pvalue=0.11246281803212392)"
      ]
     },
     "execution_count": 278,
     "metadata": {},
     "output_type": "execute_result"
    }
   ],
   "source": []
  },
  {
   "cell_type": "markdown",
   "metadata": {},
   "source": [
    "\n",
    "# Aligning the categories\n",
    "- Translate Italian to English terms\n",
    "- Group by property ownership"
   ]
  },
  {
   "cell_type": "code",
   "execution_count": 173,
   "metadata": {},
   "outputs": [],
   "source": [
    "cadaster['parcelCategories'] = cadaster['parcelCategories'].apply(lambda x: eval(x))\n",
    "italian_words = cadaster['parcelCategories'].apply(pd.Series)\n",
    "italian_words = italian_words.melt()"
   ]
  },
  {
   "cell_type": "code",
   "execution_count": 174,
   "metadata": {
    "scrolled": true
   },
   "outputs": [
    {
     "name": "stdout",
     "output_type": "stream",
     "text": [
      "Italian words:  ['TEATRO' 'MAGAZZENO' 'CASA' 'SOTTOPORTICO' 'BOTTEGA' nan 'ACCESSO'\n",
      " 'CHIESA' 'CAMPANILE' 'LUOGO' 'CORTO' 'GIARDINO' 'STANZA' 'TERAZZA' 'AREA'\n",
      " 'ORTO' 'CASETTA' 'APPARTAMENTO' 'ORATORIO' 'LOCALE' 'SPAZIO' 'CASINO'\n",
      " 'PALAZZO' 'FABBRICA' 'CASERMA' 'STRADA' 'ANDITO' 'CALLE' 'CASALE'\n",
      " 'SINAGOGA' 'ORTAGLIA' 'FORNACE' 'MACELLO' 'MONASTERO' 'CIMITERO'\n",
      " 'CONVENTO' 'SAGRESTIA' 'LOGGIA' 'CAMERA' 'CAFFE' 'LOCANDA' 'CASOTTO'\n",
      " 'VOLTA' 'FORNO' 'SCUOLA' 'SCALLA' 'OSPIZIO' 'INGRESSO' 'RIPOSTIGLIO'\n",
      " 'LATRINE' 'CARCERE' 'ARCHIVIO' 'PASCOLO' 'CAVANA' 'PORTICO' 'SCUDERIA'\n",
      " 'FONDAMENTA' 'RAFFINARIA' 'CANTIERE' 'PIAZZA' 'TINTORIA' 'STALLA'\n",
      " 'SQUERO' 'TAGLIAPIETRA' 'OSTERIA' 'OFFICINA' 'UFFICI' 'TORRE' 'VENDIVINO']\n"
     ]
    }
   ],
   "source": [
    "# print the italian words\n",
    "# then use google translate and other tools to translate these words (manually)\n",
    "print(\"Italian words: \",italian_words['value'].unique())"
   ]
  },
  {
   "cell_type": "code",
   "execution_count": 175,
   "metadata": {},
   "outputs": [],
   "source": [
    "# convert empty lists into None\n",
    "\n",
    "cadaster['parcelCategory'] = cadaster['parcelCategories'].apply(lambda x: x[0] if x != [] else None)"
   ]
  },
  {
   "cell_type": "code",
   "execution_count": 176,
   "metadata": {},
   "outputs": [],
   "source": [
    "# now we'll do the same for the catastici \n",
    "catastici['entryCategories'] = catastici['entryCategories'].apply(lambda x: eval(x))\n",
    "catastici['entryCategories'] = catastici['entryCategories'].apply(lambda x: x[0] if x != [] else None)"
   ]
  },
  {
   "cell_type": "code",
   "execution_count": 177,
   "metadata": {},
   "outputs": [
    {
     "name": "stdout",
     "output_type": "stream",
     "text": [
      "English words:  ['housing' 'storage' 'shop' None 'hospitality' 'administration'\n",
      " 'healthcare' 'entertainment' 'transport' 'palace' 'guild' 'religious']\n"
     ]
    }
   ],
   "source": [
    "print(\"English words: \",catastici['entryCategories'].unique())"
   ]
  },
  {
   "cell_type": "code",
   "execution_count": 216,
   "metadata": {},
   "outputs": [],
   "source": [
    "# here we manually translated the terms from Italian to English\n",
    "# since the english is more restrictive, we convert everything to english\n",
    "\n",
    "translations = [\n",
    "    ['CASA','housing',False], \n",
    "    ['BOTTEGA','shop',False], \n",
    "    ['SCUOLA','religious',True], \n",
    "    ['TEATRO','entertainment',False],\n",
    "    ['LOCALE','shop',True],\n",
    "    ['MAGAZZENO','storage', False],\n",
    "    ['PIAZZA','None', True],\n",
    "    ['ORATORIO','religious',False],\n",
    "    ['GIARDINO','None',False],\n",
    "    ['PALAZZO','palace',False],\n",
    "    ['LOGGIA','guild',True],\n",
    "    ['LUOGO','None', True],\n",
    "    ['CORTO','None',True],\n",
    "    ['SOTTOPORTICO','None',True],\n",
    "    ['APPARTAMENTO','housing',False],\n",
    "    ['STANZA','housing',False],\n",
    "    ['CAMERA','housing',False],\n",
    "    ['AREA','None', True],\n",
    "    ['LOCANDA','hospitality',False],\n",
    "    ['CAFFE','shop',False],\n",
    "    ['ANDITO','None',True],\n",
    "    ['CHIESA','religious',False],\n",
    "    ['CAMPANILE','religious',True],\n",
    "    ['CASOTTO','housing',False],\n",
    "    ['CALLE','None',True],\n",
    "    ['ATRIO','None',True],\n",
    "    ['CASERMA','administration',True],\n",
    "    ['VOLTA','administration',True],\n",
    "    ['TERAZZA','None',True],\n",
    "    ['ACCESSO','None',True],\n",
    "    ['FORNO','shop',False],\n",
    "    ['ORTO','None',True],\n",
    "    ['ORTAGLIA','None',True],\n",
    "    ['FABRICA','shop',True],\n",
    "    ['MONASTERO','religious',False],\n",
    "    ['SPAZIO','None',True],\n",
    "    ['CONVENT','religious',False],\n",
    "    ['SCALLA','None',True],\n",
    "    ['OSPIZIO','healthcare',False],\n",
    "    ['CASETTA','housing',False],\n",
    "    ['CASINO','entertainment',False],\n",
    "    ['UFFICI','administration',True]\n",
    "]"
   ]
  },
  {
   "cell_type": "code",
   "execution_count": 217,
   "metadata": {},
   "outputs": [],
   "source": [
    "# convert the list into a pandas dataframe for merging\n",
    "\n",
    "translations = pd.DataFrame(translations,columns = ['italian','english','help'])"
   ]
  },
  {
   "cell_type": "code",
   "execution_count": 218,
   "metadata": {},
   "outputs": [],
   "source": [
    "# merge the catastici and the cadaster with the translation \n",
    "\n",
    "merged_cata = catastici.merge(translations, right_on = 'english', left_on = 'entryCategories', how = 'left')\n",
    "merged_cada = cadaster.merge(translations, right_on = 'italian', left_on = 'parcelCategory', how ='left')"
   ]
  },
  {
   "cell_type": "markdown",
   "metadata": {},
   "source": [
    "### Now let's plot the family ownership land"
   ]
  },
  {
   "cell_type": "code",
   "execution_count": 219,
   "metadata": {},
   "outputs": [],
   "source": [
    "family_ownership_type = merged_cada.groupby([\"OwnerExtractedClean\", \"english\"])['id'].count().reset_index()\n",
    "family_ownership_type['family_count'] = family_ownership_type.groupby(\"OwnerExtractedClean\")['id'].transform('sum')"
   ]
  },
  {
   "cell_type": "code",
   "execution_count": 220,
   "metadata": {},
   "outputs": [],
   "source": [
    "family_ownership_type_limited = family_ownership_type[family_ownership_type['family_count'] > 10]"
   ]
  },
  {
   "cell_type": "code",
   "execution_count": 221,
   "metadata": {},
   "outputs": [],
   "source": [
    "family_ownership_type_limited['portion'] = family_ownership_type_limited['id'] / family_ownership_type_limited['family_count']"
   ]
  },
  {
   "cell_type": "code",
   "execution_count": 222,
   "metadata": {},
   "outputs": [],
   "source": [
    "family_ownership_type_limited = family_ownership_type_limited.sort_values(by = 'portion',ascending=False)"
   ]
  },
  {
   "cell_type": "code",
   "execution_count": 224,
   "metadata": {},
   "outputs": [
    {
     "data": {
      "text/html": [
       "<div>\n",
       "<style scoped>\n",
       "    .dataframe tbody tr th:only-of-type {\n",
       "        vertical-align: middle;\n",
       "    }\n",
       "\n",
       "    .dataframe tbody tr th {\n",
       "        vertical-align: top;\n",
       "    }\n",
       "\n",
       "    .dataframe thead th {\n",
       "        text-align: right;\n",
       "    }\n",
       "</style>\n",
       "<table border=\"1\" class=\"dataframe\">\n",
       "  <thead>\n",
       "    <tr style=\"text-align: right;\">\n",
       "      <th></th>\n",
       "      <th>OwnerExtractedClean</th>\n",
       "      <th>english</th>\n",
       "      <th>id</th>\n",
       "      <th>family_count</th>\n",
       "      <th>portion</th>\n",
       "    </tr>\n",
       "  </thead>\n",
       "  <tbody>\n",
       "    <tr>\n",
       "      <th>814</th>\n",
       "      <td>chiesa</td>\n",
       "      <td>religious</td>\n",
       "      <td>13</td>\n",
       "      <td>58</td>\n",
       "      <td>0.224138</td>\n",
       "    </tr>\n",
       "    <tr>\n",
       "      <th>1155</th>\n",
       "      <td>demanio</td>\n",
       "      <td>religious</td>\n",
       "      <td>24</td>\n",
       "      <td>129</td>\n",
       "      <td>0.186047</td>\n",
       "    </tr>\n",
       "    <tr>\n",
       "      <th>2281</th>\n",
       "      <td>moro</td>\n",
       "      <td>religious</td>\n",
       "      <td>1</td>\n",
       "      <td>99</td>\n",
       "      <td>0.010101</td>\n",
       "    </tr>\n",
       "  </tbody>\n",
       "</table>\n",
       "</div>"
      ],
      "text/plain": [
       "     OwnerExtractedClean    english  id  family_count   portion\n",
       "814               chiesa  religious  13            58  0.224138\n",
       "1155             demanio  religious  24           129  0.186047\n",
       "2281                moro  religious   1            99  0.010101"
      ]
     },
     "execution_count": 224,
     "metadata": {},
     "output_type": "execute_result"
    }
   ],
   "source": [
    "family_ownership_type_limited[family_ownership_type_limited['english'] == 'religious']"
   ]
  },
  {
   "cell_type": "markdown",
   "metadata": {},
   "source": [
    "# Evolution"
   ]
  },
  {
   "cell_type": "code",
   "execution_count": 401,
   "metadata": {},
   "outputs": [],
   "source": [
    "# restrict to specific columns\n",
    "cata = merged_cata[['cadaster1808Correspondance','cadaster1808ClosestParcel','italian','english','OwnerExtractedClean','TenantExtractedClean']]\n",
    "cata.columns = ['cadaster1808Correspondance','cadaster1808ClosestParcel','italian','english','1748Owner', '1808Tenant']"
   ]
  },
  {
   "cell_type": "code",
   "execution_count": 402,
   "metadata": {},
   "outputs": [],
   "source": [
    "# restrict to specific columns\n",
    "cada = merged_cada[['OwnerExtractedClean','english','area','bounds','parcelNumber','subParcelNumber']]\n",
    "cada.columns = ['1808Owner','english','area','bounds','parcelNumber','subParcelNumber']"
   ]
  },
  {
   "cell_type": "code",
   "execution_count": 403,
   "metadata": {},
   "outputs": [],
   "source": [
    "# remove the rows that contain None\n",
    "cada2 = cada[cada['english'] != \"None\"]\n",
    "\n",
    "# develop some metrics \n",
    "total_area_cada = cada2['area'].sum()\n",
    "prop_cada = cada2.groupby(\"english\")['area'].sum()/total_area_cada"
   ]
  },
  {
   "cell_type": "code",
   "execution_count": 404,
   "metadata": {},
   "outputs": [],
   "source": [
    "# convert closest parcel to an object for merging \n",
    "cata['cadaster1808ClosestParcel'] = cata['cadaster1808ClosestParcel'].astype(str)\n",
    "\n",
    "cata2 = cata.merge(cada, left_on = 'cadaster1808ClosestParcel',right_on = 'parcelNumber')"
   ]
  },
  {
   "cell_type": "code",
   "execution_count": 405,
   "metadata": {},
   "outputs": [],
   "source": [
    "cata2 = cata2.drop_duplicates(subset=['parcelNumber'])"
   ]
  },
  {
   "cell_type": "code",
   "execution_count": 376,
   "metadata": {},
   "outputs": [],
   "source": [
    "cata_cat_counts = cata2.groupby(\"english_x\")['parcelNumber'].count().reset_index()\n",
    "cata_cat_counts = cata_cat_counts.rename({'english_x':'name','parcelNumber':\"count_catastici\"}, axis = 1)\n",
    "sum_props_cata = cata_cat_counts['count_catastici'].sum()\n",
    "cata_cat_counts['proportion_catastici'] = cata_cat_counts['count_catastici'] / sum_props_cata\n",
    "cada_cat_counts = cata2.groupby(\"english_y\")['parcelNumber'].count().reset_index()\n",
    "cada_cat_counts = cada_cat_counts.rename({'english_y':'name','parcelNumber':\"count_cadaster\"}, axis = 1)\n",
    "sum_props_cada = cada_cat_counts['count_cadaster'].sum()\n",
    "cada_cat_counts['proportion_cadaster'] = cada_cat_counts['count_cadaster'] / sum_props_cata\n"
   ]
  },
  {
   "cell_type": "code",
   "execution_count": 378,
   "metadata": {},
   "outputs": [],
   "source": [
    "category_change_data = cata_cat_counts.merge(cada_cat_counts)"
   ]
  },
  {
   "cell_type": "code",
   "execution_count": 398,
   "metadata": {},
   "outputs": [
    {
     "data": {
      "image/png": "[encoded data removed]",
      "text/plain": [
       "<Figure size 576x288 with 1 Axes>"
      ]
     },
     "metadata": {
      "needs_background": "light"
     },
     "output_type": "display_data"
    }
   ],
   "source": [
    "# Reorder it following the values of the first value:\n",
    "ordered_df = category_change_data.sort_values(by='proportion_cadaster')\n",
    "my_range=range(1,len(category_change_data.index)+1)\n",
    "\n",
    "fig, ax = plt.subplots(figsize = (8,4))\n",
    "# The horizontal plot is made using the hline function\n",
    "ax.hlines(y=my_range, xmin=ordered_df['proportion_cadaster'], xmax=ordered_df['proportion_catastici'], color='grey', alpha=0.9)\n",
    "ax.scatter(ordered_df['proportion_cadaster'], my_range, color='skyblue', alpha=1, label='proportion_cadaster',s = 120)\n",
    "# plt.scatter(ordered_df['proportion_catastici'], my_range, color='green', alpha=0.4 , label='proportion_catastici')\n",
    "# ax.legend(loc='lower right')\n",
    " \n",
    "# Add title and axis names\n",
    "plt.yticks(my_range, ordered_df['name'])\n",
    "ax.set_title(\"Change in property type between catastici and cadaster\", loc='left')\n",
    "ax.set_xlabel('Proportion of land')\n",
    "ax.set_ylabel('Property type')\n",
    "\n",
    "ax.spines['top'].set_visible(False)\n",
    "ax.spines['right'].set_visible(False)\n",
    "ax.spines['bottom'].set_visible(False)\n",
    "ax.spines['left'].set_visible(False)\n",
    "\n",
    "# Show the graph\n",
    "plt.savefig(\"property_change.png\", dpi = 300)\n",
    "plt.show()"
   ]
  },
  {
   "cell_type": "code",
   "execution_count": 432,
   "metadata": {},
   "outputs": [],
   "source": [
    "cata_cat_counts = cata2.groupby(\"1748Owner\")['area'].sum().reset_index()\n",
    "cata_cat_counts = cata_cat_counts.rename({'1748Owner':'name','area':\"count_catastici\"}, axis = 1)\n",
    "sum_props_cata = cata_cat_counts['count_catastici'].sum()\n",
    "# cata_cat_counts['proportion_catastici'] = cata_cat_counts['count_catastici'] / sum_props_cata\n",
    "cada_cat_counts = cata2.groupby(\"1808Owner\")['area'].sum().reset_index()\n",
    "cada_cat_counts = cada_cat_counts.rename({'1808Owner':'name','area':\"count_cadaster\"}, axis = 1)\n",
    "sum_props_cada = cada_cat_counts['count_cadaster'].sum()\n",
    "# cada_cat_counts['proportion_cadaster'] = cada_cat_counts['count_cadaster'] / sum_props_cata\n",
    "people_change_data = cata_cat_counts.merge(cada_cat_counts)"
   ]
  },
  {
   "cell_type": "code",
   "execution_count": 433,
   "metadata": {},
   "outputs": [],
   "source": [
    "means = people_change_data.mean().values\n",
    "stds = people_change_data.std().values"
   ]
  },
  {
   "cell_type": "code",
   "execution_count": 434,
   "metadata": {},
   "outputs": [],
   "source": [
    "# we'll use change in z-score as a measure\n",
    "for i, col in enumerate(['count_catastici', 'count_cadaster']):\n",
    "    mean = means[i]\n",
    "    std = stds[i]\n",
    "    people_change_data['z_score_'+col.split('_')[1]] = people_change_data[col].apply(lambda x: (x - mean)/std)"
   ]
  },
  {
   "cell_type": "code",
   "execution_count": 438,
   "metadata": {},
   "outputs": [],
   "source": [
    "people_change_data['z_score_diff'] = people_change_data['z_score_cadaster'] - people_change_data['z_score_catastici']"
   ]
  },
  {
   "cell_type": "code",
   "execution_count": 449,
   "metadata": {},
   "outputs": [
    {
     "data": {
      "text/plain": [
       "Index(['name', 'count_catastici', 'count_cadaster', 'z_score_catastici',\n",
       "       'z_score_cadaster', 'z_score_diff'],\n",
       "      dtype='object')"
      ]
     },
     "execution_count": 449,
     "metadata": {},
     "output_type": "execute_result"
    }
   ],
   "source": [
    "people_change_data.columns"
   ]
  },
  {
   "cell_type": "code",
   "execution_count": 468,
   "metadata": {},
   "outputs": [
    {
     "data": {
      "image/png": "[encoded data removed]",
      "text/plain": [
       "<Figure size 720x360 with 3 Axes>"
      ]
     },
     "metadata": {
      "needs_background": "light"
     },
     "output_type": "display_data"
    }
   ],
   "source": [
    "fig, axs = plt.subplots(1,3, figsize = (10,5))\n",
    "fig.tight_layout(pad=3.0)\n",
    "\n",
    "ax = axs[0]\n",
    "ax.hist(people_change_data.sort_values(by='z_score_diff',ascending=False)['z_score_diff'], bins = 20)\n",
    "ax.set_ylabel(\"Count\")\n",
    "ax.set_xlabel(\"z-score difference\")\n",
    "ax.spines['top'].set_visible(False)\n",
    "ax.spines['right'].set_visible(False)\n",
    "# ax.spines['bottom'].set_visible(False)\n",
    "ax.spines['left'].set_visible(False)\n",
    "\n",
    "\n",
    "for i, ax in enumerate(axs[1:]):\n",
    "    if i != 1:\n",
    "        people_change_data = people_change_data.sort_values(by = 'z_score_diff', ascending=False)\n",
    "    else:\n",
    "        people_change_data = people_change_data.sort_values(by = 'z_score_diff', ascending=True)\n",
    "    ax.spines['top'].set_visible(False)\n",
    "    ax.spines['right'].set_visible(False)\n",
    "# ax.spines['bottom'].set_visible(False)\n",
    "    ax.spines['left'].set_visible(False)\n",
    "    ax.bar(people_change_data.tail(10).name, people_change_data.head(10).z_score_diff)\n",
    "    ax.tick_params(axis='x',labelrotation=45)\n",
    "\n",
    "\n",
    "axs[0].set_title(\"z-score histogram\")    \n",
    "axs[1].set_title(\"Ten winners\")    \n",
    "axs[2].set_title(\"Ten losers\")    \n",
    "\n",
    "# axs[1].set_xlabel(\"z-score\")    \n",
    "# axs[2].set_xlabel(\"z-socre\")    \n",
    "\n",
    "plt.savefig(\"z_score_histogram.png\", dpi = 300)"
   ]
  },
  {
   "cell_type": "code",
   "execution_count": null,
   "metadata": {},
   "outputs": [],
   "source": []
  },
  {
   "cell_type": "code",
   "execution_count": 435,
   "metadata": {},
   "outputs": [],
   "source": [
    "def gini(x):\n",
    "    mad = np.abs(np.subtract.outer(x, x)).mean()\n",
    "    rmad = mad/np.mean(x)\n",
    "    g = 0.5 * rmad\n",
    "    return g"
   ]
  },
  {
   "cell_type": "code",
   "execution_count": 436,
   "metadata": {},
   "outputs": [
    {
     "name": "stdout",
     "output_type": "stream",
     "text": [
      "0.6342430232767644\n",
      "0.6815542830819898\n"
     ]
    }
   ],
   "source": [
    "print(gini(people_change_data['count_catastici'].values))\n",
    "print(gini(people_change_data['count_cadaster'].values))"
   ]
  },
  {
   "cell_type": "markdown",
   "metadata": {},
   "source": [
    "## Connecting with the .shp file"
   ]
  },
  {
   "cell_type": "code",
   "execution_count": 469,
   "metadata": {},
   "outputs": [],
   "source": [
    "import geopandas\n",
    "gdf = geopandas.read_file('data/cadaster_1808.geojson')"
   ]
  },
  {
   "cell_type": "code",
   "execution_count": 479,
   "metadata": {},
   "outputs": [],
   "source": [
    "cata = cata.drop_duplicates(\"cadaster1808ClosestParcel\")\n",
    "cata['parcel_number'] = cata['cadaster1808ClosestParcel']\n"
   ]
  },
  {
   "cell_type": "code",
   "execution_count": 480,
   "metadata": {},
   "outputs": [],
   "source": [
    "cada.drop_duplicates('parcelNumber',inplace=True)\n",
    "cada['parcel_number'] = cada['parcelNumber']"
   ]
  },
  {
   "cell_type": "code",
   "execution_count": 481,
   "metadata": {},
   "outputs": [],
   "source": [
    "t = gdf.merge(cada)"
   ]
  },
  {
   "cell_type": "code",
   "execution_count": 482,
   "metadata": {},
   "outputs": [],
   "source": [
    "t0 = gdf.merge(cata)"
   ]
  },
  {
   "cell_type": "code",
   "execution_count": 484,
   "metadata": {},
   "outputs": [],
   "source": [
    "t.to_file(\"data/cadaster.geojson\", driver='GeoJSON')\n",
    "t0.to_file(\"data/catastici.geojson\", driver='GeoJSON')\n"
   ]
  },
  {
   "cell_type": "markdown",
   "metadata": {},
   "source": [
    "#### For the change"
   ]
  },
  {
   "cell_type": "code",
   "execution_count": null,
   "metadata": {},
   "outputs": [],
   "source": [
    "# drop None values\n",
    "cata2.dropna(subset=['english_x','english_y'], inplace=True)"
   ]
  },
  {
   "cell_type": "code",
   "execution_count": null,
   "metadata": {},
   "outputs": [],
   "source": [
    "# define the group by for the location metadata\n",
    "parcel_grouped = cata2.groupby('cadaster1808Correspondance')\\\n",
    "    .agg({'english_x': list,'english_y': list,'area':'mean', '1748Owner': \\\n",
    "    list, '1808Owner': list}).reset_index()"
   ]
  },
  {
   "cell_type": "code",
   "execution_count": null,
   "metadata": {},
   "outputs": [],
   "source": [
    "# question: how to add a value \n",
    "\n",
    "parcel_grouped['english_cata'] = parcel_grouped['english_x'].apply(lambda x: x[0])\n",
    "parcel_grouped['english_cada'] = parcel_grouped['english_y'].apply(lambda x: x[0])\n",
    "parcel_grouped['1748Owner'] = parcel_grouped['1748Owner'].apply(lambda x: x[0])\n",
    "parcel_grouped['1808Owner'] = parcel_grouped['1808Owner'].apply(lambda x: x[0])\n",
    "parcel_grouped.drop(['english_x','english_y'], axis =1, inplace=True)"
   ]
  },
  {
   "cell_type": "code",
   "execution_count": null,
   "metadata": {},
   "outputs": [],
   "source": [
    "parcel_grouped[parcel_grouped['english_cata'] != parcel_grouped['english_cada']]"
   ]
  },
  {
   "cell_type": "code",
   "execution_count": null,
   "metadata": {},
   "outputs": [],
   "source": []
  }
 ],
 "metadata": {
  "kernelspec": {
   "display_name": "Python 3",
   "language": "python",
   "name": "python3"
  },
  "language_info": {
   "codemirror_mode": {
    "name": "ipython",
    "version": 3
   },
   "file_extension": ".py",
   "mimetype": "text/x-python",
   "name": "python",
   "nbconvert_exporter": "python",
   "pygments_lexer": "ipython3",
   "version": "3.8.5"
  }
 },
 "nbformat": 4,
 "nbformat_minor": 4
}
