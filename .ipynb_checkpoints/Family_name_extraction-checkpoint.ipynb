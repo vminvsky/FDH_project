{
 "cells": [
  {
   "cell_type": "code",
   "execution_count": 1,
   "id": "af502b29",
   "metadata": {},
   "outputs": [],
   "source": [
    "import pandas as pd \n",
    "import seaborn as sns\n",
    "import matplotlib.pyplot as plt"
   ]
  },
  {
   "cell_type": "code",
   "execution_count": 2,
   "id": "6c9a478b",
   "metadata": {},
   "outputs": [],
   "source": [
    "cadaster = pd.read_csv(\"data/cadaster_1808.csv\")"
   ]
  },
  {
   "cell_type": "code",
   "execution_count": 3,
   "id": "d3183717",
   "metadata": {},
   "outputs": [
    {
     "name": "stderr",
     "output_type": "stream",
     "text": [
      "<ipython-input-3-646beb43eb24>:1: ParserWarning: Falling back to the 'python' engine because the 'c' engine does not support regex separators (separators > 1 char and different from '\\s+' are interpreted as regex); you can avoid this warning by specifying engine='python'.\n",
      "  list_family_names = pd.read_csv(\"data/Venice_list_of_names.csv\", sep='\\t\"')\n"
     ]
    }
   ],
   "source": [
    "list_family_names = pd.read_csv(\"data/Venice_list_of_names.csv\", sep='\\t\"')\n",
    "\n",
    "list_family_names = list_family_names.apply(lambda x: x.str.replace(\"\\\"\", \"\"))\n",
    "\n",
    "list_family_names.columns = [ 'family', '1808', 'Noble', 'Citoyen', 'famille.12e.siecle']\n",
    "\n",
    "list_family_names.index = list_family_names.index.map(lambda x: x.replace(\"\\\"\", \"\"))\n",
    "\n",
    "list_family_names.to_csv(\"data/venice_families_cleaned.csv\")"
   ]
  },
  {
   "cell_type": "code",
   "execution_count": 4,
   "id": "7cd7eaa8",
   "metadata": {},
   "outputs": [
    {
     "data": {
      "text/html": [
       "<div>\n",
       "<style scoped>\n",
       "    .dataframe tbody tr th:only-of-type {\n",
       "        vertical-align: middle;\n",
       "    }\n",
       "\n",
       "    .dataframe tbody tr th {\n",
       "        vertical-align: top;\n",
       "    }\n",
       "\n",
       "    .dataframe thead th {\n",
       "        text-align: right;\n",
       "    }\n",
       "</style>\n",
       "<table border=\"1\" class=\"dataframe\">\n",
       "  <thead>\n",
       "    <tr style=\"text-align: right;\">\n",
       "      <th></th>\n",
       "      <th>family</th>\n",
       "      <th>1808</th>\n",
       "      <th>Noble</th>\n",
       "      <th>Citoyen</th>\n",
       "      <th>famille.12e.siecle</th>\n",
       "    </tr>\n",
       "  </thead>\n",
       "  <tbody>\n",
       "    <tr>\n",
       "      <th>1</th>\n",
       "      <td>abramo</td>\n",
       "      <td>0</td>\n",
       "      <td>NA</td>\n",
       "      <td>0</td>\n",
       "      <td>0</td>\n",
       "    </tr>\n",
       "    <tr>\n",
       "      <th>2</th>\n",
       "      <td>acotanto</td>\n",
       "      <td>0</td>\n",
       "      <td>1</td>\n",
       "      <td>0</td>\n",
       "      <td>0</td>\n",
       "    </tr>\n",
       "    <tr>\n",
       "      <th>3</th>\n",
       "      <td>acquisti</td>\n",
       "      <td>1</td>\n",
       "      <td>1</td>\n",
       "      <td>0</td>\n",
       "      <td>0</td>\n",
       "    </tr>\n",
       "    <tr>\n",
       "      <th>4</th>\n",
       "      <td>adami</td>\n",
       "      <td>1</td>\n",
       "      <td>1</td>\n",
       "      <td>1</td>\n",
       "      <td>0</td>\n",
       "    </tr>\n",
       "    <tr>\n",
       "      <th>5</th>\n",
       "      <td>adoaldi</td>\n",
       "      <td>0</td>\n",
       "      <td>1</td>\n",
       "      <td>0</td>\n",
       "      <td>0</td>\n",
       "    </tr>\n",
       "    <tr>\n",
       "      <th>...</th>\n",
       "      <td>...</td>\n",
       "      <td>...</td>\n",
       "      <td>...</td>\n",
       "      <td>...</td>\n",
       "      <td>...</td>\n",
       "    </tr>\n",
       "    <tr>\n",
       "      <th>4459</th>\n",
       "      <td>cortonovich</td>\n",
       "      <td>1</td>\n",
       "      <td>0</td>\n",
       "      <td>0</td>\n",
       "      <td>0</td>\n",
       "    </tr>\n",
       "    <tr>\n",
       "      <th>4460</th>\n",
       "      <td>zanutta</td>\n",
       "      <td>1</td>\n",
       "      <td>0</td>\n",
       "      <td>0</td>\n",
       "      <td>0</td>\n",
       "    </tr>\n",
       "    <tr>\n",
       "      <th>4461</th>\n",
       "      <td>manfrini</td>\n",
       "      <td>1</td>\n",
       "      <td>0</td>\n",
       "      <td>0</td>\n",
       "      <td>0</td>\n",
       "    </tr>\n",
       "    <tr>\n",
       "      <th>4462</th>\n",
       "      <td>bardini</td>\n",
       "      <td>1</td>\n",
       "      <td>0</td>\n",
       "      <td>0</td>\n",
       "      <td>0</td>\n",
       "    </tr>\n",
       "    <tr>\n",
       "      <th>4463</th>\n",
       "      <td>sulaam</td>\n",
       "      <td>1</td>\n",
       "      <td>0</td>\n",
       "      <td>0</td>\n",
       "      <td>0</td>\n",
       "    </tr>\n",
       "  </tbody>\n",
       "</table>\n",
       "<p>4463 rows × 5 columns</p>\n",
       "</div>"
      ],
      "text/plain": [
       "           family 1808 Noble Citoyen famille.12e.siecle\n",
       "1          abramo    0    NA       0                  0\n",
       "2        acotanto    0     1       0                  0\n",
       "3        acquisti    1     1       0                  0\n",
       "4           adami    1     1       1                  0\n",
       "5         adoaldi    0     1       0                  0\n",
       "...           ...  ...   ...     ...                ...\n",
       "4459  cortonovich    1     0       0                  0\n",
       "4460      zanutta    1     0       0                  0\n",
       "4461     manfrini    1     0       0                  0\n",
       "4462      bardini    1     0       0                  0\n",
       "4463       sulaam    1     0       0                  0\n",
       "\n",
       "[4463 rows x 5 columns]"
      ]
     },
     "execution_count": 4,
     "metadata": {},
     "output_type": "execute_result"
    }
   ],
   "source": [
    "list_family_names"
   ]
  },
  {
   "cell_type": "markdown",
   "id": "8823a963",
   "metadata": {},
   "source": [
    "### Extracting the family names in capital letters\n"
   ]
  },
  {
   "cell_type": "code",
   "execution_count": 5,
   "id": "29876fc3",
   "metadata": {},
   "outputs": [
    {
     "data": {
      "text/html": [
       "<div>\n",
       "<style scoped>\n",
       "    .dataframe tbody tr th:only-of-type {\n",
       "        vertical-align: middle;\n",
       "    }\n",
       "\n",
       "    .dataframe tbody tr th {\n",
       "        vertical-align: top;\n",
       "    }\n",
       "\n",
       "    .dataframe thead th {\n",
       "        text-align: right;\n",
       "    }\n",
       "</style>\n",
       "<table border=\"1\" class=\"dataframe\">\n",
       "  <thead>\n",
       "    <tr style=\"text-align: right;\">\n",
       "      <th></th>\n",
       "      <th>Names</th>\n",
       "    </tr>\n",
       "  </thead>\n",
       "  <tbody>\n",
       "    <tr>\n",
       "      <th>0</th>\n",
       "      <td>PAGANI</td>\n",
       "    </tr>\n",
       "    <tr>\n",
       "      <th>1</th>\n",
       "      <td>TIEPOLO</td>\n",
       "    </tr>\n",
       "    <tr>\n",
       "      <th>2</th>\n",
       "      <td>PAGANI</td>\n",
       "    </tr>\n",
       "    <tr>\n",
       "      <th>3</th>\n",
       "      <td>BELLI</td>\n",
       "    </tr>\n",
       "    <tr>\n",
       "      <th>4</th>\n",
       "      <td>TIEPOLO</td>\n",
       "    </tr>\n",
       "    <tr>\n",
       "      <th>...</th>\n",
       "      <td>...</td>\n",
       "    </tr>\n",
       "    <tr>\n",
       "      <th>23423</th>\n",
       "      <td>PIAZZA</td>\n",
       "    </tr>\n",
       "    <tr>\n",
       "      <th>23424</th>\n",
       "      <td>DEMANIO</td>\n",
       "    </tr>\n",
       "    <tr>\n",
       "      <th>23425</th>\n",
       "      <td>REGIO</td>\n",
       "    </tr>\n",
       "    <tr>\n",
       "      <th>23426</th>\n",
       "      <td>DEMANIO</td>\n",
       "    </tr>\n",
       "    <tr>\n",
       "      <th>23427</th>\n",
       "      <td>NaN</td>\n",
       "    </tr>\n",
       "  </tbody>\n",
       "</table>\n",
       "<p>23428 rows × 1 columns</p>\n",
       "</div>"
      ],
      "text/plain": [
       "         Names\n",
       "0       PAGANI\n",
       "1      TIEPOLO\n",
       "2       PAGANI\n",
       "3        BELLI\n",
       "4      TIEPOLO\n",
       "...        ...\n",
       "23423   PIAZZA\n",
       "23424  DEMANIO\n",
       "23425    REGIO\n",
       "23426  DEMANIO\n",
       "23427      NaN\n",
       "\n",
       "[23428 rows x 1 columns]"
      ]
     },
     "execution_count": 5,
     "metadata": {},
     "output_type": "execute_result"
    }
   ],
   "source": [
    "capitals = cadaster.parcelOwnerText.str.extract(r'(?P<Names>[A-Z]{2,})')\n",
    "capitals['Names'].apply(lambda x : len(str(x).split(\" \")))\n",
    "capitals"
   ]
  },
  {
   "cell_type": "code",
   "execution_count": 6,
   "id": "565a35a0",
   "metadata": {},
   "outputs": [
    {
     "data": {
      "text/plain": [
       "Names\n",
       "CITTA         652\n",
       "COMUNE        413\n",
       "MOROSINI      280\n",
       "CONTARINI     245\n",
       "CORNER        218\n",
       "             ... \n",
       "PICAZZO         1\n",
       "GUERINI         1\n",
       "PICCIOLI        1\n",
       "GUELLACASA      1\n",
       "LOCATELLII      1\n",
       "Name: Names, Length: 2196, dtype: int64"
      ]
     },
     "execution_count": 6,
     "metadata": {},
     "output_type": "execute_result"
    }
   ],
   "source": [
    "capitals.groupby('Names')['Names'].count().sort_values(ascending=False)"
   ]
  },
  {
   "cell_type": "code",
   "execution_count": 7,
   "id": "214b1186",
   "metadata": {},
   "outputs": [],
   "source": [
    "df = capitals[capitals['Names'].str.lower().isin(list_family_names.family)]"
   ]
  },
  {
   "cell_type": "code",
   "execution_count": 8,
   "id": "b2f2d7b0",
   "metadata": {},
   "outputs": [
    {
     "data": {
      "text/plain": [
       "Names\n",
       "CITTA        652\n",
       "COMUNE       413\n",
       "MOROSINI     280\n",
       "CONTARINI    245\n",
       "CORNER       218\n",
       "            ... \n",
       "PICAZZO        1\n",
       "GUERINI        1\n",
       "PICCIOLI       1\n",
       "BUSSELLA       1\n",
       "LIVIO          1\n",
       "Name: Names, Length: 2185, dtype: int64"
      ]
     },
     "execution_count": 8,
     "metadata": {},
     "output_type": "execute_result"
    }
   ],
   "source": [
    "df.groupby('Names')['Names'].count().sort_values(ascending=False)"
   ]
  },
  {
   "cell_type": "code",
   "execution_count": 9,
   "id": "e42d9bc4",
   "metadata": {},
   "outputs": [],
   "source": [
    "public_names = 'citta|demanio|chiesa|piazza|ministero|comune|societa|congregazione|di'\n",
    "non_public = df[~df.Names.str.contains(public_names, na=False, case=False)]\n",
    "name_count_cadaster = non_public.groupby('Names')['Names'].count().sort_values(ascending=False)"
   ]
  },
  {
   "cell_type": "code",
   "execution_count": 10,
   "id": "e2d0ce65",
   "metadata": {},
   "outputs": [],
   "source": [
    "name_count_cadaster.to_csv('data/names_cadaster.csv')"
   ]
  },
  {
   "cell_type": "markdown",
   "id": "81882220",
   "metadata": {},
   "source": [
    "## Catastici"
   ]
  },
  {
   "cell_type": "code",
   "execution_count": 11,
   "id": "6ca1d442",
   "metadata": {},
   "outputs": [],
   "source": [
    "catastici = pd.read_csv('data/catastici_1741_cleaned.csv')"
   ]
  },
  {
   "cell_type": "code",
   "execution_count": 12,
   "id": "972d1c56",
   "metadata": {},
   "outputs": [],
   "source": [
    "family_name_options = list_family_names['family'].values\n",
    "\n",
    "catastici['entryOwnerText_l'] = catastici['entryOwnerText'].apply(lambda x: str(x).lower())\n",
    "catastici['entryTenantText_l'] = catastici['entryTenantText'].apply(lambda x: str(x).lower())\n",
    "\n"
   ]
  },
  {
   "cell_type": "code",
   "execution_count": 13,
   "id": "43ff6ce7",
   "metadata": {},
   "outputs": [
    {
     "ename": "ModuleNotFoundError",
     "evalue": "No module named 'fuzzywuzzy'",
     "output_type": "error",
     "traceback": [
      "\u001b[1;31m---------------------------------------------------------------------------\u001b[0m",
      "\u001b[1;31mModuleNotFoundError\u001b[0m                       Traceback (most recent call last)",
      "\u001b[1;32m<ipython-input-13-8efca6bed098>\u001b[0m in \u001b[0;36m<module>\u001b[1;34m\u001b[0m\n\u001b[0;32m      1\u001b[0m \u001b[1;31m# we will use a fuzzy ratio to extract the name\u001b[0m\u001b[1;33m\u001b[0m\u001b[1;33m\u001b[0m\u001b[1;33m\u001b[0m\u001b[0m\n\u001b[1;32m----> 2\u001b[1;33m \u001b[1;32mfrom\u001b[0m \u001b[0mfuzzywuzzy\u001b[0m \u001b[1;32mimport\u001b[0m \u001b[0mfuzz\u001b[0m\u001b[1;33m,\u001b[0m \u001b[0mprocess\u001b[0m\u001b[1;33m\u001b[0m\u001b[1;33m\u001b[0m\u001b[0m\n\u001b[0m\u001b[0;32m      3\u001b[0m \u001b[1;33m\u001b[0m\u001b[0m\n\u001b[0;32m      4\u001b[0m \u001b[0mtop_3_names\u001b[0m \u001b[1;33m=\u001b[0m \u001b[0mcatastici\u001b[0m\u001b[1;33m[\u001b[0m\u001b[1;34m'entryOwnerText_l'\u001b[0m\u001b[1;33m]\u001b[0m\u001b[1;33m.\u001b[0m\u001b[0mapply\u001b[0m\u001b[1;33m(\u001b[0m\u001b[1;32mlambda\u001b[0m \u001b[0mx\u001b[0m\u001b[1;33m:\u001b[0m \u001b[0mprocess\u001b[0m\u001b[1;33m.\u001b[0m\u001b[0mextract\u001b[0m\u001b[1;33m(\u001b[0m\u001b[0mx\u001b[0m\u001b[1;33m,\u001b[0m\u001b[0mfamily_name_options\u001b[0m\u001b[1;33m,\u001b[0m \u001b[0mscorer\u001b[0m\u001b[1;33m=\u001b[0m\u001b[0mfuzz\u001b[0m\u001b[1;33m.\u001b[0m\u001b[0mtoken_set_ratio\u001b[0m\u001b[1;33m,\u001b[0m \u001b[0mlimit\u001b[0m \u001b[1;33m=\u001b[0m \u001b[1;36m3\u001b[0m\u001b[1;33m)\u001b[0m\u001b[1;33m)\u001b[0m\u001b[1;33m\u001b[0m\u001b[1;33m\u001b[0m\u001b[0m\n",
      "\u001b[1;31mModuleNotFoundError\u001b[0m: No module named 'fuzzywuzzy'"
     ]
    }
   ],
   "source": [
    "# we will use a fuzzy ratio to extract the name\n",
    "from fuzzywuzzy import fuzz, process\n",
    "\n",
    "top_3_names = catastici['entryOwnerText_l'].apply(lambda x: process.extract(x,family_name_options, scorer=fuzz.token_set_ratio, limit = 3))\n"
   ]
  },
  {
   "cell_type": "code",
   "execution_count": 14,
   "id": "698be953",
   "metadata": {},
   "outputs": [
    {
     "ename": "NameError",
     "evalue": "name 'process' is not defined",
     "output_type": "error",
     "traceback": [
      "\u001b[1;31m---------------------------------------------------------------------------\u001b[0m",
      "\u001b[1;31mNameError\u001b[0m                                 Traceback (most recent call last)",
      "\u001b[1;32m<ipython-input-14-37b53f76cf47>\u001b[0m in \u001b[0;36m<module>\u001b[1;34m\u001b[0m\n\u001b[1;32m----> 1\u001b[1;33m \u001b[0mtenant_name\u001b[0m \u001b[1;33m=\u001b[0m \u001b[0mcatastici\u001b[0m\u001b[1;33m[\u001b[0m\u001b[1;34m'entryTenantText_l'\u001b[0m\u001b[1;33m]\u001b[0m\u001b[1;33m.\u001b[0m\u001b[0mapply\u001b[0m\u001b[1;33m(\u001b[0m\u001b[1;32mlambda\u001b[0m \u001b[0mx\u001b[0m\u001b[1;33m:\u001b[0m \u001b[0mprocess\u001b[0m\u001b[1;33m.\u001b[0m\u001b[0mextractOne\u001b[0m\u001b[1;33m(\u001b[0m\u001b[0mx\u001b[0m\u001b[1;33m,\u001b[0m\u001b[0mfamily_name_options\u001b[0m\u001b[1;33m,\u001b[0m \u001b[0mscorer\u001b[0m\u001b[1;33m=\u001b[0m\u001b[0mfuzz\u001b[0m\u001b[1;33m.\u001b[0m\u001b[0mtoken_set_ratio\u001b[0m\u001b[1;33m)\u001b[0m\u001b[1;33m)\u001b[0m\u001b[1;33m\u001b[0m\u001b[1;33m\u001b[0m\u001b[0m\n\u001b[0m",
      "\u001b[1;32m~\\anaconda3\\lib\\site-packages\\pandas\\core\\series.py\u001b[0m in \u001b[0;36mapply\u001b[1;34m(self, func, convert_dtype, args, **kwds)\u001b[0m\n\u001b[0;32m   4136\u001b[0m             \u001b[1;32melse\u001b[0m\u001b[1;33m:\u001b[0m\u001b[1;33m\u001b[0m\u001b[1;33m\u001b[0m\u001b[0m\n\u001b[0;32m   4137\u001b[0m                 \u001b[0mvalues\u001b[0m \u001b[1;33m=\u001b[0m \u001b[0mself\u001b[0m\u001b[1;33m.\u001b[0m\u001b[0mastype\u001b[0m\u001b[1;33m(\u001b[0m\u001b[0mobject\u001b[0m\u001b[1;33m)\u001b[0m\u001b[1;33m.\u001b[0m\u001b[0m_values\u001b[0m\u001b[1;33m\u001b[0m\u001b[1;33m\u001b[0m\u001b[0m\n\u001b[1;32m-> 4138\u001b[1;33m                 \u001b[0mmapped\u001b[0m \u001b[1;33m=\u001b[0m \u001b[0mlib\u001b[0m\u001b[1;33m.\u001b[0m\u001b[0mmap_infer\u001b[0m\u001b[1;33m(\u001b[0m\u001b[0mvalues\u001b[0m\u001b[1;33m,\u001b[0m \u001b[0mf\u001b[0m\u001b[1;33m,\u001b[0m \u001b[0mconvert\u001b[0m\u001b[1;33m=\u001b[0m\u001b[0mconvert_dtype\u001b[0m\u001b[1;33m)\u001b[0m\u001b[1;33m\u001b[0m\u001b[1;33m\u001b[0m\u001b[0m\n\u001b[0m\u001b[0;32m   4139\u001b[0m \u001b[1;33m\u001b[0m\u001b[0m\n\u001b[0;32m   4140\u001b[0m         \u001b[1;32mif\u001b[0m \u001b[0mlen\u001b[0m\u001b[1;33m(\u001b[0m\u001b[0mmapped\u001b[0m\u001b[1;33m)\u001b[0m \u001b[1;32mand\u001b[0m \u001b[0misinstance\u001b[0m\u001b[1;33m(\u001b[0m\u001b[0mmapped\u001b[0m\u001b[1;33m[\u001b[0m\u001b[1;36m0\u001b[0m\u001b[1;33m]\u001b[0m\u001b[1;33m,\u001b[0m \u001b[0mSeries\u001b[0m\u001b[1;33m)\u001b[0m\u001b[1;33m:\u001b[0m\u001b[1;33m\u001b[0m\u001b[1;33m\u001b[0m\u001b[0m\n",
      "\u001b[1;32mpandas\\_libs\\lib.pyx\u001b[0m in \u001b[0;36mpandas._libs.lib.map_infer\u001b[1;34m()\u001b[0m\n",
      "\u001b[1;32m<ipython-input-14-37b53f76cf47>\u001b[0m in \u001b[0;36m<lambda>\u001b[1;34m(x)\u001b[0m\n\u001b[1;32m----> 1\u001b[1;33m \u001b[0mtenant_name\u001b[0m \u001b[1;33m=\u001b[0m \u001b[0mcatastici\u001b[0m\u001b[1;33m[\u001b[0m\u001b[1;34m'entryTenantText_l'\u001b[0m\u001b[1;33m]\u001b[0m\u001b[1;33m.\u001b[0m\u001b[0mapply\u001b[0m\u001b[1;33m(\u001b[0m\u001b[1;32mlambda\u001b[0m \u001b[0mx\u001b[0m\u001b[1;33m:\u001b[0m \u001b[0mprocess\u001b[0m\u001b[1;33m.\u001b[0m\u001b[0mextractOne\u001b[0m\u001b[1;33m(\u001b[0m\u001b[0mx\u001b[0m\u001b[1;33m,\u001b[0m\u001b[0mfamily_name_options\u001b[0m\u001b[1;33m,\u001b[0m \u001b[0mscorer\u001b[0m\u001b[1;33m=\u001b[0m\u001b[0mfuzz\u001b[0m\u001b[1;33m.\u001b[0m\u001b[0mtoken_set_ratio\u001b[0m\u001b[1;33m)\u001b[0m\u001b[1;33m)\u001b[0m\u001b[1;33m\u001b[0m\u001b[1;33m\u001b[0m\u001b[0m\n\u001b[0m",
      "\u001b[1;31mNameError\u001b[0m: name 'process' is not defined"
     ]
    }
   ],
   "source": [
    "tenant_name = catastici['entryTenantText_l'].apply(lambda x: process.extractOne(x,family_name_options, scorer=fuzz.token_set_ratio))\n"
   ]
  },
  {
   "cell_type": "code",
   "execution_count": 15,
   "id": "0392e1b1",
   "metadata": {},
   "outputs": [],
   "source": [
    "tenant_name = pd.read_csv(\"tenant_names.csv\")\n",
    "top_3_names = pd.read_csv(\"top_3_names.csv\")"
   ]
  },
  {
   "cell_type": "code",
   "execution_count": 16,
   "id": "7fba5120",
   "metadata": {},
   "outputs": [],
   "source": [
    "# tenant_name.to_csv(\"tenant_names.csv\")"
   ]
  },
  {
   "cell_type": "code",
   "execution_count": 17,
   "id": "525d504f",
   "metadata": {},
   "outputs": [],
   "source": [
    "tenant_name = tenant_name.drop(\"Unnamed: 0\", axis = 1)\n",
    "top_3_names = top_3_names.drop(\"Unnamed: 0\", axis = 1)"
   ]
  },
  {
   "cell_type": "code",
   "execution_count": 18,
   "id": "01049f14",
   "metadata": {},
   "outputs": [],
   "source": [
    "tenant_name['entryTenantText_l']= tenant_name['entryTenantText_l'].apply(lambda x: eval(x))\n",
    "catastici['tenant'] = pd.DataFrame(tenant_name)"
   ]
  },
  {
   "cell_type": "code",
   "execution_count": 19,
   "id": "dff3d647",
   "metadata": {},
   "outputs": [],
   "source": [
    "top_3_names['entryOwnerText_l']= top_3_names['entryOwnerText_l'].apply(lambda x: eval(x))\n"
   ]
  },
  {
   "cell_type": "code",
   "execution_count": null,
   "id": "fa84ad9f",
   "metadata": {},
   "outputs": [],
   "source": []
  },
  {
   "cell_type": "code",
   "execution_count": 20,
   "id": "363648d1",
   "metadata": {},
   "outputs": [],
   "source": [
    "owner_3 = ['owner_name1','owner_name2','owner_name3']\n",
    "catastici[owner_3] = pd.DataFrame(top_3_names)['entryOwnerText_l'].apply(lambda x: pd.Series(x))"
   ]
  },
  {
   "cell_type": "code",
   "execution_count": 21,
   "id": "a774d6f0",
   "metadata": {},
   "outputs": [],
   "source": [
    "for col in owner_3:\n",
    "    catastici[col] = catastici[col].apply(lambda x: x[0] if x[1] > 95 else None)\n",
    "    catastici[col] = catastici[col].apply(lambda x: x if x != 'di' and x != 'de' else None)"
   ]
  },
  {
   "cell_type": "code",
   "execution_count": 22,
   "id": "1fcff270",
   "metadata": {},
   "outputs": [],
   "source": [
    "catastici['tenant'] = catastici['tenant'].apply(lambda x: x[0])"
   ]
  },
  {
   "cell_type": "code",
   "execution_count": null,
   "id": "905b8271",
   "metadata": {},
   "outputs": [],
   "source": []
  },
  {
   "cell_type": "code",
   "execution_count": 23,
   "id": "12b685af",
   "metadata": {},
   "outputs": [],
   "source": [
    "melted = catastici.melt(id_vars = ['id', 'entryId', 'entryOwnerText', 'entryTenantText',\n",
    "       'entryCategoryText', 'rent', 'cadaster1808Correspondance', 'toponym',\n",
    "       'entryCategories', 'cadaster1808ClosestParcel', 'position',\n",
    "       'entryOwnerText_l','tenant','entryTenantText_l']).dropna(subset=['value'])"
   ]
  },
  {
   "cell_type": "code",
   "execution_count": 24,
   "id": "436fb395",
   "metadata": {},
   "outputs": [],
   "source": [
    "melted['family_owner_count'] = melted.groupby('value')['id'].transform('count')"
   ]
  },
  {
   "cell_type": "code",
   "execution_count": null,
   "id": "c02c4ae7",
   "metadata": {},
   "outputs": [],
   "source": []
  },
  {
   "cell_type": "code",
   "execution_count": 25,
   "id": "caa2be95",
   "metadata": {},
   "outputs": [],
   "source": [
    "melted['family_tenant_count'] = melted.groupby('tenant')['id'].transform('count')"
   ]
  },
  {
   "cell_type": "code",
   "execution_count": 26,
   "id": "5e8a3a05",
   "metadata": {},
   "outputs": [
    {
     "data": {
      "text/plain": [
       "2         47\n",
       "3         42\n",
       "4         18\n",
       "5        155\n",
       "6         17\n",
       "        ... \n",
       "29136     30\n",
       "29137      4\n",
       "29138     68\n",
       "29139     45\n",
       "29164    843\n",
       "Name: family_tenant_count, Length: 12689, dtype: int64"
      ]
     },
     "execution_count": 26,
     "metadata": {},
     "output_type": "execute_result"
    }
   ],
   "source": [
    "melted['family_tenant_count']"
   ]
  },
  {
   "cell_type": "code",
   "execution_count": 27,
   "id": "7b4617a9",
   "metadata": {},
   "outputs": [],
   "source": [
    "cata2 = pd.read_csv('cata2.csv')"
   ]
  },
  {
   "cell_type": "code",
   "execution_count": 28,
   "id": "8e0173ed",
   "metadata": {},
   "outputs": [],
   "source": [
    "cata3 = cata2[['cadaster1808Correspondance','area','parcelNumber']].drop_duplicates().merge(melted, on = 'cadaster1808Correspondance')"
   ]
  },
  {
   "cell_type": "code",
   "execution_count": 29,
   "id": "e4fd9fb5",
   "metadata": {},
   "outputs": [],
   "source": [
    "cata3['ownerAreaSum'] = cata3.groupby('value')['area'].transform('sum')\n",
    "cata3['family_area_mean'] = cata3['ownerAreaSum'] / cata3['family_owner_count']\n"
   ]
  },
  {
   "cell_type": "code",
   "execution_count": 30,
   "id": "99436fd7",
   "metadata": {},
   "outputs": [],
   "source": [
    "melted[['category1','category2','category3']] = melted['entryCategories'].apply(lambda x: eval(x)).apply(pd.Series)"
   ]
  },
  {
   "cell_type": "code",
   "execution_count": 31,
   "id": "bfc0a151",
   "metadata": {},
   "outputs": [],
   "source": [
    "melted2 = melted.melt(id_vars=  ['id', 'entryId', 'entryOwnerText', 'entryTenantText',\n",
    "       'entryCategoryText', 'rent', 'cadaster1808Correspondance', 'toponym',\n",
    "       'entryCategories', 'cadaster1808ClosestParcel', 'position',\n",
    "       'entryOwnerText_l','tenant','entryTenantText_l','variable','value',\n",
    "                                'family_owner_count','family_tenant_count'], value_name = 'category').dropna(subset=['category'])"
   ]
  },
  {
   "cell_type": "code",
   "execution_count": null,
   "id": "e582ee51",
   "metadata": {},
   "outputs": [],
   "source": []
  },
  {
   "cell_type": "code",
   "execution_count": 32,
   "id": "61530377",
   "metadata": {},
   "outputs": [],
   "source": [
    "type_of_ownership = melted2.groupby(['value','category','entryId'])['id'].count().reset_index()"
   ]
  },
  {
   "cell_type": "code",
   "execution_count": 33,
   "id": "e9fc43a5",
   "metadata": {},
   "outputs": [],
   "source": [
    "vals = type_of_ownership[type_of_ownership['value'] == 'morosini'].groupby(\"category\")['entryId'].nunique()"
   ]
  },
  {
   "cell_type": "code",
   "execution_count": 34,
   "id": "1974352b",
   "metadata": {},
   "outputs": [
    {
     "name": "stderr",
     "output_type": "stream",
     "text": [
      "<ipython-input-34-d2e9234959c8>:8: UserWarning: FixedFormatter should only be used together with FixedLocator\n",
      "  ax.set_xticklabels(vals.index,rotation = 90)\n"
     ]
    },
    {
     "data": {
      "text/plain": [
       "[Text(0, 0, 'housing'),\n",
       " Text(1, 0, 'storage'),\n",
       " Text(2, 0, 'shop'),\n",
       " Text(3, 0, 'hospitality'),\n",
       " Text(4, 0, 'entertainment'),\n",
       " Text(5, 0, 'palace')]"
      ]
     },
     "execution_count": 34,
     "metadata": {},
     "output_type": "execute_result"
    },
    {
     "data": {
      "image/png": "[encoded data removed]",
      "text/plain": [
       "<Figure size 648x504 with 1 Axes>"
      ]
     },
     "metadata": {
      "needs_background": "light"
     },
     "output_type": "display_data"
    }
   ],
   "source": [
    "# for_plot = morosini.sort_values(by = 'proportion_of_rentals',ascending=False).head(20)\n",
    "vals = vals.sort_values(ascending=False)\n",
    "fig, ax = plt.subplots(figsize=(9,7))\n",
    "ax.bar(vals.index,vals.values)\n",
    "ax.set_xlabel(\"tenant name\")\n",
    "ax.set_ylabel(\"Type of Ownership\")\n",
    "ax.set_title(\"What does the Morosini own\")\n",
    "ax.set_xticklabels(vals.index,rotation = 90)"
   ]
  },
  {
   "cell_type": "code",
   "execution_count": 42,
   "id": "ad3c42a3",
   "metadata": {},
   "outputs": [],
   "source": [
    "vals.to_json('morosini.json', orient='index')"
   ]
  },
  {
   "cell_type": "code",
   "execution_count": 43,
   "id": "e4f35438",
   "metadata": {},
   "outputs": [],
   "source": [
    "vals_contarini = type_of_ownership[type_of_ownership['value'] == 'contarini'].groupby(\"category\")['entryId'].nunique()"
   ]
  },
  {
   "cell_type": "code",
   "execution_count": 45,
   "id": "2e283b53",
   "metadata": {},
   "outputs": [],
   "source": [
    "vals_contarini.to_json('contarini.json', orient='index')\n"
   ]
  },
  {
   "cell_type": "code",
   "execution_count": 47,
   "id": "04789336",
   "metadata": {},
   "outputs": [],
   "source": [
    "morosini = melted[melted['value'] == 'morosini'].groupby('tenant').agg({'id':'count','family_tenant_count':'mean'})"
   ]
  },
  {
   "cell_type": "code",
   "execution_count": 48,
   "id": "78df2a4b",
   "metadata": {},
   "outputs": [],
   "source": [
    "morosini['proportion_of_rentals'] = morosini['id'] / morosini['family_tenant_count']"
   ]
  },
  {
   "cell_type": "code",
   "execution_count": 37,
   "id": "14a22627",
   "metadata": {
    "scrolled": true
   },
   "outputs": [
    {
     "name": "stderr",
     "output_type": "stream",
     "text": [
      "<ipython-input-37-d1051a1a3bbb>:7: UserWarning: FixedFormatter should only be used together with FixedLocator\n",
      "  ax.set_xticklabels(for_plot.index,rotation = 90)\n"
     ]
    },
    {
     "data": {
      "text/plain": [
       "[Text(0, 0, 'ronzoni'),\n",
       " Text(1, 0, 'gidoni'),\n",
       " Text(2, 0, 'grassianceli'),\n",
       " Text(3, 0, 'greco'),\n",
       " Text(4, 0, 'brini'),\n",
       " Text(5, 0, 'agrinali'),\n",
       " Text(6, 0, 'bocchini'),\n",
       " Text(7, 0, 'epis'),\n",
       " Text(8, 0, 'coreggio'),\n",
       " Text(9, 0, 'gagio'),\n",
       " Text(10, 0, 'gerlin'),\n",
       " Text(11, 0, 'maistrorso'),\n",
       " Text(12, 0, 'persego'),\n",
       " Text(13, 0, 'boniol'),\n",
       " Text(14, 0, 'mazzamano'),\n",
       " Text(15, 0, 'satelico'),\n",
       " Text(16, 0, 'megliorini'),\n",
       " Text(17, 0, 'morari'),\n",
       " Text(18, 0, 'pagan'),\n",
       " Text(19, 0, 'stae')]"
      ]
     },
     "execution_count": 37,
     "metadata": {},
     "output_type": "execute_result"
    },
    {
     "data": {
      "image/png": "[encoded data removed]",
      "text/plain": [
       "<Figure size 792x648 with 1 Axes>"
      ]
     },
     "metadata": {
      "needs_background": "light"
     },
     "output_type": "display_data"
    }
   ],
   "source": [
    "for_plot = morosini.sort_values(by = 'proportion_of_rentals',ascending=False).head(20)\n",
    "fig, ax = plt.subplots(figsize=(11,9))\n",
    "ax.bar(for_plot.index,for_plot['proportion_of_rentals'])\n",
    "ax.set_xlabel(\"tenant name\")\n",
    "ax.set_ylabel(\"proportion of rentals\")\n",
    "ax.set_title(\"Who the Morosini family rents to\")\n",
    "ax.set_xticklabels(for_plot.index,rotation = 90)"
   ]
  },
  {
   "cell_type": "code",
   "execution_count": 51,
   "id": "01814bb9",
   "metadata": {},
   "outputs": [],
   "source": [
    "contarini = melted[melted['value'] == 'contarini'].groupby('tenant').agg({'id':'count','family_tenant_count':'mean'})"
   ]
  },
  {
   "cell_type": "code",
   "execution_count": 64,
   "id": "f77cccd4",
   "metadata": {},
   "outputs": [],
   "source": [
    "contarini.drop('id', axis=1).sort_values(by='family_tenant_count', ascending=False).head(10).to_json('contarini_top_10.json')"
   ]
  },
  {
   "cell_type": "code",
   "execution_count": 38,
   "id": "e88f5b71",
   "metadata": {},
   "outputs": [
    {
     "ename": "AttributeError",
     "evalue": "'SeriesGroupBy' object has no attribute ''",
     "output_type": "error",
     "traceback": [
      "\u001b[1;31m---------------------------------------------------------------------------\u001b[0m",
      "\u001b[1;31mAttributeError\u001b[0m                            Traceback (most recent call last)",
      "\u001b[1;32m<ipython-input-38-14eb5c8d31c9>\u001b[0m in \u001b[0;36m<module>\u001b[1;34m\u001b[0m\n\u001b[1;32m----> 1\u001b[1;33m \u001b[0mmelted\u001b[0m\u001b[1;33m.\u001b[0m\u001b[0mgroupby\u001b[0m\u001b[1;33m(\u001b[0m\u001b[1;34m'value'\u001b[0m\u001b[1;33m)\u001b[0m\u001b[1;33m.\u001b[0m\u001b[0magg\u001b[0m\u001b[1;33m(\u001b[0m\u001b[1;33m{\u001b[0m\u001b[1;34m''\u001b[0m\u001b[1;33m}\u001b[0m\u001b[1;33m)\u001b[0m\u001b[1;33m\u001b[0m\u001b[1;33m\u001b[0m\u001b[0m\n\u001b[0m",
      "\u001b[1;32m~\\anaconda3\\lib\\site-packages\\pandas\\core\\groupby\\generic.py\u001b[0m in \u001b[0;36maggregate\u001b[1;34m(self, func, engine, engine_kwargs, *args, **kwargs)\u001b[0m\n\u001b[0;32m    943\u001b[0m         \u001b[0mfunc\u001b[0m \u001b[1;33m=\u001b[0m \u001b[0mmaybe_mangle_lambdas\u001b[0m\u001b[1;33m(\u001b[0m\u001b[0mfunc\u001b[0m\u001b[1;33m)\u001b[0m\u001b[1;33m\u001b[0m\u001b[1;33m\u001b[0m\u001b[0m\n\u001b[0;32m    944\u001b[0m \u001b[1;33m\u001b[0m\u001b[0m\n\u001b[1;32m--> 945\u001b[1;33m         \u001b[0mresult\u001b[0m\u001b[1;33m,\u001b[0m \u001b[0mhow\u001b[0m \u001b[1;33m=\u001b[0m \u001b[0maggregate\u001b[0m\u001b[1;33m(\u001b[0m\u001b[0mself\u001b[0m\u001b[1;33m,\u001b[0m \u001b[0mfunc\u001b[0m\u001b[1;33m,\u001b[0m \u001b[1;33m*\u001b[0m\u001b[0margs\u001b[0m\u001b[1;33m,\u001b[0m \u001b[1;33m**\u001b[0m\u001b[0mkwargs\u001b[0m\u001b[1;33m)\u001b[0m\u001b[1;33m\u001b[0m\u001b[1;33m\u001b[0m\u001b[0m\n\u001b[0m\u001b[0;32m    946\u001b[0m         \u001b[1;32mif\u001b[0m \u001b[0mhow\u001b[0m \u001b[1;32mis\u001b[0m \u001b[1;32mNone\u001b[0m\u001b[1;33m:\u001b[0m\u001b[1;33m\u001b[0m\u001b[1;33m\u001b[0m\u001b[0m\n\u001b[0;32m    947\u001b[0m             \u001b[1;32mreturn\u001b[0m \u001b[0mresult\u001b[0m\u001b[1;33m\u001b[0m\u001b[1;33m\u001b[0m\u001b[0m\n",
      "\u001b[1;32m~\\anaconda3\\lib\\site-packages\\pandas\\core\\aggregation.py\u001b[0m in \u001b[0;36maggregate\u001b[1;34m(obj, arg, *args, **kwargs)\u001b[0m\n\u001b[0;32m    584\u001b[0m         \u001b[1;31m# we require a list, but not an 'str'\u001b[0m\u001b[1;33m\u001b[0m\u001b[1;33m\u001b[0m\u001b[1;33m\u001b[0m\u001b[0m\n\u001b[0;32m    585\u001b[0m         \u001b[0marg\u001b[0m \u001b[1;33m=\u001b[0m \u001b[0mcast\u001b[0m\u001b[1;33m(\u001b[0m\u001b[0mList\u001b[0m\u001b[1;33m[\u001b[0m\u001b[0mAggFuncTypeBase\u001b[0m\u001b[1;33m]\u001b[0m\u001b[1;33m,\u001b[0m \u001b[0marg\u001b[0m\u001b[1;33m)\u001b[0m\u001b[1;33m\u001b[0m\u001b[1;33m\u001b[0m\u001b[0m\n\u001b[1;32m--> 586\u001b[1;33m         \u001b[1;32mreturn\u001b[0m \u001b[0magg_list_like\u001b[0m\u001b[1;33m(\u001b[0m\u001b[0mobj\u001b[0m\u001b[1;33m,\u001b[0m \u001b[0marg\u001b[0m\u001b[1;33m,\u001b[0m \u001b[0m_axis\u001b[0m\u001b[1;33m=\u001b[0m\u001b[0m_axis\u001b[0m\u001b[1;33m)\u001b[0m\u001b[1;33m,\u001b[0m \u001b[1;32mNone\u001b[0m\u001b[1;33m\u001b[0m\u001b[1;33m\u001b[0m\u001b[0m\n\u001b[0m\u001b[0;32m    587\u001b[0m     \u001b[1;32melse\u001b[0m\u001b[1;33m:\u001b[0m\u001b[1;33m\u001b[0m\u001b[1;33m\u001b[0m\u001b[0m\n\u001b[0;32m    588\u001b[0m         \u001b[0mresult\u001b[0m \u001b[1;33m=\u001b[0m \u001b[1;32mNone\u001b[0m\u001b[1;33m\u001b[0m\u001b[1;33m\u001b[0m\u001b[0m\n",
      "\u001b[1;32m~\\anaconda3\\lib\\site-packages\\pandas\\core\\aggregation.py\u001b[0m in \u001b[0;36magg_list_like\u001b[1;34m(obj, arg, _axis)\u001b[0m\n\u001b[0;32m    651\u001b[0m             \u001b[0mcolg\u001b[0m \u001b[1;33m=\u001b[0m \u001b[0mobj\u001b[0m\u001b[1;33m.\u001b[0m\u001b[0m_gotitem\u001b[0m\u001b[1;33m(\u001b[0m\u001b[0mcol\u001b[0m\u001b[1;33m,\u001b[0m \u001b[0mndim\u001b[0m\u001b[1;33m=\u001b[0m\u001b[1;36m1\u001b[0m\u001b[1;33m,\u001b[0m \u001b[0msubset\u001b[0m\u001b[1;33m=\u001b[0m\u001b[0mselected_obj\u001b[0m\u001b[1;33m.\u001b[0m\u001b[0miloc\u001b[0m\u001b[1;33m[\u001b[0m\u001b[1;33m:\u001b[0m\u001b[1;33m,\u001b[0m \u001b[0mindex\u001b[0m\u001b[1;33m]\u001b[0m\u001b[1;33m)\u001b[0m\u001b[1;33m\u001b[0m\u001b[1;33m\u001b[0m\u001b[0m\n\u001b[0;32m    652\u001b[0m             \u001b[1;32mtry\u001b[0m\u001b[1;33m:\u001b[0m\u001b[1;33m\u001b[0m\u001b[1;33m\u001b[0m\u001b[0m\n\u001b[1;32m--> 653\u001b[1;33m                 \u001b[0mnew_res\u001b[0m \u001b[1;33m=\u001b[0m \u001b[0mcolg\u001b[0m\u001b[1;33m.\u001b[0m\u001b[0maggregate\u001b[0m\u001b[1;33m(\u001b[0m\u001b[0marg\u001b[0m\u001b[1;33m)\u001b[0m\u001b[1;33m\u001b[0m\u001b[1;33m\u001b[0m\u001b[0m\n\u001b[0m\u001b[0;32m    654\u001b[0m             \u001b[1;32mexcept\u001b[0m \u001b[1;33m(\u001b[0m\u001b[0mTypeError\u001b[0m\u001b[1;33m,\u001b[0m \u001b[0mDataError\u001b[0m\u001b[1;33m)\u001b[0m\u001b[1;33m:\u001b[0m\u001b[1;33m\u001b[0m\u001b[1;33m\u001b[0m\u001b[0m\n\u001b[0;32m    655\u001b[0m                 \u001b[1;32mpass\u001b[0m\u001b[1;33m\u001b[0m\u001b[1;33m\u001b[0m\u001b[0m\n",
      "\u001b[1;32m~\\anaconda3\\lib\\site-packages\\pandas\\core\\groupby\\generic.py\u001b[0m in \u001b[0;36maggregate\u001b[1;34m(self, func, engine, engine_kwargs, *args, **kwargs)\u001b[0m\n\u001b[0;32m    245\u001b[0m             \u001b[1;31m# but not the class list / tuple itself.\u001b[0m\u001b[1;33m\u001b[0m\u001b[1;33m\u001b[0m\u001b[1;33m\u001b[0m\u001b[0m\n\u001b[0;32m    246\u001b[0m             \u001b[0mfunc\u001b[0m \u001b[1;33m=\u001b[0m \u001b[0mmaybe_mangle_lambdas\u001b[0m\u001b[1;33m(\u001b[0m\u001b[0mfunc\u001b[0m\u001b[1;33m)\u001b[0m\u001b[1;33m\u001b[0m\u001b[1;33m\u001b[0m\u001b[0m\n\u001b[1;32m--> 247\u001b[1;33m             \u001b[0mret\u001b[0m \u001b[1;33m=\u001b[0m \u001b[0mself\u001b[0m\u001b[1;33m.\u001b[0m\u001b[0m_aggregate_multiple_funcs\u001b[0m\u001b[1;33m(\u001b[0m\u001b[0mfunc\u001b[0m\u001b[1;33m)\u001b[0m\u001b[1;33m\u001b[0m\u001b[1;33m\u001b[0m\u001b[0m\n\u001b[0m\u001b[0;32m    248\u001b[0m             \u001b[1;32mif\u001b[0m \u001b[0mrelabeling\u001b[0m\u001b[1;33m:\u001b[0m\u001b[1;33m\u001b[0m\u001b[1;33m\u001b[0m\u001b[0m\n\u001b[0;32m    249\u001b[0m                 \u001b[0mret\u001b[0m\u001b[1;33m.\u001b[0m\u001b[0mcolumns\u001b[0m \u001b[1;33m=\u001b[0m \u001b[0mcolumns\u001b[0m\u001b[1;33m\u001b[0m\u001b[1;33m\u001b[0m\u001b[0m\n",
      "\u001b[1;32m~\\anaconda3\\lib\\site-packages\\pandas\\core\\groupby\\generic.py\u001b[0m in \u001b[0;36m_aggregate_multiple_funcs\u001b[1;34m(self, arg)\u001b[0m\n\u001b[0;32m    313\u001b[0m                 \u001b[0mobj\u001b[0m\u001b[1;33m.\u001b[0m\u001b[0m_reset_cache\u001b[0m\u001b[1;33m(\u001b[0m\u001b[1;33m)\u001b[0m\u001b[1;33m\u001b[0m\u001b[1;33m\u001b[0m\u001b[0m\n\u001b[0;32m    314\u001b[0m                 \u001b[0mobj\u001b[0m\u001b[1;33m.\u001b[0m\u001b[0m_selection\u001b[0m \u001b[1;33m=\u001b[0m \u001b[0mname\u001b[0m\u001b[1;33m\u001b[0m\u001b[1;33m\u001b[0m\u001b[0m\n\u001b[1;32m--> 315\u001b[1;33m             \u001b[0mresults\u001b[0m\u001b[1;33m[\u001b[0m\u001b[0mbase\u001b[0m\u001b[1;33m.\u001b[0m\u001b[0mOutputKey\u001b[0m\u001b[1;33m(\u001b[0m\u001b[0mlabel\u001b[0m\u001b[1;33m=\u001b[0m\u001b[0mname\u001b[0m\u001b[1;33m,\u001b[0m \u001b[0mposition\u001b[0m\u001b[1;33m=\u001b[0m\u001b[0midx\u001b[0m\u001b[1;33m)\u001b[0m\u001b[1;33m]\u001b[0m \u001b[1;33m=\u001b[0m \u001b[0mobj\u001b[0m\u001b[1;33m.\u001b[0m\u001b[0maggregate\u001b[0m\u001b[1;33m(\u001b[0m\u001b[0mfunc\u001b[0m\u001b[1;33m)\u001b[0m\u001b[1;33m\u001b[0m\u001b[1;33m\u001b[0m\u001b[0m\n\u001b[0m\u001b[0;32m    316\u001b[0m \u001b[1;33m\u001b[0m\u001b[0m\n\u001b[0;32m    317\u001b[0m         \u001b[1;32mif\u001b[0m \u001b[0many\u001b[0m\u001b[1;33m(\u001b[0m\u001b[0misinstance\u001b[0m\u001b[1;33m(\u001b[0m\u001b[0mx\u001b[0m\u001b[1;33m,\u001b[0m \u001b[0mDataFrame\u001b[0m\u001b[1;33m)\u001b[0m \u001b[1;32mfor\u001b[0m \u001b[0mx\u001b[0m \u001b[1;32min\u001b[0m \u001b[0mresults\u001b[0m\u001b[1;33m.\u001b[0m\u001b[0mvalues\u001b[0m\u001b[1;33m(\u001b[0m\u001b[1;33m)\u001b[0m\u001b[1;33m)\u001b[0m\u001b[1;33m:\u001b[0m\u001b[1;33m\u001b[0m\u001b[1;33m\u001b[0m\u001b[0m\n",
      "\u001b[1;32m~\\anaconda3\\lib\\site-packages\\pandas\\core\\groupby\\generic.py\u001b[0m in \u001b[0;36maggregate\u001b[1;34m(self, func, engine, engine_kwargs, *args, **kwargs)\u001b[0m\n\u001b[0;32m    239\u001b[0m \u001b[1;33m\u001b[0m\u001b[0m\n\u001b[0;32m    240\u001b[0m         \u001b[1;32mif\u001b[0m \u001b[0misinstance\u001b[0m\u001b[1;33m(\u001b[0m\u001b[0mfunc\u001b[0m\u001b[1;33m,\u001b[0m \u001b[0mstr\u001b[0m\u001b[1;33m)\u001b[0m\u001b[1;33m:\u001b[0m\u001b[1;33m\u001b[0m\u001b[1;33m\u001b[0m\u001b[0m\n\u001b[1;32m--> 241\u001b[1;33m             \u001b[1;32mreturn\u001b[0m \u001b[0mgetattr\u001b[0m\u001b[1;33m(\u001b[0m\u001b[0mself\u001b[0m\u001b[1;33m,\u001b[0m \u001b[0mfunc\u001b[0m\u001b[1;33m)\u001b[0m\u001b[1;33m(\u001b[0m\u001b[1;33m*\u001b[0m\u001b[0margs\u001b[0m\u001b[1;33m,\u001b[0m \u001b[1;33m**\u001b[0m\u001b[0mkwargs\u001b[0m\u001b[1;33m)\u001b[0m\u001b[1;33m\u001b[0m\u001b[1;33m\u001b[0m\u001b[0m\n\u001b[0m\u001b[0;32m    242\u001b[0m \u001b[1;33m\u001b[0m\u001b[0m\n\u001b[0;32m    243\u001b[0m         \u001b[1;32melif\u001b[0m \u001b[0misinstance\u001b[0m\u001b[1;33m(\u001b[0m\u001b[0mfunc\u001b[0m\u001b[1;33m,\u001b[0m \u001b[0mabc\u001b[0m\u001b[1;33m.\u001b[0m\u001b[0mIterable\u001b[0m\u001b[1;33m)\u001b[0m\u001b[1;33m:\u001b[0m\u001b[1;33m\u001b[0m\u001b[1;33m\u001b[0m\u001b[0m\n",
      "\u001b[1;32m~\\anaconda3\\lib\\site-packages\\pandas\\core\\groupby\\groupby.py\u001b[0m in \u001b[0;36m__getattr__\u001b[1;34m(self, attr)\u001b[0m\n\u001b[0;32m    750\u001b[0m             \u001b[1;32mreturn\u001b[0m \u001b[0mself\u001b[0m\u001b[1;33m[\u001b[0m\u001b[0mattr\u001b[0m\u001b[1;33m]\u001b[0m\u001b[1;33m\u001b[0m\u001b[1;33m\u001b[0m\u001b[0m\n\u001b[0;32m    751\u001b[0m \u001b[1;33m\u001b[0m\u001b[0m\n\u001b[1;32m--> 752\u001b[1;33m         raise AttributeError(\n\u001b[0m\u001b[0;32m    753\u001b[0m             \u001b[1;34mf\"'{type(self).__name__}' object has no attribute '{attr}'\"\u001b[0m\u001b[1;33m\u001b[0m\u001b[1;33m\u001b[0m\u001b[0m\n\u001b[0;32m    754\u001b[0m         )\n",
      "\u001b[1;31mAttributeError\u001b[0m: 'SeriesGroupBy' object has no attribute ''"
     ]
    }
   ],
   "source": [
    "melted.groupby('value').agg({''})"
   ]
  },
  {
   "cell_type": "code",
   "execution_count": 41,
   "id": "c0abd16b",
   "metadata": {},
   "outputs": [],
   "source": [
    "morosini.to_json('morosini.json', orient='index')"
   ]
  },
  {
   "cell_type": "code",
   "execution_count": null,
   "id": "d4789c0f",
   "metadata": {},
   "outputs": [],
   "source": [
    "#Getting all owner rows with only two words (hoping that it's name and surname)\n",
    "name_surname = catastici.entryOwnerText.apply(lambda x: len(str(x).split(' ')) == 2)"
   ]
  },
  {
   "cell_type": "code",
   "execution_count": null,
   "id": "0ffd35e9",
   "metadata": {},
   "outputs": [],
   "source": [
    "catastici[name_surname].groupby('entryOwnerText')['id'].count().sort_values(ascending=False)"
   ]
  },
  {
   "cell_type": "code",
   "execution_count": null,
   "id": "a740e4ec",
   "metadata": {},
   "outputs": [],
   "source": [
    "catastici_names = catastici[name_surname]"
   ]
  },
  {
   "cell_type": "code",
   "execution_count": null,
   "id": "cc48e2d5",
   "metadata": {},
   "outputs": [],
   "source": [
    "catastici_names['owner_surname'] = catastici_names.entryOwnerText.apply(lambda x: str(x).split()[1])\n",
    "catastici_names['owner_name'] = catastici_names.entryOwnerText.apply(lambda x: str(x).split()[0])"
   ]
  },
  {
   "cell_type": "code",
   "execution_count": null,
   "id": "b7c62183",
   "metadata": {},
   "outputs": [],
   "source": [
    "catastici_names"
   ]
  },
  {
   "cell_type": "code",
   "execution_count": null,
   "id": "6c3a29c5",
   "metadata": {},
   "outputs": [],
   "source": [
    "catastici_names.to_csv('data/names_catastici.csv')"
   ]
  },
  {
   "cell_type": "code",
   "execution_count": null,
   "id": "1068aaae",
   "metadata": {},
   "outputs": [],
   "source": []
  },
  {
   "cell_type": "code",
   "execution_count": null,
   "id": "ad3cfaab",
   "metadata": {},
   "outputs": [],
   "source": []
  },
  {
   "cell_type": "code",
   "execution_count": null,
   "id": "e0bf5fd2",
   "metadata": {},
   "outputs": [],
   "source": [
    "name_count_catastici = catastici_names.groupby('owner_surname')['id'].count().sort_values(ascending=False)"
   ]
  },
  {
   "cell_type": "code",
   "execution_count": null,
   "id": "1f52a3fc",
   "metadata": {},
   "outputs": [],
   "source": [
    "name_count_catastici"
   ]
  },
  {
   "cell_type": "code",
   "execution_count": null,
   "id": "fd0f0fe2",
   "metadata": {},
   "outputs": [],
   "source": []
  },
  {
   "cell_type": "markdown",
   "id": "4a92df63",
   "metadata": {},
   "source": [
    "## Which families own the most properties?"
   ]
  },
  {
   "cell_type": "code",
   "execution_count": null,
   "id": "05a9927e",
   "metadata": {},
   "outputs": [],
   "source": [
    "top_fams_catastici = name_count_catastici.head(25)\n",
    "top_fams_catastici"
   ]
  },
  {
   "cell_type": "code",
   "execution_count": null,
   "id": "803a1e40",
   "metadata": {},
   "outputs": [],
   "source": [
    "top_fams_cadaster = name_count_cadaster.head(25)\n",
    "top_fams_cadaster"
   ]
  },
  {
   "cell_type": "code",
   "execution_count": null,
   "id": "6e7dedc1",
   "metadata": {},
   "outputs": [],
   "source": [
    "contarini = catastici_names[catastici_names.owner_surname.apply(lambda x : 'Contarini' in x)]"
   ]
  },
  {
   "cell_type": "code",
   "execution_count": null,
   "id": "f122fbdd",
   "metadata": {},
   "outputs": [],
   "source": [
    "contarini"
   ]
  },
  {
   "cell_type": "code",
   "execution_count": null,
   "id": "3b56327e",
   "metadata": {},
   "outputs": [],
   "source": [
    "contarini.to_json(\"data/contarini.json\")"
   ]
  },
  {
   "cell_type": "code",
   "execution_count": null,
   "id": "b1c3ab62",
   "metadata": {},
   "outputs": [],
   "source": [
    "contarini_boys = contarini.groupby('owner_name')['id'].count().sort_values(ascending=False)\n",
    "contarini_boys"
   ]
  },
  {
   "cell_type": "code",
   "execution_count": null,
   "id": "b0145802",
   "metadata": {},
   "outputs": [],
   "source": []
  },
  {
   "cell_type": "code",
   "execution_count": null,
   "id": "a7dadcc7",
   "metadata": {},
   "outputs": [],
   "source": []
  }
 ],
 "metadata": {
  "kernelspec": {
   "display_name": "Python 3",
   "language": "python",
   "name": "python3"
  },
  "language_info": {
   "codemirror_mode": {
    "name": "ipython",
    "version": 3
   },
   "file_extension": ".py",
   "mimetype": "text/x-python",
   "name": "python",
   "nbconvert_exporter": "python",
   "pygments_lexer": "ipython3",
   "version": "3.8.8"
  }
 },
 "nbformat": 4,
 "nbformat_minor": 5
}
