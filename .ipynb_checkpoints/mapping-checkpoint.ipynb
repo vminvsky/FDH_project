{
 "cells": [
  {
   "cell_type": "code",
   "execution_count": 2,
   "metadata": {},
   "outputs": [],
   "source": [
    "import pandas as pd"
   ]
  },
  {
   "cell_type": "code",
   "execution_count": 3,
   "metadata": {},
   "outputs": [],
   "source": [
    "catastici = pd.read_csv('data\\catastici_1741.csv')\n",
    "cadaster = pd.read_csv(\"data/cadaster_1808.csv\")"
   ]
  },
  {
   "cell_type": "code",
   "execution_count": 4,
   "metadata": {},
   "outputs": [],
   "source": [
    "cadaster['parcelCategories'] = cadaster['parcelCategories'].apply(lambda x: eval(x))"
   ]
  },
  {
   "cell_type": "code",
   "execution_count": 5,
   "metadata": {},
   "outputs": [],
   "source": [
    "# cadaster['parcelCategories'] = cadaster['parcelCategories'].apply(lambda x: x[0] if x != [] else None)\n",
    "\n",
    "italian_words = cadaster['parcelCategories'].apply(pd.Series)\n",
    "italian_words = italian_words.melt()"
   ]
  },
  {
   "cell_type": "code",
   "execution_count": 6,
   "metadata": {},
   "outputs": [
    {
     "data": {
      "text/plain": [
       "array(['CASA', 'BOTTEGA', nan, 'SCUOLA', 'TEATRO', 'LOCALE', 'MAGAZZENO',\n",
       "       'PIAZZA', 'ORATORIO', 'GIARDINO', 'PALAZZO', 'LOGGIA', 'LUOGO',\n",
       "       'CORTO', 'SOTTOPORTICO', 'APPARTAMENTO', 'STANZA', 'CAMERA',\n",
       "       'AREA', 'LOCANDA', 'CAFFE', 'ANDITO', 'CHIESA', 'CAMPANILE',\n",
       "       'CASOTTO', 'CALLE', 'ATRIO', 'CASERMA', 'VOLTA', 'TERAZZA',\n",
       "       'ACCESSO', 'FORNO', 'ORTO', 'ORTAGLIA', 'FABBRICA', 'MONASTERO',\n",
       "       'SPAZIO', 'CONVENTO', 'SCALLA', 'OSPIZIO', 'CASETTA', 'CASINO',\n",
       "       'SAGRESTIA', 'STRADA', 'CASALE', 'SINAGOGA', 'PORTICO', 'PRATO',\n",
       "       'FORNACE', 'MACELLO', 'CANTIERE', 'INGRESSO', 'RIPOSTIGLIO',\n",
       "       'LATRINE', 'CARCERE', 'ARCHIVIO', 'PASCOLO', 'FONDAMENTA',\n",
       "       'CAVANA', 'SCUDERIA', 'RAFFINARIA', 'ZECCA', 'CAPELLA', 'CIMITERO',\n",
       "       'SQUERO', 'TAGLIAPIETRA', 'OSTERIA', 'OFFICINA', 'UFFICI',\n",
       "       'VENDIVINO', 'TINTORIA', 'STALLA', 'TORRE'], dtype=object)"
      ]
     },
     "execution_count": 6,
     "metadata": {},
     "output_type": "execute_result"
    }
   ],
   "source": [
    "italian_words['value'].unique()"
   ]
  },
  {
   "cell_type": "code",
   "execution_count": 7,
   "metadata": {},
   "outputs": [],
   "source": [
    "cadaster['parcelCategory'] = cadaster['parcelCategories'].apply(lambda x: x[0] if x != [] else None)"
   ]
  },
  {
   "cell_type": "code",
   "execution_count": 8,
   "metadata": {},
   "outputs": [],
   "source": [
    "catastici['entryCategories'] = catastici['entryCategories'].apply(lambda x: eval(x))"
   ]
  },
  {
   "cell_type": "code",
   "execution_count": 9,
   "metadata": {},
   "outputs": [],
   "source": [
    "catastici['entryCategories'] = catastici['entryCategories'].apply(lambda x: x[0] if x != [] else None)"
   ]
  },
  {
   "cell_type": "code",
   "execution_count": null,
   "metadata": {},
   "outputs": [],
   "source": []
  },
  {
   "cell_type": "code",
   "execution_count": null,
   "metadata": {},
   "outputs": [],
   "source": []
  },
  {
   "cell_type": "code",
   "execution_count": 10,
   "metadata": {},
   "outputs": [
    {
     "data": {
      "text/plain": [
       "array(['housing', 'storage', 'shop', None, 'hospitality',\n",
       "       'administration', 'healthcare', 'entertainment', 'transport',\n",
       "       'palace', 'guild', 'religious'], dtype=object)"
      ]
     },
     "execution_count": 10,
     "metadata": {},
     "output_type": "execute_result"
    }
   ],
   "source": [
    "catastici['entryCategories'].unique()"
   ]
  },
  {
   "cell_type": "code",
   "execution_count": 11,
   "metadata": {},
   "outputs": [],
   "source": [
    "translations = [\n",
    "    ['CASA','housing',False], \n",
    "    ['BOTTEGA','shop',False], \n",
    "    ['SCUOLA','religious',True], \n",
    "    ['TEATRO','entertainment',False],\n",
    "    ['LOCALE','shop',True],\n",
    "    ['MAGAZZENO','storage', False],\n",
    "    ['PIAZZA','None', True],\n",
    "    ['ORATORIO','religious',False],\n",
    "    ['GIARDINO','None',False],\n",
    "    ['PALAZZO','palace',False],\n",
    "    ['LOGGIA','guild',True],\n",
    "    ['LUOGO','None', True],\n",
    "    ['CORTO','None',True],\n",
    "    ['SOTTOPORTICO','None',True],\n",
    "    ['APPARTAMENTO','housing',False],\n",
    "    ['STANZA','housing',False],\n",
    "    ['CAMERA','housing',False],\n",
    "    ['AREA','None', True],\n",
    "    ['LOCANDA','hospitality',False],\n",
    "    ['CAFFE','shop',False],\n",
    "    ['ANDITO','None',True],\n",
    "    ['CHIESA','relgious',False],\n",
    "    ['CAMPANILE','religious',True],\n",
    "    ['CASOTTO','housing',False],\n",
    "    ['CALLE','None',True],\n",
    "    ['ATRIO','None',True],\n",
    "    ['CASERMA','administration',True],\n",
    "    ['VOLTA','administration',True],\n",
    "    ['TERAZZA','None',True],\n",
    "    ['ACCESSO','None',True],\n",
    "    ['FORNO','shop',False],\n",
    "    ['ORTO','None',True],\n",
    "    ['ORTAGLIA','None',True],\n",
    "    ['FABRICA','shop',True],\n",
    "    ['MONASTERO','religious',False],\n",
    "    ['SPAZIO','None',True],\n",
    "    ['CONVENT','religious',False],\n",
    "    ['SCALLA','None',True],\n",
    "    ['OSPIZIO','healthcare',False],\n",
    "    ['CASETTA','housing',False],\n",
    "    ['CASINO','entertainment',False],\n",
    "    ['UFFICI','administration',True]\n",
    "]"
   ]
  },
  {
   "cell_type": "code",
   "execution_count": 12,
   "metadata": {},
   "outputs": [],
   "source": [
    "translations = pd.DataFrame(translations,columns = ['italian','english','help'])"
   ]
  },
  {
   "cell_type": "code",
   "execution_count": 13,
   "metadata": {},
   "outputs": [],
   "source": [
    "merged_cata = catastici.merge(translations, right_on = 'english', left_on = 'entryCategories')\n",
    "merged_cada = cadaster.merge(translations, right_on = 'italian', left_on = 'parcelCategory')"
   ]
  },
  {
   "cell_type": "code",
   "execution_count": null,
   "metadata": {},
   "outputs": [],
   "source": []
  },
  {
   "cell_type": "code",
   "execution_count": 16,
   "metadata": {},
   "outputs": [],
   "source": [
    "cata = merged_cata[['cadaster1808Correspondance','cadaster1808ClosestParcel','italian','english','entryOwnerText']]\n",
    "cata.columns = ['cadaster1808Correspondance','cadaster1808ClosestParcel','italian','english','1748Owner']"
   ]
  },
  {
   "cell_type": "code",
   "execution_count": 17,
   "metadata": {},
   "outputs": [],
   "source": [
    "cada = merged_cada[['parcelOwnerText','english','area','bounds','parcelNumber','subParcelNumber']]\n",
    "cada.columns = ['1808Owner','english','area','bounds','parcelNumber','subParcelNumber']"
   ]
  },
  {
   "cell_type": "code",
   "execution_count": 18,
   "metadata": {},
   "outputs": [],
   "source": [
    "cada2 = cada[cada['english'] != \"None\"]\n",
    "total_area_cada = cada2['area'].sum()\n",
    "prop_cada = cada2.groupby(\"english\")['area'].sum()/total_area_cada"
   ]
  },
  {
   "cell_type": "code",
   "execution_count": 19,
   "metadata": {},
   "outputs": [
    {
     "name": "stderr",
     "output_type": "stream",
     "text": [
      "<ipython-input-19-8a1042b4481e>:1: SettingWithCopyWarning: \n",
      "A value is trying to be set on a copy of a slice from a DataFrame.\n",
      "Try using .loc[row_indexer,col_indexer] = value instead\n",
      "\n",
      "See the caveats in the documentation: https://pandas.pydata.org/pandas-docs/stable/user_guide/indexing.html#returning-a-view-versus-a-copy\n",
      "  cata['cadaster1808ClosestParcel'] = cata['cadaster1808ClosestParcel'].astype(str)\n"
     ]
    }
   ],
   "source": [
    "cata['cadaster1808ClosestParcel'] = cata['cadaster1808ClosestParcel'].astype(str)\n",
    "\n",
    "cata2 = cata.merge(cada, left_on = 'cadaster1808ClosestParcel',right_on = 'parcelNumber')"
   ]
  },
  {
   "cell_type": "code",
   "execution_count": 21,
   "metadata": {},
   "outputs": [],
   "source": [
    "total_area = cata2['area'].sum()\n",
    "prop_cata = cata2.groupby('english_x')['area'].sum().sort_values() / total_area"
   ]
  },
  {
   "cell_type": "code",
   "execution_count": 22,
   "metadata": {},
   "outputs": [
    {
     "data": {
      "text/plain": [
       "<matplotlib.legend.Legend at 0x10c13440b20>"
      ]
     },
     "execution_count": 22,
     "metadata": {},
     "output_type": "execute_result"
    },
    {
     "data": {
      "image/png": "[encoded data removed]",
      "text/plain": [
       "<Figure size 864x648 with 1 Axes>"
      ]
     },
     "metadata": {
      "needs_background": "light"
     },
     "output_type": "display_data"
    }
   ],
   "source": [
    "import matplotlib.pyplot as plt\n",
    "fig,ax = plt.subplots(figsize = (12,9))\n",
    "\n",
    "ax.scatter(prop_cata.index, prop_cata.values, label = 'cata', alpha = 0.5)\n",
    "ax.scatter(prop_cada.index, prop_cada.values, label = 'cada', alpha = 0.5)\n",
    "plt.legend()"
   ]
  },
  {
   "cell_type": "code",
   "execution_count": null,
   "metadata": {},
   "outputs": [],
   "source": []
  },
  {
   "cell_type": "code",
   "execution_count": 23,
   "metadata": {},
   "outputs": [],
   "source": [
    "cata2.to_csv(\"cataster.csv\")"
   ]
  },
  {
   "cell_type": "code",
   "execution_count": 24,
   "metadata": {},
   "outputs": [
    {
     "data": {
      "text/html": [
       "<div>\n",
       "<style scoped>\n",
       "    .dataframe tbody tr th:only-of-type {\n",
       "        vertical-align: middle;\n",
       "    }\n",
       "\n",
       "    .dataframe tbody tr th {\n",
       "        vertical-align: top;\n",
       "    }\n",
       "\n",
       "    .dataframe thead th {\n",
       "        text-align: right;\n",
       "    }\n",
       "</style>\n",
       "<table border=\"1\" class=\"dataframe\">\n",
       "  <thead>\n",
       "    <tr style=\"text-align: right;\">\n",
       "      <th></th>\n",
       "      <th>cadaster1808Correspondance</th>\n",
       "      <th>cadaster1808ClosestParcel</th>\n",
       "      <th>italian</th>\n",
       "      <th>english_x</th>\n",
       "      <th>1748Owner</th>\n",
       "      <th>1808Owner</th>\n",
       "      <th>english_y</th>\n",
       "      <th>area</th>\n",
       "      <th>bounds</th>\n",
       "      <th>parcelNumber</th>\n",
       "      <th>subParcelNumber</th>\n",
       "    </tr>\n",
       "  </thead>\n",
       "  <tbody>\n",
       "    <tr>\n",
       "      <th>0</th>\n",
       "      <td>2030.0</td>\n",
       "      <td>2030</td>\n",
       "      <td>CASA</td>\n",
       "      <td>housing</td>\n",
       "      <td>Scola di Santa Maria e San Cristofolo all'orto</td>\n",
       "      <td>COMUNE DI VENEZIA provenienza come sopra [del ...</td>\n",
       "      <td>housing</td>\n",
       "      <td>167.796</td>\n",
       "      <td>[[12.3367117, 45.4373282], [12.336926, 45.4374...</td>\n",
       "      <td>2030</td>\n",
       "      <td>2</td>\n",
       "    </tr>\n",
       "    <tr>\n",
       "      <th>1</th>\n",
       "      <td>2030.0</td>\n",
       "      <td>2030</td>\n",
       "      <td>CASA</td>\n",
       "      <td>housing</td>\n",
       "      <td>Scola di Santa Maria e San Cristofolo all'orto</td>\n",
       "      <td>VENIER Pietro Gerolamo q. Giovanni Battista</td>\n",
       "      <td>shop</td>\n",
       "      <td>167.796</td>\n",
       "      <td>[[12.3367117, 45.4373282], [12.336926, 45.4374...</td>\n",
       "      <td>2030</td>\n",
       "      <td>1</td>\n",
       "    </tr>\n",
       "    <tr>\n",
       "      <th>2</th>\n",
       "      <td>2030.0</td>\n",
       "      <td>2030</td>\n",
       "      <td>APPARTAMENTO</td>\n",
       "      <td>housing</td>\n",
       "      <td>Scola di Santa Maria e San Cristofolo all'orto</td>\n",
       "      <td>COMUNE DI VENEZIA provenienza come sopra [del ...</td>\n",
       "      <td>housing</td>\n",
       "      <td>167.796</td>\n",
       "      <td>[[12.3367117, 45.4373282], [12.336926, 45.4374...</td>\n",
       "      <td>2030</td>\n",
       "      <td>2</td>\n",
       "    </tr>\n",
       "    <tr>\n",
       "      <th>3</th>\n",
       "      <td>2030.0</td>\n",
       "      <td>2030</td>\n",
       "      <td>APPARTAMENTO</td>\n",
       "      <td>housing</td>\n",
       "      <td>Scola di Santa Maria e San Cristofolo all'orto</td>\n",
       "      <td>VENIER Pietro Gerolamo q. Giovanni Battista</td>\n",
       "      <td>shop</td>\n",
       "      <td>167.796</td>\n",
       "      <td>[[12.3367117, 45.4373282], [12.336926, 45.4374...</td>\n",
       "      <td>2030</td>\n",
       "      <td>1</td>\n",
       "    </tr>\n",
       "    <tr>\n",
       "      <th>4</th>\n",
       "      <td>2030.0</td>\n",
       "      <td>2030</td>\n",
       "      <td>STANZA</td>\n",
       "      <td>housing</td>\n",
       "      <td>Scola di Santa Maria e San Cristofolo all'orto</td>\n",
       "      <td>COMUNE DI VENEZIA provenienza come sopra [del ...</td>\n",
       "      <td>housing</td>\n",
       "      <td>167.796</td>\n",
       "      <td>[[12.3367117, 45.4373282], [12.336926, 45.4374...</td>\n",
       "      <td>2030</td>\n",
       "      <td>2</td>\n",
       "    </tr>\n",
       "    <tr>\n",
       "      <th>...</th>\n",
       "      <td>...</td>\n",
       "      <td>...</td>\n",
       "      <td>...</td>\n",
       "      <td>...</td>\n",
       "      <td>...</td>\n",
       "      <td>...</td>\n",
       "      <td>...</td>\n",
       "      <td>...</td>\n",
       "      <td>...</td>\n",
       "      <td>...</td>\n",
       "      <td>...</td>\n",
       "    </tr>\n",
       "    <tr>\n",
       "      <th>58525</th>\n",
       "      <td>7331.0</td>\n",
       "      <td>7331</td>\n",
       "      <td>MONASTERO</td>\n",
       "      <td>religious</td>\n",
       "      <td>NaN</td>\n",
       "      <td>Valier Zaccaria quondam Ottaviano</td>\n",
       "      <td>housing</td>\n",
       "      <td>113.351</td>\n",
       "      <td>[[12.3269708, 45.4449978], [12.3271238, 45.445...</td>\n",
       "      <td>7331</td>\n",
       "      <td>2</td>\n",
       "    </tr>\n",
       "    <tr>\n",
       "      <th>58526</th>\n",
       "      <td>7331.0</td>\n",
       "      <td>7331</td>\n",
       "      <td>MONASTERO</td>\n",
       "      <td>religious</td>\n",
       "      <td>NaN</td>\n",
       "      <td>Grimani Almorò quondam Marc'Antonio</td>\n",
       "      <td>housing</td>\n",
       "      <td>113.351</td>\n",
       "      <td>[[12.3269708, 45.4449978], [12.3271238, 45.445...</td>\n",
       "      <td>7331</td>\n",
       "      <td>3</td>\n",
       "    </tr>\n",
       "    <tr>\n",
       "      <th>58527</th>\n",
       "      <td>7331.0</td>\n",
       "      <td>7331</td>\n",
       "      <td>CONVENT</td>\n",
       "      <td>religious</td>\n",
       "      <td>NaN</td>\n",
       "      <td>Valier Zaccaria quondam ottaviano</td>\n",
       "      <td>storage</td>\n",
       "      <td>113.351</td>\n",
       "      <td>[[12.3269708, 45.4449978], [12.3271238, 45.445...</td>\n",
       "      <td>7331</td>\n",
       "      <td>1</td>\n",
       "    </tr>\n",
       "    <tr>\n",
       "      <th>58528</th>\n",
       "      <td>7331.0</td>\n",
       "      <td>7331</td>\n",
       "      <td>CONVENT</td>\n",
       "      <td>religious</td>\n",
       "      <td>NaN</td>\n",
       "      <td>Valier Zaccaria quondam Ottaviano</td>\n",
       "      <td>housing</td>\n",
       "      <td>113.351</td>\n",
       "      <td>[[12.3269708, 45.4449978], [12.3271238, 45.445...</td>\n",
       "      <td>7331</td>\n",
       "      <td>2</td>\n",
       "    </tr>\n",
       "    <tr>\n",
       "      <th>58529</th>\n",
       "      <td>7331.0</td>\n",
       "      <td>7331</td>\n",
       "      <td>CONVENT</td>\n",
       "      <td>religious</td>\n",
       "      <td>NaN</td>\n",
       "      <td>Grimani Almorò quondam Marc'Antonio</td>\n",
       "      <td>housing</td>\n",
       "      <td>113.351</td>\n",
       "      <td>[[12.3269708, 45.4449978], [12.3271238, 45.445...</td>\n",
       "      <td>7331</td>\n",
       "      <td>3</td>\n",
       "    </tr>\n",
       "  </tbody>\n",
       "</table>\n",
       "<p>58530 rows × 11 columns</p>\n",
       "</div>"
      ],
      "text/plain": [
       "       cadaster1808Correspondance cadaster1808ClosestParcel       italian  \\\n",
       "0                          2030.0                      2030          CASA   \n",
       "1                          2030.0                      2030          CASA   \n",
       "2                          2030.0                      2030  APPARTAMENTO   \n",
       "3                          2030.0                      2030  APPARTAMENTO   \n",
       "4                          2030.0                      2030        STANZA   \n",
       "...                           ...                       ...           ...   \n",
       "58525                      7331.0                      7331     MONASTERO   \n",
       "58526                      7331.0                      7331     MONASTERO   \n",
       "58527                      7331.0                      7331       CONVENT   \n",
       "58528                      7331.0                      7331       CONVENT   \n",
       "58529                      7331.0                      7331       CONVENT   \n",
       "\n",
       "       english_x                                       1748Owner  \\\n",
       "0        housing  Scola di Santa Maria e San Cristofolo all'orto   \n",
       "1        housing  Scola di Santa Maria e San Cristofolo all'orto   \n",
       "2        housing  Scola di Santa Maria e San Cristofolo all'orto   \n",
       "3        housing  Scola di Santa Maria e San Cristofolo all'orto   \n",
       "4        housing  Scola di Santa Maria e San Cristofolo all'orto   \n",
       "...          ...                                             ...   \n",
       "58525  religious                                             NaN   \n",
       "58526  religious                                             NaN   \n",
       "58527  religious                                             NaN   \n",
       "58528  religious                                             NaN   \n",
       "58529  religious                                             NaN   \n",
       "\n",
       "                                               1808Owner english_y     area  \\\n",
       "0      COMUNE DI VENEZIA provenienza come sopra [del ...   housing  167.796   \n",
       "1            VENIER Pietro Gerolamo q. Giovanni Battista      shop  167.796   \n",
       "2      COMUNE DI VENEZIA provenienza come sopra [del ...   housing  167.796   \n",
       "3            VENIER Pietro Gerolamo q. Giovanni Battista      shop  167.796   \n",
       "4      COMUNE DI VENEZIA provenienza come sopra [del ...   housing  167.796   \n",
       "...                                                  ...       ...      ...   \n",
       "58525                  Valier Zaccaria quondam Ottaviano   housing  113.351   \n",
       "58526                Grimani Almorò quondam Marc'Antonio   housing  113.351   \n",
       "58527                  Valier Zaccaria quondam ottaviano   storage  113.351   \n",
       "58528                  Valier Zaccaria quondam Ottaviano   housing  113.351   \n",
       "58529                Grimani Almorò quondam Marc'Antonio   housing  113.351   \n",
       "\n",
       "                                                  bounds parcelNumber  \\\n",
       "0      [[12.3367117, 45.4373282], [12.336926, 45.4374...         2030   \n",
       "1      [[12.3367117, 45.4373282], [12.336926, 45.4374...         2030   \n",
       "2      [[12.3367117, 45.4373282], [12.336926, 45.4374...         2030   \n",
       "3      [[12.3367117, 45.4373282], [12.336926, 45.4374...         2030   \n",
       "4      [[12.3367117, 45.4373282], [12.336926, 45.4374...         2030   \n",
       "...                                                  ...          ...   \n",
       "58525  [[12.3269708, 45.4449978], [12.3271238, 45.445...         7331   \n",
       "58526  [[12.3269708, 45.4449978], [12.3271238, 45.445...         7331   \n",
       "58527  [[12.3269708, 45.4449978], [12.3271238, 45.445...         7331   \n",
       "58528  [[12.3269708, 45.4449978], [12.3271238, 45.445...         7331   \n",
       "58529  [[12.3269708, 45.4449978], [12.3271238, 45.445...         7331   \n",
       "\n",
       "      subParcelNumber  \n",
       "0                   2  \n",
       "1                   1  \n",
       "2                   2  \n",
       "3                   1  \n",
       "4                   2  \n",
       "...               ...  \n",
       "58525               2  \n",
       "58526               3  \n",
       "58527               1  \n",
       "58528               2  \n",
       "58529               3  \n",
       "\n",
       "[58530 rows x 11 columns]"
      ]
     },
     "execution_count": 24,
     "metadata": {},
     "output_type": "execute_result"
    }
   ],
   "source": [
    "cata2"
   ]
  },
  {
   "cell_type": "code",
   "execution_count": null,
   "metadata": {},
   "outputs": [],
   "source": [
    "schema = {\n",
    "    'geometry':'Polygon',\n",
    "    'properties':[('Name','str')]\n",
    "}\n",
    "#open a fiona object\n",
    "polyShp = fiona.open('../ShapeOut/cropPoly.shp', mode='w', driver='ESRI Shapefile',\n",
    "          schema = schema, crs = \"EPSG:4326\")\n",
    "#get list of points\n",
    "xyList = []\n",
    "rowName = ''\n",
    "for index, row in polyDf.iterrows():\n",
    "    xyList.append((row.X,row.Y))\n",
    "    rowName = row.Name\n",
    "xyList[:5]\n",
    "[(-84.20239642444, 9.48033431305493),\n",
    " (-84.2021899231741, 9.48055508704213),\n",
    " (-84.2018864783201, 9.48079161161365),\n",
    " (-84.2015288437831, 9.48115260231102),\n",
    " (-84.2013071850694, 9.4813034753504)]\n",
    "#save record and close shapefile\n",
    "rowDict = {\n",
    "'geometry' : {'type':'Polygon',\n",
    "                 'coordinates': [xyList]}, #Here the xyList is in brackets\n",
    "'properties': {'Name' : rowName},\n",
    "}\n",
    "polyShp.write(rowDict)\n",
    "#close fiona object\n",
    "polyShp.close()"
   ]
  }
 ],
 "metadata": {
  "kernelspec": {
   "display_name": "Python 3",
   "language": "python",
   "name": "python3"
  },
  "language_info": {
   "codemirror_mode": {
    "name": "ipython",
    "version": 3
   },
   "file_extension": ".py",
   "mimetype": "text/x-python",
   "name": "python",
   "nbconvert_exporter": "python",
   "pygments_lexer": "ipython3",
   "version": "3.8.5"
  }
 },
 "nbformat": 4,
 "nbformat_minor": 4
}
