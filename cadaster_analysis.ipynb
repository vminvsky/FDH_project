{
 "cells": [
  {
   "cell_type": "code",
   "execution_count": 1,
   "metadata": {},
   "outputs": [],
   "source": [
    "import pandas as pd \n",
    "\n",
    "cadaster = pd.read_csv(\"data/cadaster_1808.csv\")"
   ]
  },
  {
   "cell_type": "code",
   "execution_count": 5,
   "metadata": {},
   "outputs": [
    {
     "data": {
      "text/plain": [
       "parcelOwnerText\n",
       "Pesaro Pietro quondam Leonardo                                                        20\n",
       "MINISTERO DELLE FINANZE                                                               20\n",
       "Suddetta [CONGREGAZIONE di Carità di Venezia]                                         21\n",
       "MOCENIGO Alvise q.m Alvise                                                            23\n",
       "CITTA' DI VENEZIA, di provenienza della sopressa Scola di S. Giovanni Evangelista     23\n",
       "Grimani Almorò quondam Marc'Antonio                                                   24\n",
       "DEMANIO NAZIONALE                                                                     27\n",
       "MARUZZI Costantino                                                                    28\n",
       "-                                                                                     28\n",
       "CONGREGAZIONE della Carità, di provenienza dell'Ex-Procuratia                         33\n",
       "CAPITOLO dei Sacerdoti della Chiesa Parochiale di S. Pantaleone                       36\n",
       "Possessore ignoto                                                                     48\n",
       "CITTA' DI VENEZIA, di provenienza della Scola di S. Rocco                             50\n",
       "Suddetti                                                                              57\n",
       "Comune di Venezia                                                                     58\n",
       "Suddetta [COMUNE DI VENEZIA]                                                          59\n",
       "Suddetto                                                                             135\n",
       "Suddetta                                                                             137\n",
       "COMUNE DI VENEZIA                                                                    180\n",
       "CITTA' DI VENEZIA                                                                    308\n",
       "Name: id, dtype: int64"
      ]
     },
     "execution_count": 5,
     "metadata": {},
     "output_type": "execute_result"
    }
   ],
   "source": [
    "cadaster.groupby('parcelOwnerText')['id'].count().sort_values().tail(20)"
   ]
  },
  {
   "cell_type": "code",
   "execution_count": 8,
   "metadata": {},
   "outputs": [
    {
     "data": {
      "text/plain": [
       "parcelOwnerText\n",
       "-                                                                  28\n",
       "- [sic!]                                                            1\n",
       "...... q. [sic!]                                                    1\n",
       "...... q. vedova CORNER                                             1\n",
       "....... q.  ....... [sic!]                                          1\n",
       "........ [sic!]  di Padova                                          2\n",
       "........ [sic!] di Padova                                           1\n",
       "............ Francesca q.m.     vedova del fu Domenico VIANELLO     1\n",
       "............ [sic!] Lo speciale sulla riva del Vin                  1\n",
       "............. Angela q.m. Cristino vedova NOSADINI                  1\n",
       "Name: id, dtype: int64"
      ]
     },
     "execution_count": 8,
     "metadata": {},
     "output_type": "execute_result"
    }
   ],
   "source": [
    "cadaster.groupby('parcelOwnerText')['id'].count().head(10)"
   ]
  },
  {
   "cell_type": "code",
   "execution_count": null,
   "metadata": {},
   "outputs": [],
   "source": []
  }
 ],
 "metadata": {
  "kernelspec": {
   "display_name": "Python 3",
   "language": "python",
   "name": "python3"
  },
  "language_info": {
   "codemirror_mode": {
    "name": "ipython",
    "version": 3
   },
   "file_extension": ".py",
   "mimetype": "text/x-python",
   "name": "python",
   "nbconvert_exporter": "python",
   "pygments_lexer": "ipython3",
   "version": "3.8.5"
  }
 },
 "nbformat": 4,
 "nbformat_minor": 4
}
