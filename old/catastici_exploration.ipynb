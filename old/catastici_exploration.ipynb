{
 "cells": [
  {
   "cell_type": "code",
   "execution_count": 1,
   "metadata": {},
   "outputs": [],
   "source": [
    "import pandas as pd"
   ]
  },
  {
   "cell_type": "code",
   "execution_count": 16,
   "metadata": {},
   "outputs": [],
   "source": [
    "catastici_df = pd.read_csv('data\\catastici_1741.csv')"
   ]
  },
  {
   "cell_type": "code",
   "execution_count": 19,
   "metadata": {},
   "outputs": [],
   "source": [
    "c = catastici_df.dropna(subset=['cadaster1808Correspondance'])"
   ]
  },
  {
   "cell_type": "code",
   "execution_count": 20,
   "metadata": {},
   "outputs": [
    {
     "data": {
      "text/html": [
       "<div>\n",
       "<style scoped>\n",
       "    .dataframe tbody tr th:only-of-type {\n",
       "        vertical-align: middle;\n",
       "    }\n",
       "\n",
       "    .dataframe tbody tr th {\n",
       "        vertical-align: top;\n",
       "    }\n",
       "\n",
       "    .dataframe thead th {\n",
       "        text-align: right;\n",
       "    }\n",
       "</style>\n",
       "<table border=\"1\" class=\"dataframe\">\n",
       "  <thead>\n",
       "    <tr style=\"text-align: right;\">\n",
       "      <th></th>\n",
       "      <th>id</th>\n",
       "      <th>entryId</th>\n",
       "      <th>entryOwnerText</th>\n",
       "      <th>entryTenantText</th>\n",
       "      <th>entryCategoryText</th>\n",
       "      <th>rent</th>\n",
       "      <th>cadaster1808Correspondance</th>\n",
       "      <th>toponym</th>\n",
       "      <th>entryCategories</th>\n",
       "      <th>cadaster1808ClosestParcel</th>\n",
       "      <th>position</th>\n",
       "    </tr>\n",
       "  </thead>\n",
       "  <tbody>\n",
       "  </tbody>\n",
       "</table>\n",
       "</div>"
      ],
      "text/plain": [
       "Empty DataFrame\n",
       "Columns: [id, entryId, entryOwnerText, entryTenantText, entryCategoryText, rent, cadaster1808Correspondance, toponym, entryCategories, cadaster1808ClosestParcel, position]\n",
       "Index: []"
      ]
     },
     "execution_count": 20,
     "metadata": {},
     "output_type": "execute_result"
    }
   ],
   "source": [
    "c[c['cadaster1808Correspondance'] != c['cadaster1808ClosestParcel']]"
   ]
  },
  {
   "cell_type": "code",
   "execution_count": null,
   "metadata": {},
   "outputs": [],
   "source": []
  },
  {
   "cell_type": "code",
   "execution_count": null,
   "metadata": {},
   "outputs": [],
   "source": []
  },
  {
   "cell_type": "code",
   "execution_count": 10,
   "metadata": {},
   "outputs": [],
   "source": [
    "catastici_df['last_name'] = catastici_df['entryTenantText'].apply(lambda x: str(x).split(\" \")[-1])"
   ]
  },
  {
   "cell_type": "code",
   "execution_count": 12,
   "metadata": {},
   "outputs": [
    {
     "data": {
      "text/plain": [
       "last_name\n",
       "nan           803\n",
       "Rossi          65\n",
       "Todesco        40\n",
       "Ferrari        35\n",
       "barbier        34\n",
       "Zambelli       31\n",
       "Bianchi        31\n",
       "Astori         30\n",
       "Manzoni        29\n",
       "Calvi          28\n",
       "Fabris         26\n",
       "Zanetti        24\n",
       "Rossetti       21\n",
       "Moro           20\n",
       "dall'acque     20\n",
       "Coen           19\n",
       "Bernardi       19\n",
       "Zanchi         19\n",
       "formaggier     18\n",
       "Angeli         18\n",
       "Name: id, dtype: int64"
      ]
     },
     "execution_count": 12,
     "metadata": {},
     "output_type": "execute_result"
    }
   ],
   "source": [
    "catastici_df.groupby('last_name')['id'].count().sort_values(ascending=False).head(20)"
   ]
  },
  {
   "cell_type": "code",
   "execution_count": 10,
   "metadata": {},
   "outputs": [
    {
     "data": {
      "text/plain": [
       "count    8735.000000\n",
       "mean       43.301317\n",
       "std        49.240012\n",
       "min         1.000000\n",
       "25%        15.000000\n",
       "50%        30.000000\n",
       "75%        52.000000\n",
       "max       835.000000\n",
       "Name: rent, dtype: float64"
      ]
     },
     "execution_count": 10,
     "metadata": {},
     "output_type": "execute_result"
    }
   ],
   "source": [
    "catastici_df.rent.describe()"
   ]
  },
  {
   "cell_type": "code",
   "execution_count": 15,
   "metadata": {},
   "outputs": [
    {
     "data": {
      "text/plain": [
       "entryOwnerText\n",
       "Scola di San Rocco                         84\n",
       "Capitolo di San Moisè                      66\n",
       "Signori Canonici di San Salvatore          50\n",
       "Scola della Misericordia                   48\n",
       "Francesco Foscari                          46\n",
       "Michiel Morosini                           46\n",
       "Reverendi Padri di San Giorgio Maggiore    44\n",
       "Monastero di San Zaccaria                  40\n",
       "Zuanne Pasqualigo                          36\n",
       "Marc'Antonio Grimani                       32\n",
       "Marin Bernardo                             31\n",
       "Monastero di San Maffio di Mazorbo         27\n",
       "Monastero di San Lorenzo                   26\n",
       "Marc'Antonio Barbarigo                     26\n",
       "Ferigo Calbo                               25\n",
       "Monastero dell'Umiltà                      25\n",
       "Scola di San Marco                         25\n",
       "Clero di Venezia                           24\n",
       "Antonio Venier                             24\n",
       "Giovanni Maria Raspi                       24\n",
       "Name: id, dtype: int64"
      ]
     },
     "execution_count": 15,
     "metadata": {},
     "output_type": "execute_result"
    }
   ],
   "source": [
    "catastici_df.groupby('entryOwnerText')['id'].count().sort_values(ascending=False).head(20)"
   ]
  },
  {
   "cell_type": "code",
   "execution_count": 18,
   "metadata": {},
   "outputs": [
    {
     "data": {
      "text/plain": [
       "entryTenantText\n",
       "Bortolo Usabelli          16\n",
       "Francesco Zancarelli      14\n",
       "Inaffittato               12\n",
       "Antonio Millesi           11\n",
       "Zuanne Astori             11\n",
       "Paolo Petregali Pistor    11\n",
       "vuota                     10\n",
       "Antonio Calvi              9\n",
       "Antonio Venturini          9\n",
       "Inaffittata                9\n",
       "Antonio Rossi              9\n",
       "Antonio Scolari            9\n",
       "Antonio Caminer            8\n",
       "Iseppo Snaider             8\n",
       "Bortolo Mora               8\n",
       "Lodovico Manin             8\n",
       "Marc'Antonio Capelan       8\n",
       "Sachi Macon                8\n",
       "Giacomo Ferretti           7\n",
       "Gaetano Saon               7\n",
       "Name: id, dtype: int64"
      ]
     },
     "execution_count": 18,
     "metadata": {},
     "output_type": "execute_result"
    }
   ],
   "source": [
    "catastici_df.groupby('entryTenantText')['id'].count().sort_values(ascending=False).head(20)\n"
   ]
  },
  {
   "cell_type": "code",
   "execution_count": 20,
   "metadata": {},
   "outputs": [
    {
     "data": {
      "text/plain": [
       "['housing']                              4021\n",
       "['shop']                                 1753\n",
       "['housing', 'storage']                   1375\n",
       "['housing', 'shop']                       932\n",
       "['storage']                               702\n",
       "['shop', 'storage']                       272\n",
       "[]                                        161\n",
       "['transport']                             141\n",
       "['housing', 'shop', 'storage']             88\n",
       "['administration']                         49\n",
       "['hospitality']                            41\n",
       "['palace']                                 31\n",
       "['housing', 'hospitality']                 26\n",
       "['guild']                                  19\n",
       "['shop', 'administration']                 16\n",
       "['religious']                              10\n",
       "['shop', 'hospitality']                     9\n",
       "['housing', 'entertainment']                8\n",
       "['entertainment']                           8\n",
       "['housing', 'guild']                        5\n",
       "['storage', 'hospitality']                  5\n",
       "['storage', 'palace']                       5\n",
       "['housing', 'palace']                       4\n",
       "['housing', 'storage', 'garden']            4\n",
       "['healthcare']                              4\n",
       "['housing', 'administration']               4\n",
       "['housing', 'storage', 'hospitality']       4\n",
       "['religious', 'guild']                      3\n",
       "['housing', 'garden']                       3\n",
       "['shop', 'storage', 'administration']       2\n",
       "['shop', 'garden']                          2\n",
       "['storage', 'religious']                    2\n",
       "['housing', 'shop', 'hospitality']          2\n",
       "['shop', 'entertainment']                   1\n",
       "['housing', 'religious']                    1\n",
       "['housing', 'shop', 'administration']       1\n",
       "['storage', 'guild']                        1\n",
       "['palace', 'entertainment']                 1\n",
       "['shop', 'palace']                          1\n",
       "['storage', 'entertainment']                1\n",
       "['housing', 'shop', 'garden']               1\n",
       "['storage', 'palace', 'garden']             1\n",
       "['housing', 'storage', 'guild']             1\n",
       "['storage', 'administration']               1\n",
       "Name: entryCategories, dtype: int64"
      ]
     },
     "execution_count": 20,
     "metadata": {},
     "output_type": "execute_result"
    }
   ],
   "source": [
    "catastici_df.entryCategories.value_counts()"
   ]
  },
  {
   "cell_type": "code",
   "execution_count": 23,
   "metadata": {},
   "outputs": [
    {
     "data": {
      "text/plain": [
       "entryOwnerText                             entryTenantText   \n",
       "... Vedova Lunella                         Vita Silva            1\n",
       "Nobil Homo Ser Paolo, e Fratelli Baglioni  Bortola da Cadeste    1\n",
       "                                           Anzolo Gaia           1\n",
       "                                           Anzola Melisi         1\n",
       "                                           Andrea Armano         1\n",
       "                                                                ..\n",
       "Fratelli Vendramin                         Zuanne Curnis         3\n",
       "Zorzi Morosini                             Anzola Benetella      3\n",
       "Antonio Venier                             Antonio Spadon        4\n",
       "Giovanni Giacomo Hertz                     Inaffittato           5\n",
       "Teresa Campagnara                          Vuota                 6\n",
       "Name: id, Length: 8667, dtype: int64"
      ]
     },
     "execution_count": 23,
     "metadata": {},
     "output_type": "execute_result"
    }
   ],
   "source": [
    "catastici_df.groupby([\"entryOwnerText\",\"entryTenantText\"])[\"id\"].count().sort_values()"
   ]
  },
  {
   "cell_type": "code",
   "execution_count": 29,
   "metadata": {},
   "outputs": [
    {
     "data": {
      "text/plain": [
       "entryOwnerText                           entryCategories       \n",
       "Scola di San Rocco                       ['housing']               47\n",
       "Capitolo di San Moisè                    ['housing', 'storage']    29\n",
       "Francesco Foscari                        ['housing', 'storage']    25\n",
       "Signori Canonici di San Salvatore        ['housing']               25\n",
       "Reverendi Padri di San Giorgio Maggiore  ['housing', 'shop']       20\n",
       "Giovanni Maria Raspi                     ['shop']                  20\n",
       "Monastero di San Lorenzo                 ['housing']               19\n",
       "Michiel Morosini                         ['housing']               19\n",
       "Scola della Misericordia                 ['shop']                  19\n",
       "Marin Bernardo                           ['housing']               18\n",
       "Zuanne Pasqualigo                        ['housing']               18\n",
       "non si sa di più                         ['storage']               17\n",
       "Alberto Astori q. Giovanni Maria         ['housing', 'storage']    16\n",
       "Marc'Antonio Grimani                     ['housing', 'storage']    16\n",
       "Reverendi Padri di San Giorgio Maggiore  ['shop']                  16\n",
       "Conte Cesare e nipoti Piovene            ['housing', 'storage']    16\n",
       "Scola di San Rocco                       ['housing', 'storage']    16\n",
       "Giovanni Giacomo Hertz                   ['housing']               16\n",
       "Reverende Monache di S. Cosmo            ['housing']               15\n",
       "Monastero di San Maffio di Mazorbo       ['housing', 'storage']    15\n",
       "Name: id, dtype: int64"
      ]
     },
     "execution_count": 29,
     "metadata": {},
     "output_type": "execute_result"
    }
   ],
   "source": [
    "catastici_df.groupby(['entryOwnerText', 'entryCategories'])['id'].count().sort_values(ascending=False).head(20)\n"
   ]
  },
  {
   "cell_type": "code",
   "execution_count": null,
   "metadata": {},
   "outputs": [],
   "source": []
  }
 ],
 "metadata": {
  "kernelspec": {
   "display_name": "Python 3",
   "language": "python",
   "name": "python3"
  },
  "language_info": {
   "codemirror_mode": {
    "name": "ipython",
    "version": 3
   },
   "file_extension": ".py",
   "mimetype": "text/x-python",
   "name": "python",
   "nbconvert_exporter": "python",
   "pygments_lexer": "ipython3",
   "version": "3.8.5"
  }
 },
 "nbformat": 4,
 "nbformat_minor": 5
}
