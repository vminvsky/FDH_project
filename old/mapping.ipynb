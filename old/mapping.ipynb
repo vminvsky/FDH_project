{
 "cells": [
  {
   "cell_type": "code",
   "execution_count": 1,
   "metadata": {},
   "outputs": [],
   "source": [
    "import pandas as pd"
   ]
  },
  {
   "cell_type": "code",
   "execution_count": 2,
   "metadata": {},
   "outputs": [],
   "source": [
    "# importing the raw cadaster & catastici data\n",
    "\n",
    "catastici = pd.read_csv('data\\catastici_1741.csv')\n",
    "cadaster = pd.read_csv(\"data/cadaster_1808.csv\")"
   ]
  },
  {
   "cell_type": "code",
   "execution_count": 3,
   "metadata": {},
   "outputs": [],
   "source": [
    "# convert the parcel categories string into an Array(String)\n",
    "\n",
    "cadaster['parcelCategories'] = cadaster['parcelCategories'].apply(lambda x: eval(x))"
   ]
  },
  {
   "cell_type": "code",
   "execution_count": 4,
   "metadata": {},
   "outputs": [],
   "source": [
    "# we extract the italian words in the cadaster used for naming\n",
    "# the goal of this is to align the object types between the cadaster and catastici\n",
    "\n",
    "italian_words = cadaster['parcelCategories'].apply(pd.Series)\n",
    "italian_words = italian_words.melt()"
   ]
  },
  {
   "cell_type": "code",
   "execution_count": 5,
   "metadata": {},
   "outputs": [
    {
     "name": "stdout",
     "output_type": "stream",
     "text": [
      "Italian words:  ['CASA' 'BOTTEGA' nan 'SCUOLA' 'TEATRO' 'LOCALE' 'MAGAZZENO' 'PIAZZA'\n",
      " 'ORATORIO' 'GIARDINO' 'PALAZZO' 'LOGGIA' 'LUOGO' 'CORTO' 'SOTTOPORTICO'\n",
      " 'APPARTAMENTO' 'STANZA' 'CAMERA' 'AREA' 'LOCANDA' 'CAFFE' 'ANDITO'\n",
      " 'CHIESA' 'CAMPANILE' 'CASOTTO' 'CALLE' 'ATRIO' 'CASERMA' 'VOLTA'\n",
      " 'TERAZZA' 'ACCESSO' 'FORNO' 'ORTO' 'ORTAGLIA' 'FABBRICA' 'MONASTERO'\n",
      " 'SPAZIO' 'CONVENTO' 'SCALLA' 'OSPIZIO' 'CASETTA' 'CASINO' 'SAGRESTIA'\n",
      " 'STRADA' 'CASALE' 'SINAGOGA' 'PORTICO' 'PRATO' 'FORNACE' 'MACELLO'\n",
      " 'CANTIERE' 'INGRESSO' 'RIPOSTIGLIO' 'LATRINE' 'CARCERE' 'ARCHIVIO'\n",
      " 'PASCOLO' 'FONDAMENTA' 'CAVANA' 'SCUDERIA' 'RAFFINARIA' 'ZECCA' 'CAPELLA'\n",
      " 'CIMITERO' 'SQUERO' 'TAGLIAPIETRA' 'OSTERIA' 'OFFICINA' 'UFFICI'\n",
      " 'VENDIVINO' 'TINTORIA' 'STALLA' 'TORRE']\n"
     ]
    }
   ],
   "source": [
    "# print the italian words\n",
    "# then use google translate and other tools to translate these words (manually)\n",
    "print(\"Italian words: \",italian_words['value'].unique())"
   ]
  },
  {
   "cell_type": "code",
   "execution_count": 6,
   "metadata": {},
   "outputs": [],
   "source": [
    "# convert empty lists into None\n",
    "\n",
    "cadaster['parcelCategory'] = cadaster['parcelCategories'].apply(lambda x: x[0] if x != [] else None)"
   ]
  },
  {
   "cell_type": "code",
   "execution_count": 7,
   "metadata": {},
   "outputs": [],
   "source": [
    "# now we'll do the same for the catastici \n",
    "catastici['entryCategories'] = catastici['entryCategories'].apply(lambda x: eval(x))\n",
    "catastici['entryCategories'] = catastici['entryCategories'].apply(lambda x: x[0] if x != [] else None)"
   ]
  },
  {
   "cell_type": "code",
   "execution_count": 8,
   "metadata": {},
   "outputs": [
    {
     "name": "stdout",
     "output_type": "stream",
     "text": [
      "English words:  ['housing' 'storage' 'shop' None 'hospitality' 'administration'\n",
      " 'healthcare' 'entertainment' 'transport' 'palace' 'guild' 'religious']\n"
     ]
    }
   ],
   "source": [
    "print(\"English words: \",catastici['entryCategories'].unique())"
   ]
  },
  {
   "cell_type": "code",
   "execution_count": 9,
   "metadata": {},
   "outputs": [],
   "source": [
    "# here we manually translated the terms from Italian to English\n",
    "# since the english is more restrictive, we convert everything to english\n",
    "\n",
    "translations = [\n",
    "    ['CASA','housing',False], \n",
    "    ['BOTTEGA','shop',False], \n",
    "    ['SCUOLA','religious',True], \n",
    "    ['TEATRO','entertainment',False],\n",
    "    ['LOCALE','shop',True],\n",
    "    ['MAGAZZENO','storage', False],\n",
    "    ['PIAZZA','None', True],\n",
    "    ['ORATORIO','religious',False],\n",
    "    ['GIARDINO','None',False],\n",
    "    ['PALAZZO','palace',False],\n",
    "    ['LOGGIA','guild',True],\n",
    "    ['LUOGO','None', True],\n",
    "    ['CORTO','None',True],\n",
    "    ['SOTTOPORTICO','None',True],\n",
    "    ['APPARTAMENTO','housing',False],\n",
    "    ['STANZA','housing',False],\n",
    "    ['CAMERA','housing',False],\n",
    "    ['AREA','None', True],\n",
    "    ['LOCANDA','hospitality',False],\n",
    "    ['CAFFE','shop',False],\n",
    "    ['ANDITO','None',True],\n",
    "    ['CHIESA','relgious',False],\n",
    "    ['CAMPANILE','religious',True],\n",
    "    ['CASOTTO','housing',False],\n",
    "    ['CALLE','None',True],\n",
    "    ['ATRIO','None',True],\n",
    "    ['CASERMA','administration',True],\n",
    "    ['VOLTA','administration',True],\n",
    "    ['TERAZZA','None',True],\n",
    "    ['ACCESSO','None',True],\n",
    "    ['FORNO','shop',False],\n",
    "    ['ORTO','None',True],\n",
    "    ['ORTAGLIA','None',True],\n",
    "    ['FABRICA','shop',True],\n",
    "    ['MONASTERO','religious',False],\n",
    "    ['SPAZIO','None',True],\n",
    "    ['CONVENT','religious',False],\n",
    "    ['SCALLA','None',True],\n",
    "    ['OSPIZIO','healthcare',False],\n",
    "    ['CASETTA','housing',False],\n",
    "    ['CASINO','entertainment',False],\n",
    "    ['UFFICI','administration',True]\n",
    "]"
   ]
  },
  {
   "cell_type": "code",
   "execution_count": 10,
   "metadata": {},
   "outputs": [],
   "source": [
    "# convert the list into a pandas dataframe for merging\n",
    "\n",
    "translations = pd.DataFrame(translations,columns = ['italian','english','help'])"
   ]
  },
  {
   "cell_type": "code",
   "execution_count": 11,
   "metadata": {},
   "outputs": [],
   "source": [
    "# merge the catastici and the cadaster with the translation \n",
    "\n",
    "merged_cata = catastici.merge(translations, right_on = 'english', left_on = 'entryCategories')\n",
    "merged_cada = cadaster.merge(translations, right_on = 'italian', left_on = 'parcelCategory')"
   ]
  },
  {
   "cell_type": "code",
   "execution_count": null,
   "metadata": {},
   "outputs": [],
   "source": []
  },
  {
   "cell_type": "code",
   "execution_count": 12,
   "metadata": {},
   "outputs": [],
   "source": [
    "# restrict to specific columns\n",
    "cata = merged_cata[['cadaster1808Correspondance','cadaster1808ClosestParcel','italian','english','entryOwnerText']]\n",
    "cata.columns = ['cadaster1808Correspondance','cadaster1808ClosestParcel','italian','english','1748Owner']"
   ]
  },
  {
   "cell_type": "code",
   "execution_count": 13,
   "metadata": {},
   "outputs": [],
   "source": [
    "# restrict to specific columns\n",
    "cada = merged_cada[['parcelOwnerText','english','area','bounds','parcelNumber','subParcelNumber']]\n",
    "cada.columns = ['1808Owner','english','area','bounds','parcelNumber','subParcelNumber']"
   ]
  },
  {
   "cell_type": "code",
   "execution_count": 14,
   "metadata": {},
   "outputs": [],
   "source": [
    "# remove the rows that contain None\n",
    "cada2 = cada[cada['english'] != \"None\"]\n",
    "\n",
    "# develop some metrics \n",
    "total_area_cada = cada2['area'].sum()\n",
    "prop_cada = cada2.groupby(\"english\")['area'].sum()/total_area_cada"
   ]
  },
  {
   "cell_type": "code",
   "execution_count": 15,
   "metadata": {},
   "outputs": [
    {
     "name": "stderr",
     "output_type": "stream",
     "text": [
      "<ipython-input-15-f895ddd1f639>:2: SettingWithCopyWarning: \n",
      "A value is trying to be set on a copy of a slice from a DataFrame.\n",
      "Try using .loc[row_indexer,col_indexer] = value instead\n",
      "\n",
      "See the caveats in the documentation: https://pandas.pydata.org/pandas-docs/stable/user_guide/indexing.html#returning-a-view-versus-a-copy\n",
      "  cata['cadaster1808ClosestParcel'] = cata['cadaster1808ClosestParcel'].astype(str)\n"
     ]
    }
   ],
   "source": [
    "# convert closest parcel to an object for merging \n",
    "cata['cadaster1808ClosestParcel'] = cata['cadaster1808ClosestParcel'].astype(str)\n",
    "\n",
    "cata2 = cata.merge(cada, left_on = 'cadaster1808ClosestParcel',right_on = 'parcelNumber')"
   ]
  },
  {
   "cell_type": "code",
   "execution_count": 1,
   "metadata": {},
   "outputs": [
    {
     "ename": "NameError",
     "evalue": "name 'cata2' is not defined",
     "output_type": "error",
     "traceback": [
      "\u001b[1;31m---------------------------------------------------------------------------\u001b[0m",
      "\u001b[1;31mNameError\u001b[0m                                 Traceback (most recent call last)",
      "\u001b[1;32m<ipython-input-1-f1ea1f4be927>\u001b[0m in \u001b[0;36m<module>\u001b[1;34m\u001b[0m\n\u001b[1;32m----> 1\u001b[1;33m \u001b[0mcata2\u001b[0m\u001b[1;33m\u001b[0m\u001b[1;33m\u001b[0m\u001b[0m\n\u001b[0m",
      "\u001b[1;31mNameError\u001b[0m: name 'cata2' is not defined"
     ]
    }
   ],
   "source": []
  },
  {
   "cell_type": "code",
   "execution_count": 16,
   "metadata": {},
   "outputs": [],
   "source": [
    "# overall metrics\n",
    "total_area = cata2['area'].sum()\n",
    "prop_cata = cata2.groupby('english_x')['area'].sum().sort_values() / total_area"
   ]
  },
  {
   "cell_type": "code",
   "execution_count": 17,
   "metadata": {},
   "outputs": [
    {
     "data": {
      "text/plain": [
       "<matplotlib.legend.Legend at 0x11e3349d9a0>"
      ]
     },
     "execution_count": 17,
     "metadata": {},
     "output_type": "execute_result"
    },
    {
     "data": {
      "image/png": "[encoded data removed]",
      "text/plain": [
       "<Figure size 864x648 with 1 Axes>"
      ]
     },
     "metadata": {
      "needs_background": "light"
     },
     "output_type": "display_data"
    }
   ],
   "source": [
    "# comparing the data types between the two \n",
    "import matplotlib.pyplot as plt\n",
    "fig,ax = plt.subplots(figsize = (12,9))\n",
    "\n",
    "ax.scatter(prop_cata.index, prop_cata.values, label = 'catastici', alpha = 0.7)\n",
    "ax.scatter(prop_cada.index, prop_cada.values, label = 'cadaster', alpha = 0.7)\n",
    "plt.legend()"
   ]
  },
  {
   "cell_type": "markdown",
   "metadata": {},
   "source": [
    "### Connect to the geometrics\n",
    "This will let us plot the comparisons and individual datasets"
   ]
  },
  {
   "cell_type": "code",
   "execution_count": 18,
   "metadata": {},
   "outputs": [],
   "source": [
    "import geopandas\n",
    "gdf = geopandas.read_file('data/cadaster_1808.geojson')"
   ]
  },
  {
   "cell_type": "code",
   "execution_count": 19,
   "metadata": {},
   "outputs": [],
   "source": [
    "# drop None values\n",
    "cata2.dropna(subset=['english_x','english_y'], inplace=True)"
   ]
  },
  {
   "cell_type": "code",
   "execution_count": 20,
   "metadata": {},
   "outputs": [],
   "source": [
    "# define the group by for the location metadata\n",
    "parcel_grouped = cata2.groupby('cadaster1808Correspondance')\\\n",
    "    .agg({'english_x': list,'english_y': list,'area':'mean', '1748Owner': \\\n",
    "    list, '1808Owner': list}).reset_index()"
   ]
  },
  {
   "cell_type": "code",
   "execution_count": null,
   "metadata": {},
   "outputs": [],
   "source": []
  },
  {
   "cell_type": "code",
   "execution_count": 21,
   "metadata": {},
   "outputs": [],
   "source": [
    "# question: how to add a value \n",
    "\n",
    "parcel_grouped['english_cata'] = parcel_grouped['english_x'].apply(lambda x: x[0])\n",
    "parcel_grouped['english_cada'] = parcel_grouped['english_y'].apply(lambda x: x[0])\n",
    "parcel_grouped['1748Owner'] = parcel_grouped['1748Owner'].apply(lambda x: x[0])\n",
    "parcel_grouped['1808Owner'] = parcel_grouped['1808Owner'].apply(lambda x: x[0])\n",
    "parcel_grouped.drop(['english_x','english_y'], axis =1, inplace=True)"
   ]
  },
  {
   "cell_type": "code",
   "execution_count": 22,
   "metadata": {},
   "outputs": [
    {
     "data": {
      "text/html": [
       "<div>\n",
       "<style scoped>\n",
       "    .dataframe tbody tr th:only-of-type {\n",
       "        vertical-align: middle;\n",
       "    }\n",
       "\n",
       "    .dataframe tbody tr th {\n",
       "        vertical-align: top;\n",
       "    }\n",
       "\n",
       "    .dataframe thead th {\n",
       "        text-align: right;\n",
       "    }\n",
       "</style>\n",
       "<table border=\"1\" class=\"dataframe\">\n",
       "  <thead>\n",
       "    <tr style=\"text-align: right;\">\n",
       "      <th></th>\n",
       "      <th>cadaster1808Correspondance</th>\n",
       "      <th>area</th>\n",
       "      <th>1748Owner</th>\n",
       "      <th>1808Owner</th>\n",
       "      <th>english_cata</th>\n",
       "      <th>english_cada</th>\n",
       "    </tr>\n",
       "  </thead>\n",
       "  <tbody>\n",
       "    <tr>\n",
       "      <th>0</th>\n",
       "      <td>3.0</td>\n",
       "      <td>80.042</td>\n",
       "      <td>Padre Felippo Rota per eredi della quondam Dom...</td>\n",
       "      <td>BELLI Angelo Livellario di Lorenzo Tiepolo</td>\n",
       "      <td>housing</td>\n",
       "      <td>shop</td>\n",
       "    </tr>\n",
       "    <tr>\n",
       "      <th>2</th>\n",
       "      <td>8.0</td>\n",
       "      <td>105.043</td>\n",
       "      <td>Vincenzo e fratelli Grimani</td>\n",
       "      <td>BRAGADINI Giovanni q. Gaspare</td>\n",
       "      <td>storage</td>\n",
       "      <td>housing</td>\n",
       "    </tr>\n",
       "    <tr>\n",
       "      <th>3</th>\n",
       "      <td>9.0</td>\n",
       "      <td>161.716</td>\n",
       "      <td>Ferigo Calbo</td>\n",
       "      <td>CROTTA Lucrezia vedova CALVO</td>\n",
       "      <td>housing</td>\n",
       "      <td>shop</td>\n",
       "    </tr>\n",
       "    <tr>\n",
       "      <th>4</th>\n",
       "      <td>11.0</td>\n",
       "      <td>993.866</td>\n",
       "      <td>Zuanne et Fratelli Toderini</td>\n",
       "      <td>TODARINI Luigi q. Giuseppe, e Ferdinando q. Te...</td>\n",
       "      <td>housing</td>\n",
       "      <td>shop</td>\n",
       "    </tr>\n",
       "    <tr>\n",
       "      <th>5</th>\n",
       "      <td>15.0</td>\n",
       "      <td>667.818</td>\n",
       "      <td>Scola di San Fantin</td>\n",
       "      <td>DEMANIO Suddetto [NAZIONALE]</td>\n",
       "      <td>housing</td>\n",
       "      <td>shop</td>\n",
       "    </tr>\n",
       "    <tr>\n",
       "      <th>...</th>\n",
       "      <td>...</td>\n",
       "      <td>...</td>\n",
       "      <td>...</td>\n",
       "      <td>...</td>\n",
       "      <td>...</td>\n",
       "      <td>...</td>\n",
       "    </tr>\n",
       "    <tr>\n",
       "      <th>1384</th>\n",
       "      <td>11872.0</td>\n",
       "      <td>422.203</td>\n",
       "      <td>Zuanne de Boni Zavater</td>\n",
       "      <td>CITTA' DI VENEZIA</td>\n",
       "      <td>guild</td>\n",
       "      <td>shop</td>\n",
       "    </tr>\n",
       "    <tr>\n",
       "      <th>1390</th>\n",
       "      <td>11885.0</td>\n",
       "      <td>114.905</td>\n",
       "      <td>Anzolo, e Fratelli Marcello</td>\n",
       "      <td>MARCELLO Angelo q.m Gerolamo</td>\n",
       "      <td>storage</td>\n",
       "      <td>housing</td>\n",
       "    </tr>\n",
       "    <tr>\n",
       "      <th>1391</th>\n",
       "      <td>11886.0</td>\n",
       "      <td>213.598</td>\n",
       "      <td>Anzolo Marcello, e Fratelli</td>\n",
       "      <td>MARCELLO Angelo q.m Gerolamo</td>\n",
       "      <td>storage</td>\n",
       "      <td>housing</td>\n",
       "    </tr>\n",
       "    <tr>\n",
       "      <th>1395</th>\n",
       "      <td>11895.0</td>\n",
       "      <td>119.464</td>\n",
       "      <td>Pietro Grimani San Luca</td>\n",
       "      <td>SAGREDO Giovanni q.m Francesco</td>\n",
       "      <td>shop</td>\n",
       "      <td>housing</td>\n",
       "    </tr>\n",
       "    <tr>\n",
       "      <th>1398</th>\n",
       "      <td>11900.0</td>\n",
       "      <td>418.770</td>\n",
       "      <td>Tomaso Morosini</td>\n",
       "      <td>MOROSINI Costantino q.m Giovanni Battista</td>\n",
       "      <td>shop</td>\n",
       "      <td>housing</td>\n",
       "    </tr>\n",
       "  </tbody>\n",
       "</table>\n",
       "<p>447 rows × 6 columns</p>\n",
       "</div>"
      ],
      "text/plain": [
       "      cadaster1808Correspondance     area  \\\n",
       "0                            3.0   80.042   \n",
       "2                            8.0  105.043   \n",
       "3                            9.0  161.716   \n",
       "4                           11.0  993.866   \n",
       "5                           15.0  667.818   \n",
       "...                          ...      ...   \n",
       "1384                     11872.0  422.203   \n",
       "1390                     11885.0  114.905   \n",
       "1391                     11886.0  213.598   \n",
       "1395                     11895.0  119.464   \n",
       "1398                     11900.0  418.770   \n",
       "\n",
       "                                              1748Owner  \\\n",
       "0     Padre Felippo Rota per eredi della quondam Dom...   \n",
       "2                           Vincenzo e fratelli Grimani   \n",
       "3                                          Ferigo Calbo   \n",
       "4                           Zuanne et Fratelli Toderini   \n",
       "5                                   Scola di San Fantin   \n",
       "...                                                 ...   \n",
       "1384                             Zuanne de Boni Zavater   \n",
       "1390                        Anzolo, e Fratelli Marcello   \n",
       "1391                        Anzolo Marcello, e Fratelli   \n",
       "1395                            Pietro Grimani San Luca   \n",
       "1398                                    Tomaso Morosini   \n",
       "\n",
       "                                              1808Owner english_cata  \\\n",
       "0            BELLI Angelo Livellario di Lorenzo Tiepolo      housing   \n",
       "2                         BRAGADINI Giovanni q. Gaspare      storage   \n",
       "3                          CROTTA Lucrezia vedova CALVO      housing   \n",
       "4     TODARINI Luigi q. Giuseppe, e Ferdinando q. Te...      housing   \n",
       "5                          DEMANIO Suddetto [NAZIONALE]      housing   \n",
       "...                                                 ...          ...   \n",
       "1384                                  CITTA' DI VENEZIA        guild   \n",
       "1390                       MARCELLO Angelo q.m Gerolamo      storage   \n",
       "1391                       MARCELLO Angelo q.m Gerolamo      storage   \n",
       "1395                     SAGREDO Giovanni q.m Francesco         shop   \n",
       "1398          MOROSINI Costantino q.m Giovanni Battista         shop   \n",
       "\n",
       "     english_cada  \n",
       "0            shop  \n",
       "2         housing  \n",
       "3            shop  \n",
       "4            shop  \n",
       "5            shop  \n",
       "...           ...  \n",
       "1384         shop  \n",
       "1390      housing  \n",
       "1391      housing  \n",
       "1395      housing  \n",
       "1398      housing  \n",
       "\n",
       "[447 rows x 6 columns]"
      ]
     },
     "execution_count": 22,
     "metadata": {},
     "output_type": "execute_result"
    }
   ],
   "source": [
    "parcel_grouped[parcel_grouped['english_cata'] != parcel_grouped['english_cada']]"
   ]
  },
  {
   "cell_type": "code",
   "execution_count": 23,
   "metadata": {},
   "outputs": [],
   "source": [
    "parcel_grouped['parcel_number'] = parcel_grouped['cadaster1808Correspondance']\n",
    "del parcel_grouped['cadaster1808Correspondance']"
   ]
  },
  {
   "cell_type": "code",
   "execution_count": 24,
   "metadata": {},
   "outputs": [],
   "source": [
    "parcel_grouped.parcel_number = parcel_grouped.parcel_number.astype(int).astype(str)"
   ]
  },
  {
   "cell_type": "code",
   "execution_count": 25,
   "metadata": {},
   "outputs": [],
   "source": [
    "parcel_grouped['change'] = parcel_grouped.apply(lambda x: 1 if x['english_cata'] != x['english_cada'] else 0, axis =1)"
   ]
  },
  {
   "cell_type": "code",
   "execution_count": 63,
   "metadata": {},
   "outputs": [],
   "source": [
    "t = gdf.merge(parcel_grouped)"
   ]
  },
  {
   "cell_type": "code",
   "execution_count": 64,
   "metadata": {},
   "outputs": [],
   "source": [
    "t.to_file(\"data/comparison.geojson\", driver='GeoJSON')\n"
   ]
  },
  {
   "cell_type": "code",
   "execution_count": null,
   "metadata": {},
   "outputs": [],
   "source": []
  },
  {
   "cell_type": "code",
   "execution_count": 27,
   "metadata": {},
   "outputs": [
    {
     "name": "stderr",
     "output_type": "stream",
     "text": [
      "<ipython-input-27-ff08c9747145>:1: SettingWithCopyWarning: \n",
      "A value is trying to be set on a copy of a slice from a DataFrame.\n",
      "Try using .loc[row_indexer,col_indexer] = value instead\n",
      "\n",
      "See the caveats in the documentation: https://pandas.pydata.org/pandas-docs/stable/user_guide/indexing.html#returning-a-view-versus-a-copy\n",
      "  cada['parcel_number'] = cada['parcelNumber']\n"
     ]
    }
   ],
   "source": [
    "cada['parcel_number'] = cada['parcelNumber']\n",
    "del cada['parcelNumber']"
   ]
  },
  {
   "cell_type": "code",
   "execution_count": 28,
   "metadata": {},
   "outputs": [
    {
     "name": "stderr",
     "output_type": "stream",
     "text": [
      "C:\\Users\\Venia\\anaconda3\\lib\\site-packages\\pandas\\core\\frame.py:4163: SettingWithCopyWarning: \n",
      "A value is trying to be set on a copy of a slice from a DataFrame\n",
      "\n",
      "See the caveats in the documentation: https://pandas.pydata.org/pandas-docs/stable/user_guide/indexing.html#returning-a-view-versus-a-copy\n",
      "  return super().drop(\n"
     ]
    }
   ],
   "source": [
    "cada.drop(['bounds'],axis=1, inplace=True)"
   ]
  },
  {
   "cell_type": "code",
   "execution_count": 29,
   "metadata": {},
   "outputs": [
    {
     "data": {
      "text/html": [
       "<div>\n",
       "<style scoped>\n",
       "    .dataframe tbody tr th:only-of-type {\n",
       "        vertical-align: middle;\n",
       "    }\n",
       "\n",
       "    .dataframe tbody tr th {\n",
       "        vertical-align: top;\n",
       "    }\n",
       "\n",
       "    .dataframe thead th {\n",
       "        text-align: right;\n",
       "    }\n",
       "</style>\n",
       "<table border=\"1\" class=\"dataframe\">\n",
       "  <thead>\n",
       "    <tr style=\"text-align: right;\">\n",
       "      <th></th>\n",
       "      <th>1808Owner</th>\n",
       "      <th>english</th>\n",
       "      <th>area</th>\n",
       "      <th>subParcelNumber</th>\n",
       "      <th>parcel_number</th>\n",
       "    </tr>\n",
       "  </thead>\n",
       "  <tbody>\n",
       "    <tr>\n",
       "      <th>15530</th>\n",
       "      <td>N.</td>\n",
       "      <td>housing</td>\n",
       "      <td>582.868</td>\n",
       "      <td>NaN</td>\n",
       "      <td>15545 1/2</td>\n",
       "    </tr>\n",
       "  </tbody>\n",
       "</table>\n",
       "</div>"
      ],
      "text/plain": [
       "      1808Owner  english     area subParcelNumber parcel_number\n",
       "15530        N.  housing  582.868             NaN     15545 1/2"
      ]
     },
     "execution_count": 29,
     "metadata": {},
     "output_type": "execute_result"
    }
   ],
   "source": [
    "cada[cada['parcel_number'] == '15545 1/2']"
   ]
  },
  {
   "cell_type": "markdown",
   "metadata": {},
   "source": [
    "## Extract the family names "
   ]
  },
  {
   "cell_type": "code",
   "execution_count": 36,
   "metadata": {
    "scrolled": false
   },
   "outputs": [],
   "source": [
    "list_family_names = pd.read_csv(\"https://raw.githubusercontent.com/vminvsky/FDH_project/main/data/Venice_list_of_names.csv\", sep='\\t\"')\n",
    "\n",
    "list_family_names = list_family_names.apply(lambda x: x.str.replace(\"\\\"\", \"\"))\n",
    "\n",
    "list_family_names.columns = [ 'family', '1808', 'Noble', 'Citoyen', 'famille.12e.siecle']\n",
    "\n",
    "list_family_names.index = list_family_names.index.map(lambda x: x.replace(\"\\\"\", \"\"))\n",
    "\n",
    "family_name_options = list_family_names['family'].values\n"
   ]
  },
  {
   "cell_type": "code",
   "execution_count": null,
   "metadata": {},
   "outputs": [],
   "source": [
    "from fuzzywuzzy import fuzz, process\n",
    "tenant_name = cada['1808Owner'].apply(lambda x: process.extractOne(x,family_name_options, scorer=fuzz.token_set_ratio))\n"
   ]
  },
  {
   "cell_type": "code",
   "execution_count": 37,
   "metadata": {},
   "outputs": [
    {
     "data": {
      "text/plain": [
       "0                          PAGANI - Concorso de' creditori\n",
       "1                               TIEPOLO Gerolamo q. Almorò\n",
       "2        PAGANI - Concorso come sopra al N° 1 [de' cred...\n",
       "3                                TIEPOLO Lorenzo q. Almorò\n",
       "4                                ZEN Antonio q. Sebastiano\n",
       "                               ...                        \n",
       "22656                       Coletti Nicolò quondam Florian\n",
       "22657    Vigonzo Margarita, vedova di Morosini Francesc...\n",
       "22658      Suddetto [Zen Carlo, e fratelli quondam Renier]\n",
       "22659                                             Suddetta\n",
       "22660    TOGNELLA Marco q.m. Alessandro, PLONDER Don Pi...\n",
       "Name: 1808Owner, Length: 22661, dtype: object"
      ]
     },
     "execution_count": 37,
     "metadata": {},
     "output_type": "execute_result"
    }
   ],
   "source": [
    "cada['1808Owner']"
   ]
  },
  {
   "cell_type": "code",
   "execution_count": null,
   "metadata": {},
   "outputs": [],
   "source": []
  }
 ],
 "metadata": {
  "kernelspec": {
   "display_name": "Python 3",
   "language": "python",
   "name": "python3"
  },
  "language_info": {
   "codemirror_mode": {
    "name": "ipython",
    "version": 3
   },
   "file_extension": ".py",
   "mimetype": "text/x-python",
   "name": "python",
   "nbconvert_exporter": "python",
   "pygments_lexer": "ipython3",
   "version": "3.8.5"
  }
 },
 "nbformat": 4,
 "nbformat_minor": 4
}
